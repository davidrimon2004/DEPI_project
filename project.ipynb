{
 "cells": [
  {
   "cell_type": "markdown",
   "id": "def62865",
   "metadata": {
    "id": "view-in-github",
    "papermill": {
     "duration": 0.004958,
     "end_time": "2025-10-13T20:30:42.334459",
     "exception": false,
     "start_time": "2025-10-13T20:30:42.329501",
     "status": "completed"
    },
    "tags": []
   },
   "source": [
    "<a href=\"https://colab.research.google.com/github/davidrimon2004/DEPI_project/blob/main/project.ipynb\" target=\"_parent\"><img src=\"https://colab.research.google.com/assets/colab-badge.svg\" alt=\"Open In Colab\"/></a>"
   ]
  },
  {
   "cell_type": "markdown",
   "id": "65f98d27",
   "metadata": {
    "id": "s_FCmSEucMP8",
    "papermill": {
     "duration": 0.003894,
     "end_time": "2025-10-13T20:30:42.342797",
     "exception": false,
     "start_time": "2025-10-13T20:30:42.338903",
     "status": "completed"
    },
    "tags": []
   },
   "source": [
    "# Problem Formulation"
   ]
  },
  {
   "cell_type": "markdown",
   "id": "5935ac85",
   "metadata": {
    "id": "IZ2kz-h7b0lb",
    "papermill": {
     "duration": 0.003914,
     "end_time": "2025-10-13T20:30:42.350875",
     "exception": false,
     "start_time": "2025-10-13T20:30:42.346961",
     "status": "completed"
    },
    "tags": []
   },
   "source": [
    "## Problem Description:\n",
    "This project aims to develop a machine learning model that predicts future sales\n",
    "and demand by utilising historical sales data and external factors, including\n",
    "product details, promotions, seasonality, holidays, and economic indicators. The\n",
    "goal is to analyse historical patterns and generate reliable forecasts that help\n",
    "businesses make data-driven decisions to reduce costs, increase efficiency, and\n",
    "improve customer satisfaction by predicting the daily sales for the next 28 days.\n",
    "\n",
    "## Objectives\n",
    "\n",
    "● Collect and preprocess historical sales and demand data.\n",
    "\n",
    "● Identify key features that influence sales trends.\n",
    "\n",
    "● Build, train, and optimise forecasting models to predict future sales and\n",
    "demand.\n",
    "\n",
    "● Deploy the best-performing model to generate forecasts in real-time or in\n",
    "batches.\n",
    "## Data source:\n",
    "Hierarchical sales data from Walmart, the world’s largest company by revenue in the US.\n",
    "\n"
   ]
  },
  {
   "cell_type": "markdown",
   "id": "179b2463",
   "metadata": {
    "id": "5lIA_xQc7fqX",
    "papermill": {
     "duration": 0.004864,
     "end_time": "2025-10-13T20:30:42.360667",
     "exception": false,
     "start_time": "2025-10-13T20:30:42.355803",
     "status": "completed"
    },
    "tags": []
   },
   "source": [
    "# Code setup"
   ]
  },
  {
   "cell_type": "markdown",
   "id": "747150c8",
   "metadata": {
    "id": "7OMw4fyN5fIK",
    "papermill": {
     "duration": 0.004223,
     "end_time": "2025-10-13T20:30:42.369655",
     "exception": false,
     "start_time": "2025-10-13T20:30:42.365432",
     "status": "completed"
    },
    "tags": []
   },
   "source": [
    "## Important libraries"
   ]
  },
  {
   "cell_type": "code",
   "execution_count": 1,
   "id": "f8ecf5a0",
   "metadata": {
    "execution": {
     "iopub.execute_input": "2025-10-13T20:30:42.379177Z",
     "iopub.status.busy": "2025-10-13T20:30:42.378852Z",
     "iopub.status.idle": "2025-10-13T20:30:44.572353Z",
     "shell.execute_reply": "2025-10-13T20:30:44.571060Z"
    },
    "id": "oDECRqp15tkC",
    "papermill": {
     "duration": 2.200603,
     "end_time": "2025-10-13T20:30:44.574332",
     "exception": false,
     "start_time": "2025-10-13T20:30:42.373729",
     "status": "completed"
    },
    "tags": []
   },
   "outputs": [],
   "source": [
    "import pandas as pd\n",
    "import numpy as np"
   ]
  },
  {
   "cell_type": "markdown",
   "id": "b23c2a69",
   "metadata": {
    "id": "1IFGdC2i7j2Z",
    "papermill": {
     "duration": 0.003857,
     "end_time": "2025-10-13T20:30:44.582690",
     "exception": false,
     "start_time": "2025-10-13T20:30:44.578833",
     "status": "completed"
    },
    "tags": []
   },
   "source": [
    "## data reading"
   ]
  },
  {
   "cell_type": "code",
   "execution_count": 2,
   "id": "a3fb592c",
   "metadata": {
    "execution": {
     "iopub.execute_input": "2025-10-13T20:30:44.592891Z",
     "iopub.status.busy": "2025-10-13T20:30:44.592406Z",
     "iopub.status.idle": "2025-10-13T20:30:50.460215Z",
     "shell.execute_reply": "2025-10-13T20:30:50.458713Z"
    },
    "id": "M0Iw4aOWd-Cu",
    "outputId": "cf9266b6-c55f-44bd-bceb-3af1faf46b39",
    "papermill": {
     "duration": 5.874886,
     "end_time": "2025-10-13T20:30:50.462174",
     "exception": false,
     "start_time": "2025-10-13T20:30:44.587288",
     "status": "completed"
    },
    "tags": []
   },
   "outputs": [
    {
     "data": {
      "text/html": [
       "<div>\n",
       "<style scoped>\n",
       "    .dataframe tbody tr th:only-of-type {\n",
       "        vertical-align: middle;\n",
       "    }\n",
       "\n",
       "    .dataframe tbody tr th {\n",
       "        vertical-align: top;\n",
       "    }\n",
       "\n",
       "    .dataframe thead th {\n",
       "        text-align: right;\n",
       "    }\n",
       "</style>\n",
       "<table border=\"1\" class=\"dataframe\">\n",
       "  <thead>\n",
       "    <tr style=\"text-align: right;\">\n",
       "      <th></th>\n",
       "      <th>id</th>\n",
       "      <th>item_id</th>\n",
       "      <th>dept_id</th>\n",
       "      <th>cat_id</th>\n",
       "      <th>store_id</th>\n",
       "      <th>state_id</th>\n",
       "      <th>d_1</th>\n",
       "      <th>d_2</th>\n",
       "      <th>d_3</th>\n",
       "      <th>d_4</th>\n",
       "      <th>...</th>\n",
       "      <th>d_1904</th>\n",
       "      <th>d_1905</th>\n",
       "      <th>d_1906</th>\n",
       "      <th>d_1907</th>\n",
       "      <th>d_1908</th>\n",
       "      <th>d_1909</th>\n",
       "      <th>d_1910</th>\n",
       "      <th>d_1911</th>\n",
       "      <th>d_1912</th>\n",
       "      <th>d_1913</th>\n",
       "    </tr>\n",
       "  </thead>\n",
       "  <tbody>\n",
       "    <tr>\n",
       "      <th>0</th>\n",
       "      <td>HOBBIES_1_001_CA_1_validation</td>\n",
       "      <td>HOBBIES_1_001</td>\n",
       "      <td>HOBBIES_1</td>\n",
       "      <td>HOBBIES</td>\n",
       "      <td>CA_1</td>\n",
       "      <td>CA</td>\n",
       "      <td>0</td>\n",
       "      <td>0</td>\n",
       "      <td>0</td>\n",
       "      <td>0</td>\n",
       "      <td>...</td>\n",
       "      <td>1</td>\n",
       "      <td>3</td>\n",
       "      <td>0</td>\n",
       "      <td>1</td>\n",
       "      <td>1</td>\n",
       "      <td>1</td>\n",
       "      <td>3</td>\n",
       "      <td>0</td>\n",
       "      <td>1</td>\n",
       "      <td>1</td>\n",
       "    </tr>\n",
       "    <tr>\n",
       "      <th>1</th>\n",
       "      <td>HOBBIES_1_002_CA_1_validation</td>\n",
       "      <td>HOBBIES_1_002</td>\n",
       "      <td>HOBBIES_1</td>\n",
       "      <td>HOBBIES</td>\n",
       "      <td>CA_1</td>\n",
       "      <td>CA</td>\n",
       "      <td>0</td>\n",
       "      <td>0</td>\n",
       "      <td>0</td>\n",
       "      <td>0</td>\n",
       "      <td>...</td>\n",
       "      <td>0</td>\n",
       "      <td>0</td>\n",
       "      <td>0</td>\n",
       "      <td>0</td>\n",
       "      <td>0</td>\n",
       "      <td>1</td>\n",
       "      <td>0</td>\n",
       "      <td>0</td>\n",
       "      <td>0</td>\n",
       "      <td>0</td>\n",
       "    </tr>\n",
       "    <tr>\n",
       "      <th>2</th>\n",
       "      <td>HOBBIES_1_003_CA_1_validation</td>\n",
       "      <td>HOBBIES_1_003</td>\n",
       "      <td>HOBBIES_1</td>\n",
       "      <td>HOBBIES</td>\n",
       "      <td>CA_1</td>\n",
       "      <td>CA</td>\n",
       "      <td>0</td>\n",
       "      <td>0</td>\n",
       "      <td>0</td>\n",
       "      <td>0</td>\n",
       "      <td>...</td>\n",
       "      <td>2</td>\n",
       "      <td>1</td>\n",
       "      <td>2</td>\n",
       "      <td>1</td>\n",
       "      <td>1</td>\n",
       "      <td>1</td>\n",
       "      <td>0</td>\n",
       "      <td>1</td>\n",
       "      <td>1</td>\n",
       "      <td>1</td>\n",
       "    </tr>\n",
       "  </tbody>\n",
       "</table>\n",
       "<p>3 rows × 1919 columns</p>\n",
       "</div>"
      ],
      "text/plain": [
       "                              id        item_id    dept_id   cat_id store_id  \\\n",
       "0  HOBBIES_1_001_CA_1_validation  HOBBIES_1_001  HOBBIES_1  HOBBIES     CA_1   \n",
       "1  HOBBIES_1_002_CA_1_validation  HOBBIES_1_002  HOBBIES_1  HOBBIES     CA_1   \n",
       "2  HOBBIES_1_003_CA_1_validation  HOBBIES_1_003  HOBBIES_1  HOBBIES     CA_1   \n",
       "\n",
       "  state_id  d_1  d_2  d_3  d_4  ...  d_1904  d_1905  d_1906  d_1907  d_1908  \\\n",
       "0       CA    0    0    0    0  ...       1       3       0       1       1   \n",
       "1       CA    0    0    0    0  ...       0       0       0       0       0   \n",
       "2       CA    0    0    0    0  ...       2       1       2       1       1   \n",
       "\n",
       "   d_1909  d_1910  d_1911  d_1912  d_1913  \n",
       "0       1       3       0       1       1  \n",
       "1       1       0       0       0       0  \n",
       "2       1       0       1       1       1  \n",
       "\n",
       "[3 rows x 1919 columns]"
      ]
     },
     "execution_count": 2,
     "metadata": {},
     "output_type": "execute_result"
    }
   ],
   "source": [
    "sales_validation=pd.read_csv('/kaggle/input/m5-forecasting-accuracy/sales_train_validation.csv')\n",
    "sales_validation.head(3)"
   ]
  },
  {
   "cell_type": "code",
   "execution_count": 3,
   "id": "fd2d2e51",
   "metadata": {
    "execution": {
     "iopub.execute_input": "2025-10-13T20:30:50.472630Z",
     "iopub.status.busy": "2025-10-13T20:30:50.472295Z",
     "iopub.status.idle": "2025-10-13T20:30:50.496151Z",
     "shell.execute_reply": "2025-10-13T20:30:50.494830Z"
    },
    "id": "qq-1suzw7t7R",
    "outputId": "50c8774b-42a1-4225-9b04-0bbabde67430",
    "papermill": {
     "duration": 0.031186,
     "end_time": "2025-10-13T20:30:50.497995",
     "exception": false,
     "start_time": "2025-10-13T20:30:50.466809",
     "status": "completed"
    },
    "tags": []
   },
   "outputs": [
    {
     "data": {
      "text/html": [
       "<div>\n",
       "<style scoped>\n",
       "    .dataframe tbody tr th:only-of-type {\n",
       "        vertical-align: middle;\n",
       "    }\n",
       "\n",
       "    .dataframe tbody tr th {\n",
       "        vertical-align: top;\n",
       "    }\n",
       "\n",
       "    .dataframe thead th {\n",
       "        text-align: right;\n",
       "    }\n",
       "</style>\n",
       "<table border=\"1\" class=\"dataframe\">\n",
       "  <thead>\n",
       "    <tr style=\"text-align: right;\">\n",
       "      <th></th>\n",
       "      <th>date</th>\n",
       "      <th>wm_yr_wk</th>\n",
       "      <th>weekday</th>\n",
       "      <th>wday</th>\n",
       "      <th>month</th>\n",
       "      <th>year</th>\n",
       "      <th>d</th>\n",
       "      <th>event_name_1</th>\n",
       "      <th>event_type_1</th>\n",
       "      <th>event_name_2</th>\n",
       "      <th>event_type_2</th>\n",
       "      <th>snap_CA</th>\n",
       "      <th>snap_TX</th>\n",
       "      <th>snap_WI</th>\n",
       "    </tr>\n",
       "  </thead>\n",
       "  <tbody>\n",
       "    <tr>\n",
       "      <th>0</th>\n",
       "      <td>2011-01-29</td>\n",
       "      <td>11101</td>\n",
       "      <td>Saturday</td>\n",
       "      <td>1</td>\n",
       "      <td>1</td>\n",
       "      <td>2011</td>\n",
       "      <td>d_1</td>\n",
       "      <td>NaN</td>\n",
       "      <td>NaN</td>\n",
       "      <td>NaN</td>\n",
       "      <td>NaN</td>\n",
       "      <td>0</td>\n",
       "      <td>0</td>\n",
       "      <td>0</td>\n",
       "    </tr>\n",
       "    <tr>\n",
       "      <th>1</th>\n",
       "      <td>2011-01-30</td>\n",
       "      <td>11101</td>\n",
       "      <td>Sunday</td>\n",
       "      <td>2</td>\n",
       "      <td>1</td>\n",
       "      <td>2011</td>\n",
       "      <td>d_2</td>\n",
       "      <td>NaN</td>\n",
       "      <td>NaN</td>\n",
       "      <td>NaN</td>\n",
       "      <td>NaN</td>\n",
       "      <td>0</td>\n",
       "      <td>0</td>\n",
       "      <td>0</td>\n",
       "    </tr>\n",
       "    <tr>\n",
       "      <th>2</th>\n",
       "      <td>2011-01-31</td>\n",
       "      <td>11101</td>\n",
       "      <td>Monday</td>\n",
       "      <td>3</td>\n",
       "      <td>1</td>\n",
       "      <td>2011</td>\n",
       "      <td>d_3</td>\n",
       "      <td>NaN</td>\n",
       "      <td>NaN</td>\n",
       "      <td>NaN</td>\n",
       "      <td>NaN</td>\n",
       "      <td>0</td>\n",
       "      <td>0</td>\n",
       "      <td>0</td>\n",
       "    </tr>\n",
       "  </tbody>\n",
       "</table>\n",
       "</div>"
      ],
      "text/plain": [
       "         date  wm_yr_wk   weekday  wday  month  year    d event_name_1  \\\n",
       "0  2011-01-29     11101  Saturday     1      1  2011  d_1          NaN   \n",
       "1  2011-01-30     11101    Sunday     2      1  2011  d_2          NaN   \n",
       "2  2011-01-31     11101    Monday     3      1  2011  d_3          NaN   \n",
       "\n",
       "  event_type_1 event_name_2 event_type_2  snap_CA  snap_TX  snap_WI  \n",
       "0          NaN          NaN          NaN        0        0        0  \n",
       "1          NaN          NaN          NaN        0        0        0  \n",
       "2          NaN          NaN          NaN        0        0        0  "
      ]
     },
     "execution_count": 3,
     "metadata": {},
     "output_type": "execute_result"
    }
   ],
   "source": [
    "cal=pd.read_csv('/kaggle/input/m5-forecasting-accuracy/calendar.csv')\n",
    "cal.head(3)"
   ]
  },
  {
   "cell_type": "code",
   "execution_count": 4,
   "id": "31e47002",
   "metadata": {
    "execution": {
     "iopub.execute_input": "2025-10-13T20:30:50.508838Z",
     "iopub.status.busy": "2025-10-13T20:30:50.508514Z",
     "iopub.status.idle": "2025-10-13T20:30:50.513085Z",
     "shell.execute_reply": "2025-10-13T20:30:50.512238Z"
    },
    "id": "yp1qnhNo7vZ_",
    "outputId": "f3cddbee-50e7-4e0e-88fc-6c162f934581",
    "papermill": {
     "duration": 0.011897,
     "end_time": "2025-10-13T20:30:50.514663",
     "exception": false,
     "start_time": "2025-10-13T20:30:50.502766",
     "status": "completed"
    },
    "tags": []
   },
   "outputs": [],
   "source": [
    "#temp_data = pd.read_csv('/kaggle/working/temp_data.csv')\n",
    "#temp_data.head(3)"
   ]
  },
  {
   "cell_type": "markdown",
   "id": "4b03986e",
   "metadata": {
    "id": "uoj5dvrd74PB",
    "papermill": {
     "duration": 0.004248,
     "end_time": "2025-10-13T20:30:50.523609",
     "exception": false,
     "start_time": "2025-10-13T20:30:50.519361",
     "status": "completed"
    },
    "tags": []
   },
   "source": [
    "# EDA"
   ]
  },
  {
   "cell_type": "code",
   "execution_count": 5,
   "id": "99df3674",
   "metadata": {
    "execution": {
     "iopub.execute_input": "2025-10-13T20:30:50.534018Z",
     "iopub.status.busy": "2025-10-13T20:30:50.533634Z",
     "iopub.status.idle": "2025-10-13T20:30:50.537848Z",
     "shell.execute_reply": "2025-10-13T20:30:50.536997Z"
    },
    "id": "yujaEOuj775v",
    "papermill": {
     "duration": 0.011395,
     "end_time": "2025-10-13T20:30:50.539566",
     "exception": false,
     "start_time": "2025-10-13T20:30:50.528171",
     "status": "completed"
    },
    "tags": []
   },
   "outputs": [],
   "source": [
    "#data.head(20)"
   ]
  },
  {
   "cell_type": "code",
   "execution_count": 6,
   "id": "2c73d0a3",
   "metadata": {
    "execution": {
     "iopub.execute_input": "2025-10-13T20:30:50.550022Z",
     "iopub.status.busy": "2025-10-13T20:30:50.549606Z",
     "iopub.status.idle": "2025-10-13T20:30:50.578586Z",
     "shell.execute_reply": "2025-10-13T20:30:50.577304Z"
    },
    "id": "ZbXpsceo8QCN",
    "papermill": {
     "duration": 0.036045,
     "end_time": "2025-10-13T20:30:50.580293",
     "exception": false,
     "start_time": "2025-10-13T20:30:50.544248",
     "status": "completed"
    },
    "tags": []
   },
   "outputs": [
    {
     "name": "stdout",
     "output_type": "stream",
     "text": [
      "<class 'pandas.core.frame.DataFrame'>\n",
      "RangeIndex: 1969 entries, 0 to 1968\n",
      "Data columns (total 14 columns):\n",
      " #   Column        Non-Null Count  Dtype \n",
      "---  ------        --------------  ----- \n",
      " 0   date          1969 non-null   object\n",
      " 1   wm_yr_wk      1969 non-null   int64 \n",
      " 2   weekday       1969 non-null   object\n",
      " 3   wday          1969 non-null   int64 \n",
      " 4   month         1969 non-null   int64 \n",
      " 5   year          1969 non-null   int64 \n",
      " 6   d             1969 non-null   object\n",
      " 7   event_name_1  162 non-null    object\n",
      " 8   event_type_1  162 non-null    object\n",
      " 9   event_name_2  5 non-null      object\n",
      " 10  event_type_2  5 non-null      object\n",
      " 11  snap_CA       1969 non-null   int64 \n",
      " 12  snap_TX       1969 non-null   int64 \n",
      " 13  snap_WI       1969 non-null   int64 \n",
      "dtypes: int64(7), object(7)\n",
      "memory usage: 215.5+ KB\n"
     ]
    }
   ],
   "source": [
    "cal.info()"
   ]
  },
  {
   "cell_type": "code",
   "execution_count": 7,
   "id": "a6bc9c27",
   "metadata": {
    "execution": {
     "iopub.execute_input": "2025-10-13T20:30:50.591532Z",
     "iopub.status.busy": "2025-10-13T20:30:50.591212Z",
     "iopub.status.idle": "2025-10-13T20:30:50.608668Z",
     "shell.execute_reply": "2025-10-13T20:30:50.607713Z"
    },
    "id": "BUyzderr8Tw6",
    "papermill": {
     "duration": 0.025111,
     "end_time": "2025-10-13T20:30:50.610432",
     "exception": false,
     "start_time": "2025-10-13T20:30:50.585321",
     "status": "completed"
    },
    "tags": []
   },
   "outputs": [
    {
     "data": {
      "text/html": [
       "<div>\n",
       "<style scoped>\n",
       "    .dataframe tbody tr th:only-of-type {\n",
       "        vertical-align: middle;\n",
       "    }\n",
       "\n",
       "    .dataframe tbody tr th {\n",
       "        vertical-align: top;\n",
       "    }\n",
       "\n",
       "    .dataframe thead th {\n",
       "        text-align: right;\n",
       "    }\n",
       "</style>\n",
       "<table border=\"1\" class=\"dataframe\">\n",
       "  <thead>\n",
       "    <tr style=\"text-align: right;\">\n",
       "      <th></th>\n",
       "      <th>date</th>\n",
       "      <th>wm_yr_wk</th>\n",
       "      <th>weekday</th>\n",
       "      <th>wday</th>\n",
       "      <th>month</th>\n",
       "      <th>year</th>\n",
       "      <th>d</th>\n",
       "      <th>event_name_1</th>\n",
       "      <th>event_type_1</th>\n",
       "      <th>event_name_2</th>\n",
       "      <th>event_type_2</th>\n",
       "      <th>snap_CA</th>\n",
       "      <th>snap_TX</th>\n",
       "      <th>snap_WI</th>\n",
       "    </tr>\n",
       "  </thead>\n",
       "  <tbody>\n",
       "    <tr>\n",
       "      <th>0</th>\n",
       "      <td>2011-01-29</td>\n",
       "      <td>11101</td>\n",
       "      <td>Saturday</td>\n",
       "      <td>1</td>\n",
       "      <td>1</td>\n",
       "      <td>2011</td>\n",
       "      <td>d_1</td>\n",
       "      <td>NaN</td>\n",
       "      <td>NaN</td>\n",
       "      <td>NaN</td>\n",
       "      <td>NaN</td>\n",
       "      <td>0</td>\n",
       "      <td>0</td>\n",
       "      <td>0</td>\n",
       "    </tr>\n",
       "    <tr>\n",
       "      <th>1</th>\n",
       "      <td>2011-01-30</td>\n",
       "      <td>11101</td>\n",
       "      <td>Sunday</td>\n",
       "      <td>2</td>\n",
       "      <td>1</td>\n",
       "      <td>2011</td>\n",
       "      <td>d_2</td>\n",
       "      <td>NaN</td>\n",
       "      <td>NaN</td>\n",
       "      <td>NaN</td>\n",
       "      <td>NaN</td>\n",
       "      <td>0</td>\n",
       "      <td>0</td>\n",
       "      <td>0</td>\n",
       "    </tr>\n",
       "    <tr>\n",
       "      <th>2</th>\n",
       "      <td>2011-01-31</td>\n",
       "      <td>11101</td>\n",
       "      <td>Monday</td>\n",
       "      <td>3</td>\n",
       "      <td>1</td>\n",
       "      <td>2011</td>\n",
       "      <td>d_3</td>\n",
       "      <td>NaN</td>\n",
       "      <td>NaN</td>\n",
       "      <td>NaN</td>\n",
       "      <td>NaN</td>\n",
       "      <td>0</td>\n",
       "      <td>0</td>\n",
       "      <td>0</td>\n",
       "    </tr>\n",
       "    <tr>\n",
       "      <th>3</th>\n",
       "      <td>2011-02-01</td>\n",
       "      <td>11101</td>\n",
       "      <td>Tuesday</td>\n",
       "      <td>4</td>\n",
       "      <td>2</td>\n",
       "      <td>2011</td>\n",
       "      <td>d_4</td>\n",
       "      <td>NaN</td>\n",
       "      <td>NaN</td>\n",
       "      <td>NaN</td>\n",
       "      <td>NaN</td>\n",
       "      <td>1</td>\n",
       "      <td>1</td>\n",
       "      <td>0</td>\n",
       "    </tr>\n",
       "    <tr>\n",
       "      <th>4</th>\n",
       "      <td>2011-02-02</td>\n",
       "      <td>11101</td>\n",
       "      <td>Wednesday</td>\n",
       "      <td>5</td>\n",
       "      <td>2</td>\n",
       "      <td>2011</td>\n",
       "      <td>d_5</td>\n",
       "      <td>NaN</td>\n",
       "      <td>NaN</td>\n",
       "      <td>NaN</td>\n",
       "      <td>NaN</td>\n",
       "      <td>1</td>\n",
       "      <td>0</td>\n",
       "      <td>1</td>\n",
       "    </tr>\n",
       "    <tr>\n",
       "      <th>...</th>\n",
       "      <td>...</td>\n",
       "      <td>...</td>\n",
       "      <td>...</td>\n",
       "      <td>...</td>\n",
       "      <td>...</td>\n",
       "      <td>...</td>\n",
       "      <td>...</td>\n",
       "      <td>...</td>\n",
       "      <td>...</td>\n",
       "      <td>...</td>\n",
       "      <td>...</td>\n",
       "      <td>...</td>\n",
       "      <td>...</td>\n",
       "      <td>...</td>\n",
       "    </tr>\n",
       "    <tr>\n",
       "      <th>195</th>\n",
       "      <td>2011-08-12</td>\n",
       "      <td>11128</td>\n",
       "      <td>Friday</td>\n",
       "      <td>7</td>\n",
       "      <td>8</td>\n",
       "      <td>2011</td>\n",
       "      <td>d_196</td>\n",
       "      <td>NaN</td>\n",
       "      <td>NaN</td>\n",
       "      <td>NaN</td>\n",
       "      <td>NaN</td>\n",
       "      <td>0</td>\n",
       "      <td>1</td>\n",
       "      <td>1</td>\n",
       "    </tr>\n",
       "    <tr>\n",
       "      <th>196</th>\n",
       "      <td>2011-08-13</td>\n",
       "      <td>11129</td>\n",
       "      <td>Saturday</td>\n",
       "      <td>1</td>\n",
       "      <td>8</td>\n",
       "      <td>2011</td>\n",
       "      <td>d_197</td>\n",
       "      <td>NaN</td>\n",
       "      <td>NaN</td>\n",
       "      <td>NaN</td>\n",
       "      <td>NaN</td>\n",
       "      <td>0</td>\n",
       "      <td>1</td>\n",
       "      <td>0</td>\n",
       "    </tr>\n",
       "    <tr>\n",
       "      <th>197</th>\n",
       "      <td>2011-08-14</td>\n",
       "      <td>11129</td>\n",
       "      <td>Sunday</td>\n",
       "      <td>2</td>\n",
       "      <td>8</td>\n",
       "      <td>2011</td>\n",
       "      <td>d_198</td>\n",
       "      <td>NaN</td>\n",
       "      <td>NaN</td>\n",
       "      <td>NaN</td>\n",
       "      <td>NaN</td>\n",
       "      <td>0</td>\n",
       "      <td>0</td>\n",
       "      <td>1</td>\n",
       "    </tr>\n",
       "    <tr>\n",
       "      <th>198</th>\n",
       "      <td>2011-08-15</td>\n",
       "      <td>11129</td>\n",
       "      <td>Monday</td>\n",
       "      <td>3</td>\n",
       "      <td>8</td>\n",
       "      <td>2011</td>\n",
       "      <td>d_199</td>\n",
       "      <td>NaN</td>\n",
       "      <td>NaN</td>\n",
       "      <td>NaN</td>\n",
       "      <td>NaN</td>\n",
       "      <td>0</td>\n",
       "      <td>1</td>\n",
       "      <td>1</td>\n",
       "    </tr>\n",
       "    <tr>\n",
       "      <th>199</th>\n",
       "      <td>2011-08-16</td>\n",
       "      <td>11129</td>\n",
       "      <td>Tuesday</td>\n",
       "      <td>4</td>\n",
       "      <td>8</td>\n",
       "      <td>2011</td>\n",
       "      <td>d_200</td>\n",
       "      <td>NaN</td>\n",
       "      <td>NaN</td>\n",
       "      <td>NaN</td>\n",
       "      <td>NaN</td>\n",
       "      <td>0</td>\n",
       "      <td>0</td>\n",
       "      <td>0</td>\n",
       "    </tr>\n",
       "  </tbody>\n",
       "</table>\n",
       "<p>200 rows × 14 columns</p>\n",
       "</div>"
      ],
      "text/plain": [
       "           date  wm_yr_wk    weekday  wday  month  year      d event_name_1  \\\n",
       "0    2011-01-29     11101   Saturday     1      1  2011    d_1          NaN   \n",
       "1    2011-01-30     11101     Sunday     2      1  2011    d_2          NaN   \n",
       "2    2011-01-31     11101     Monday     3      1  2011    d_3          NaN   \n",
       "3    2011-02-01     11101    Tuesday     4      2  2011    d_4          NaN   \n",
       "4    2011-02-02     11101  Wednesday     5      2  2011    d_5          NaN   \n",
       "..          ...       ...        ...   ...    ...   ...    ...          ...   \n",
       "195  2011-08-12     11128     Friday     7      8  2011  d_196          NaN   \n",
       "196  2011-08-13     11129   Saturday     1      8  2011  d_197          NaN   \n",
       "197  2011-08-14     11129     Sunday     2      8  2011  d_198          NaN   \n",
       "198  2011-08-15     11129     Monday     3      8  2011  d_199          NaN   \n",
       "199  2011-08-16     11129    Tuesday     4      8  2011  d_200          NaN   \n",
       "\n",
       "    event_type_1 event_name_2 event_type_2  snap_CA  snap_TX  snap_WI  \n",
       "0            NaN          NaN          NaN        0        0        0  \n",
       "1            NaN          NaN          NaN        0        0        0  \n",
       "2            NaN          NaN          NaN        0        0        0  \n",
       "3            NaN          NaN          NaN        1        1        0  \n",
       "4            NaN          NaN          NaN        1        0        1  \n",
       "..           ...          ...          ...      ...      ...      ...  \n",
       "195          NaN          NaN          NaN        0        1        1  \n",
       "196          NaN          NaN          NaN        0        1        0  \n",
       "197          NaN          NaN          NaN        0        0        1  \n",
       "198          NaN          NaN          NaN        0        1        1  \n",
       "199          NaN          NaN          NaN        0        0        0  \n",
       "\n",
       "[200 rows x 14 columns]"
      ]
     },
     "execution_count": 7,
     "metadata": {},
     "output_type": "execute_result"
    }
   ],
   "source": [
    "cal.head(200)"
   ]
  },
  {
   "cell_type": "markdown",
   "id": "ab682541",
   "metadata": {
    "id": "5ehmk0r76xsq",
    "papermill": {
     "duration": 0.004723,
     "end_time": "2025-10-13T20:30:50.620270",
     "exception": false,
     "start_time": "2025-10-13T20:30:50.615547",
     "status": "completed"
    },
    "tags": []
   },
   "source": [
    "# Schema formating"
   ]
  },
  {
   "cell_type": "markdown",
   "id": "2b701030",
   "metadata": {
    "id": "VNiw6enB8_sH",
    "papermill": {
     "duration": 0.004687,
     "end_time": "2025-10-13T20:30:50.629924",
     "exception": false,
     "start_time": "2025-10-13T20:30:50.625237",
     "status": "completed"
    },
    "tags": []
   },
   "source": [
    "## sales_validation file"
   ]
  },
  {
   "cell_type": "code",
   "execution_count": 8,
   "id": "b6f63377",
   "metadata": {
    "execution": {
     "iopub.execute_input": "2025-10-13T20:30:50.641475Z",
     "iopub.status.busy": "2025-10-13T20:30:50.641113Z",
     "iopub.status.idle": "2025-10-13T20:31:05.538953Z",
     "shell.execute_reply": "2025-10-13T20:31:05.538127Z"
    },
    "id": "mHehOaUY626V",
    "papermill": {
     "duration": 14.905538,
     "end_time": "2025-10-13T20:31:05.540698",
     "exception": false,
     "start_time": "2025-10-13T20:30:50.635160",
     "status": "completed"
    },
    "tags": []
   },
   "outputs": [],
   "source": [
    "data = sales_validation.melt(\n",
    "    id_vars=[\"id\",\"item_id\", \"dept_id\",\"cat_id\",\"store_id\",\"state_id\"],  # columns to keep\n",
    "    var_name=\"d\",                          # new column name for day labels (d_1, d_2, ...)\n",
    "    value_name=\"sales\"                     # new column name for sales values\n",
    ")\n",
    "\n"
   ]
  },
  {
   "cell_type": "code",
   "execution_count": 9,
   "id": "fb821e46",
   "metadata": {
    "execution": {
     "iopub.execute_input": "2025-10-13T20:31:05.552016Z",
     "iopub.status.busy": "2025-10-13T20:31:05.551676Z",
     "iopub.status.idle": "2025-10-13T20:31:11.014946Z",
     "shell.execute_reply": "2025-10-13T20:31:11.014055Z"
    },
    "id": "OZ2R2hUS_oaz",
    "papermill": {
     "duration": 5.470665,
     "end_time": "2025-10-13T20:31:11.016598",
     "exception": false,
     "start_time": "2025-10-13T20:31:05.545933",
     "status": "completed"
    },
    "tags": []
   },
   "outputs": [],
   "source": [
    "data.drop(columns=['id'],inplace=True)"
   ]
  },
  {
   "cell_type": "code",
   "execution_count": null,
   "id": "94e427ae",
   "metadata": {
    "papermill": {
     "duration": 0.005508,
     "end_time": "2025-10-13T20:31:11.027204",
     "exception": false,
     "start_time": "2025-10-13T20:31:11.021696",
     "status": "completed"
    },
    "tags": []
   },
   "outputs": [],
   "source": []
  },
  {
   "cell_type": "markdown",
   "id": "6c50c500",
   "metadata": {
    "id": "lw5a1YKc9Cvf",
    "papermill": {
     "duration": 0.004612,
     "end_time": "2025-10-13T20:31:11.036733",
     "exception": false,
     "start_time": "2025-10-13T20:31:11.032121",
     "status": "completed"
    },
    "tags": []
   },
   "source": [
    "## calendar file"
   ]
  },
  {
   "cell_type": "code",
   "execution_count": 10,
   "id": "b75a52ac",
   "metadata": {
    "execution": {
     "iopub.execute_input": "2025-10-13T20:31:11.047873Z",
     "iopub.status.busy": "2025-10-13T20:31:11.047517Z",
     "iopub.status.idle": "2025-10-13T20:31:11.057394Z",
     "shell.execute_reply": "2025-10-13T20:31:11.056296Z"
    },
    "id": "keYaAibmsTTg",
    "papermill": {
     "duration": 0.017444,
     "end_time": "2025-10-13T20:31:11.059049",
     "exception": false,
     "start_time": "2025-10-13T20:31:11.041605",
     "status": "completed"
    },
    "tags": []
   },
   "outputs": [],
   "source": [
    "cal[\"date\"]= pd.to_datetime(cal[\"date\"])"
   ]
  },
  {
   "cell_type": "code",
   "execution_count": 11,
   "id": "e1ca8453",
   "metadata": {
    "execution": {
     "iopub.execute_input": "2025-10-13T20:31:11.070538Z",
     "iopub.status.busy": "2025-10-13T20:31:11.070232Z",
     "iopub.status.idle": "2025-10-13T20:31:11.079271Z",
     "shell.execute_reply": "2025-10-13T20:31:11.078340Z"
    },
    "id": "l634T21xs4dw",
    "papermill": {
     "duration": 0.016392,
     "end_time": "2025-10-13T20:31:11.080838",
     "exception": false,
     "start_time": "2025-10-13T20:31:11.064446",
     "status": "completed"
    },
    "tags": []
   },
   "outputs": [],
   "source": [
    "cal[\"event_name_1\"]= cal[\"event_name_1\"].fillna(\"No event\")\n",
    "cal[\"event_type_1\"]= cal[\"event_type_1\"].fillna(\"No event\")\n",
    "cal[\"event_name_2\"]= cal[\"event_name_2\"].fillna(\"No event\")\n",
    "cal[\"event_type_2\"]= cal[\"event_type_2\"].fillna(\"No event\")"
   ]
  },
  {
   "cell_type": "code",
   "execution_count": 12,
   "id": "41e1ed58",
   "metadata": {
    "execution": {
     "iopub.execute_input": "2025-10-13T20:31:11.092340Z",
     "iopub.status.busy": "2025-10-13T20:31:11.092006Z",
     "iopub.status.idle": "2025-10-13T20:32:08.627579Z",
     "shell.execute_reply": "2025-10-13T20:32:08.626563Z"
    },
    "id": "FhbR_i2dtlCd",
    "papermill": {
     "duration": 57.544083,
     "end_time": "2025-10-13T20:32:08.630160",
     "exception": false,
     "start_time": "2025-10-13T20:31:11.086077",
     "status": "completed"
    },
    "tags": []
   },
   "outputs": [],
   "source": [
    "# Merge data and cal dataframes on the 'd' column\n",
    "merged_data = pd.merge(data, cal, on='d', how='left')\n",
    "\n",
    "conditions = [\n",
    "    merged_data[\"state_id\"] == \"CA\",\n",
    "    merged_data[\"state_id\"] == \"TX\",\n",
    "    merged_data[\"state_id\"] == \"WI\"\n",
    "]\n",
    "choices= [\n",
    "    merged_data[\"snap_CA\"],\n",
    "    merged_data[\"snap_TX\"],\n",
    "    merged_data[\"snap_WI\"]\n",
    "]\n",
    "merged_data[\"snap\"]= np.select(conditions, choices)\n",
    "\n",
    "merged_data.drop(columns=['snap_CA','snap_TX','snap_WI'],inplace=True)"
   ]
  },
  {
   "cell_type": "code",
   "execution_count": 13,
   "id": "031002f1",
   "metadata": {
    "execution": {
     "iopub.execute_input": "2025-10-13T20:32:08.642650Z",
     "iopub.status.busy": "2025-10-13T20:32:08.642335Z",
     "iopub.status.idle": "2025-10-13T20:39:46.931713Z",
     "shell.execute_reply": "2025-10-13T20:39:46.929990Z"
    },
    "id": "vMaazLWW0KE8",
    "papermill": {
     "duration": 458.299918,
     "end_time": "2025-10-13T20:39:46.935893",
     "exception": false,
     "start_time": "2025-10-13T20:32:08.635975",
     "status": "completed"
    },
    "tags": []
   },
   "outputs": [],
   "source": [
    "merged_data.to_csv('/kaggle/working/temp_data.csv', index=False)"
   ]
  },
  {
   "cell_type": "code",
   "execution_count": null,
   "id": "5de38daf",
   "metadata": {
    "papermill": {
     "duration": 0.012601,
     "end_time": "2025-10-13T20:39:46.958485",
     "exception": false,
     "start_time": "2025-10-13T20:39:46.945884",
     "status": "completed"
    },
    "tags": []
   },
   "outputs": [],
   "source": []
  }
 ],
 "metadata": {
  "accelerator": "TPU",
  "colab": {
   "gpuType": "V5E1",
   "include_colab_link": true,
   "provenance": []
  },
  "kaggle": {
   "accelerator": "none",
   "dataSources": [
    {
     "databundleVersionId": 1236839,
     "sourceId": 18599,
     "sourceType": "competition"
    }
   ],
   "dockerImageVersionId": 31153,
   "isGpuEnabled": false,
   "isInternetEnabled": true,
   "language": "python",
   "sourceType": "notebook"
  },
  "kernelspec": {
   "display_name": "Python 3",
   "language": "python",
   "name": "python3"
  },
  "language_info": {
   "codemirror_mode": {
    "name": "ipython",
    "version": 3
   },
   "file_extension": ".py",
   "mimetype": "text/x-python",
   "name": "python",
   "nbconvert_exporter": "python",
   "pygments_lexer": "ipython3",
   "version": "3.11.13"
  },
  "papermill": {
   "default_parameters": {},
   "duration": 553.719562,
   "end_time": "2025-10-13T20:39:50.194887",
   "environment_variables": {},
   "exception": null,
   "input_path": "__notebook__.ipynb",
   "output_path": "__notebook__.ipynb",
   "parameters": {},
   "start_time": "2025-10-13T20:30:36.475325",
   "version": "2.6.0"
  }
 },
 "nbformat": 4,
 "nbformat_minor": 5
}
