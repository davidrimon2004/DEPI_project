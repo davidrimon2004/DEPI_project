{
 "cells": [
  {
   "cell_type": "markdown",
   "id": "cb35aae8",
   "metadata": {
    "id": "s_FCmSEucMP8",
    "papermill": {
     "duration": 0.004941,
     "end_time": "2025-10-18T20:15:35.335582",
     "exception": false,
     "start_time": "2025-10-18T20:15:35.330641",
     "status": "completed"
    },
    "tags": []
   },
   "source": [
    "# Problem Formulation"
   ]
  },
  {
   "cell_type": "markdown",
   "id": "f01f0b69",
   "metadata": {
    "id": "IZ2kz-h7b0lb",
    "papermill": {
     "duration": 0.003484,
     "end_time": "2025-10-18T20:15:35.342855",
     "exception": false,
     "start_time": "2025-10-18T20:15:35.339371",
     "status": "completed"
    },
    "tags": []
   },
   "source": [
    "## Problem Description:\n",
    "This project aims to develop a machine learning model that predicts future sales\n",
    "and demand by utilising historical sales data and external factors, including\n",
    "product details, promotions, seasonality, holidays, and economic indicators. The\n",
    "goal is to analyse historical patterns and generate reliable forecasts that help\n",
    "businesses make data-driven decisions to reduce costs, increase efficiency, and\n",
    "improve customer satisfaction by predicting the daily sales for the next 28 days.\n",
    "\n",
    "## Objectives\n",
    "\n",
    "● Collect and preprocess historical sales and demand data.\n",
    "\n",
    "● Identify key features that influence sales trends.\n",
    "\n",
    "● Build, train, and optimise forecasting models to predict future sales and\n",
    "demand.\n",
    "\n",
    "● Deploy the best-performing model to generate forecasts in real-time or in\n",
    "batches.\n",
    "## Data source:\n",
    "Hierarchical sales data from Walmart, the world’s largest company by revenue in the US.\n",
    "\n"
   ]
  },
  {
   "cell_type": "markdown",
   "id": "73ea18f0",
   "metadata": {
    "id": "5lIA_xQc7fqX",
    "papermill": {
     "duration": 0.006276,
     "end_time": "2025-10-18T20:15:35.352844",
     "exception": false,
     "start_time": "2025-10-18T20:15:35.346568",
     "status": "completed"
    },
    "tags": []
   },
   "source": [
    "# Code setup"
   ]
  },
  {
   "cell_type": "markdown",
   "id": "38db3c03",
   "metadata": {
    "id": "7OMw4fyN5fIK",
    "papermill": {
     "duration": 0.003478,
     "end_time": "2025-10-18T20:15:35.359960",
     "exception": false,
     "start_time": "2025-10-18T20:15:35.356482",
     "status": "completed"
    },
    "tags": []
   },
   "source": [
    "## Important libraries"
   ]
  },
  {
   "cell_type": "code",
   "execution_count": 1,
   "id": "46060c52",
   "metadata": {
    "execution": {
     "iopub.execute_input": "2025-10-18T20:15:35.368276Z",
     "iopub.status.busy": "2025-10-18T20:15:35.368063Z",
     "iopub.status.idle": "2025-10-18T20:15:37.257456Z",
     "shell.execute_reply": "2025-10-18T20:15:37.256510Z"
    },
    "id": "oDECRqp15tkC",
    "papermill": {
     "duration": 1.895787,
     "end_time": "2025-10-18T20:15:37.259170",
     "exception": false,
     "start_time": "2025-10-18T20:15:35.363383",
     "status": "completed"
    },
    "tags": []
   },
   "outputs": [],
   "source": [
    "import pandas as pd\n",
    "import numpy as np"
   ]
  },
  {
   "cell_type": "markdown",
   "id": "9224e7fa",
   "metadata": {
    "id": "1IFGdC2i7j2Z",
    "papermill": {
     "duration": 0.003527,
     "end_time": "2025-10-18T20:15:37.266790",
     "exception": false,
     "start_time": "2025-10-18T20:15:37.263263",
     "status": "completed"
    },
    "tags": []
   },
   "source": [
    "## data reading"
   ]
  },
  {
   "cell_type": "code",
   "execution_count": 2,
   "id": "9023ea15",
   "metadata": {
    "execution": {
     "iopub.execute_input": "2025-10-18T20:15:37.275511Z",
     "iopub.status.busy": "2025-10-18T20:15:37.275150Z",
     "iopub.status.idle": "2025-10-18T20:15:37.278085Z",
     "shell.execute_reply": "2025-10-18T20:15:37.277263Z"
    },
    "id": "M0Iw4aOWd-Cu",
    "outputId": "cf9266b6-c55f-44bd-bceb-3af1faf46b39",
    "papermill": {
     "duration": 0.008427,
     "end_time": "2025-10-18T20:15:37.278814",
     "exception": false,
     "start_time": "2025-10-18T20:15:37.270387",
     "status": "completed"
    },
    "tags": []
   },
   "outputs": [],
   "source": [
    "#sales_validation=pd.read_csv('/kaggle/input/m5-forecasting-accuracy/sales_train_validation.csv')\n",
    "#sales_validation.head(3)"
   ]
  },
  {
   "cell_type": "code",
   "execution_count": 3,
   "id": "d51a9b1c",
   "metadata": {
    "execution": {
     "iopub.execute_input": "2025-10-18T20:15:37.286936Z",
     "iopub.status.busy": "2025-10-18T20:15:37.286716Z",
     "iopub.status.idle": "2025-10-18T20:15:37.289314Z",
     "shell.execute_reply": "2025-10-18T20:15:37.288598Z"
    },
    "id": "qq-1suzw7t7R",
    "outputId": "50c8774b-42a1-4225-9b04-0bbabde67430",
    "papermill": {
     "duration": 0.007635,
     "end_time": "2025-10-18T20:15:37.289925",
     "exception": false,
     "start_time": "2025-10-18T20:15:37.282290",
     "status": "completed"
    },
    "tags": []
   },
   "outputs": [],
   "source": [
    "#cal=pd.read_csv('/kaggle/input/m5-forecasting-accuracy/calendar.csv')\n",
    "#cal.head(3)"
   ]
  },
  {
   "cell_type": "code",
   "execution_count": 4,
   "id": "75007f3d",
   "metadata": {
    "execution": {
     "iopub.execute_input": "2025-10-18T20:15:37.297940Z",
     "iopub.status.busy": "2025-10-18T20:15:37.297713Z",
     "iopub.status.idle": "2025-10-18T20:15:37.300312Z",
     "shell.execute_reply": "2025-10-18T20:15:37.299625Z"
    },
    "papermill": {
     "duration": 0.00751,
     "end_time": "2025-10-18T20:15:37.300924",
     "exception": false,
     "start_time": "2025-10-18T20:15:37.293414",
     "status": "completed"
    },
    "tags": []
   },
   "outputs": [],
   "source": [
    "#sell_price = pd.read_csv(\"/kaggle/input/m5-forecasting-accuracy/sell_prices.csv\")\n",
    "#sell_price.head(3)"
   ]
  },
  {
   "cell_type": "code",
   "execution_count": 5,
   "id": "dd5a8cf4",
   "metadata": {
    "execution": {
     "iopub.execute_input": "2025-10-18T20:15:37.308936Z",
     "iopub.status.busy": "2025-10-18T20:15:37.308755Z",
     "iopub.status.idle": "2025-10-18T20:17:07.854875Z",
     "shell.execute_reply": "2025-10-18T20:17:07.854006Z"
    },
    "papermill": {
     "duration": 90.551991,
     "end_time": "2025-10-18T20:17:07.856497",
     "exception": false,
     "start_time": "2025-10-18T20:15:37.304506",
     "status": "completed"
    },
    "tags": []
   },
   "outputs": [],
   "source": [
    "data = pd.read_csv(\"/kaggle/input/depi-dataset/data.csv\")"
   ]
  },
  {
   "cell_type": "markdown",
   "id": "a6ae05b7",
   "metadata": {
    "id": "5ehmk0r76xsq",
    "papermill": {
     "duration": 0.003895,
     "end_time": "2025-10-18T20:17:07.864849",
     "exception": false,
     "start_time": "2025-10-18T20:17:07.860954",
     "status": "completed"
    },
    "tags": []
   },
   "source": [
    "# Schema formating"
   ]
  },
  {
   "cell_type": "markdown",
   "id": "ac3fd00c",
   "metadata": {
    "id": "VNiw6enB8_sH",
    "papermill": {
     "duration": 0.003789,
     "end_time": "2025-10-18T20:17:07.872241",
     "exception": false,
     "start_time": "2025-10-18T20:17:07.868452",
     "status": "completed"
    },
    "tags": []
   },
   "source": [
    "## sales_validation file"
   ]
  },
  {
   "cell_type": "code",
   "execution_count": 6,
   "id": "91ccbd14",
   "metadata": {
    "execution": {
     "iopub.execute_input": "2025-10-18T20:17:07.881201Z",
     "iopub.status.busy": "2025-10-18T20:17:07.880988Z",
     "iopub.status.idle": "2025-10-18T20:17:07.886379Z",
     "shell.execute_reply": "2025-10-18T20:17:07.885672Z"
    },
    "id": "mHehOaUY626V",
    "papermill": {
     "duration": 0.010847,
     "end_time": "2025-10-18T20:17:07.887016",
     "exception": false,
     "start_time": "2025-10-18T20:17:07.876169",
     "status": "completed"
    },
    "tags": []
   },
   "outputs": [
    {
     "data": {
      "text/plain": [
       "'\\ndata = sales_validation.melt(\\n    id_vars=[\"id\",\"item_id\", \"dept_id\",\"cat_id\",\"store_id\",\"state_id\"],  # columns to keep\\n    var_name=\"d\",                          # new column name for day labels (d_1, d_2, ...)\\n    value_name=\"sales\"                     # new column name for sales values\\n)\\n'"
      ]
     },
     "execution_count": 6,
     "metadata": {},
     "output_type": "execute_result"
    }
   ],
   "source": [
    "'''\n",
    "data = sales_validation.melt(\n",
    "    id_vars=[\"id\",\"item_id\", \"dept_id\",\"cat_id\",\"store_id\",\"state_id\"],  # columns to keep\n",
    "    var_name=\"d\",                          # new column name for day labels (d_1, d_2, ...)\n",
    "    value_name=\"sales\"                     # new column name for sales values\n",
    ")\n",
    "'''\n"
   ]
  },
  {
   "cell_type": "code",
   "execution_count": 7,
   "id": "d777cbbd",
   "metadata": {
    "execution": {
     "iopub.execute_input": "2025-10-18T20:17:07.895595Z",
     "iopub.status.busy": "2025-10-18T20:17:07.895435Z",
     "iopub.status.idle": "2025-10-18T20:17:07.897715Z",
     "shell.execute_reply": "2025-10-18T20:17:07.897112Z"
    },
    "id": "OZ2R2hUS_oaz",
    "papermill": {
     "duration": 0.007408,
     "end_time": "2025-10-18T20:17:07.898225",
     "exception": false,
     "start_time": "2025-10-18T20:17:07.890817",
     "status": "completed"
    },
    "tags": []
   },
   "outputs": [],
   "source": [
    "#data.drop(columns=['id'],inplace=True)"
   ]
  },
  {
   "cell_type": "markdown",
   "id": "216c6bb6",
   "metadata": {
    "id": "lw5a1YKc9Cvf",
    "papermill": {
     "duration": 0.003495,
     "end_time": "2025-10-18T20:17:07.905312",
     "exception": false,
     "start_time": "2025-10-18T20:17:07.901817",
     "status": "completed"
    },
    "tags": []
   },
   "source": [
    "## calendar file"
   ]
  },
  {
   "cell_type": "code",
   "execution_count": 8,
   "id": "47b9af79",
   "metadata": {
    "execution": {
     "iopub.execute_input": "2025-10-18T20:17:07.913503Z",
     "iopub.status.busy": "2025-10-18T20:17:07.913313Z",
     "iopub.status.idle": "2025-10-18T20:17:07.915878Z",
     "shell.execute_reply": "2025-10-18T20:17:07.915096Z"
    },
    "id": "keYaAibmsTTg",
    "papermill": {
     "duration": 0.007527,
     "end_time": "2025-10-18T20:17:07.916472",
     "exception": false,
     "start_time": "2025-10-18T20:17:07.908945",
     "status": "completed"
    },
    "tags": []
   },
   "outputs": [],
   "source": [
    "#cal[\"date\"]= pd.to_datetime(cal[\"date\"])"
   ]
  },
  {
   "cell_type": "code",
   "execution_count": 9,
   "id": "06d94116",
   "metadata": {
    "execution": {
     "iopub.execute_input": "2025-10-18T20:17:07.924765Z",
     "iopub.status.busy": "2025-10-18T20:17:07.924603Z",
     "iopub.status.idle": "2025-10-18T20:17:07.927955Z",
     "shell.execute_reply": "2025-10-18T20:17:07.927193Z"
    },
    "id": "l634T21xs4dw",
    "papermill": {
     "duration": 0.008486,
     "end_time": "2025-10-18T20:17:07.928535",
     "exception": false,
     "start_time": "2025-10-18T20:17:07.920049",
     "status": "completed"
    },
    "tags": []
   },
   "outputs": [
    {
     "data": {
      "text/plain": [
       "'\\ncal[\"event_name_1\"]= cal[\"event_name_1\"].fillna(\"No event\")\\ncal[\"event_type_1\"]= cal[\"event_type_1\"].fillna(\"No event\")\\ncal[\"event_name_2\"]= cal[\"event_name_2\"].fillna(\"No event\")\\ncal[\"event_type_2\"]= cal[\"event_type_2\"].fillna(\"No event\")\\n'"
      ]
     },
     "execution_count": 9,
     "metadata": {},
     "output_type": "execute_result"
    }
   ],
   "source": [
    "'''\n",
    "cal[\"event_name_1\"]= cal[\"event_name_1\"].fillna(\"No event\")\n",
    "cal[\"event_type_1\"]= cal[\"event_type_1\"].fillna(\"No event\")\n",
    "cal[\"event_name_2\"]= cal[\"event_name_2\"].fillna(\"No event\")\n",
    "cal[\"event_type_2\"]= cal[\"event_type_2\"].fillna(\"No event\")\n",
    "'''"
   ]
  },
  {
   "cell_type": "code",
   "execution_count": 10,
   "id": "10531646",
   "metadata": {
    "execution": {
     "iopub.execute_input": "2025-10-18T20:17:07.937605Z",
     "iopub.status.busy": "2025-10-18T20:17:07.937428Z",
     "iopub.status.idle": "2025-10-18T20:17:07.940784Z",
     "shell.execute_reply": "2025-10-18T20:17:07.940070Z"
    },
    "id": "FhbR_i2dtlCd",
    "papermill": {
     "duration": 0.008739,
     "end_time": "2025-10-18T20:17:07.941350",
     "exception": false,
     "start_time": "2025-10-18T20:17:07.932611",
     "status": "completed"
    },
    "tags": []
   },
   "outputs": [
    {
     "data": {
      "text/plain": [
       "'\\n# Merge data and cal dataframes on the \\'d\\' column\\nmerged_data = pd.merge(data, cal, on=\\'d\\', how=\\'left\\')\\n\\nconditions = [\\n    merged_data[\"state_id\"] == \"CA\",\\n    merged_data[\"state_id\"] == \"TX\",\\n    merged_data[\"state_id\"] == \"WI\"\\n]\\nchoices= [\\n    merged_data[\"snap_CA\"],\\n    merged_data[\"snap_TX\"],\\n    merged_data[\"snap_WI\"]\\n]\\nmerged_data[\"snap\"]= np.select(conditions, choices)\\n\\nmerged_data.drop(columns=[\\'snap_CA\\',\\'snap_TX\\',\\'snap_WI\\'],inplace=True)\\n'"
      ]
     },
     "execution_count": 10,
     "metadata": {},
     "output_type": "execute_result"
    }
   ],
   "source": [
    "'''\n",
    "# Merge data and cal dataframes on the 'd' column\n",
    "merged_data = pd.merge(data, cal, on='d', how='left')\n",
    "\n",
    "conditions = [\n",
    "    merged_data[\"state_id\"] == \"CA\",\n",
    "    merged_data[\"state_id\"] == \"TX\",\n",
    "    merged_data[\"state_id\"] == \"WI\"\n",
    "]\n",
    "choices= [\n",
    "    merged_data[\"snap_CA\"],\n",
    "    merged_data[\"snap_TX\"],\n",
    "    merged_data[\"snap_WI\"]\n",
    "]\n",
    "merged_data[\"snap\"]= np.select(conditions, choices)\n",
    "\n",
    "merged_data.drop(columns=['snap_CA','snap_TX','snap_WI'],inplace=True)\n",
    "'''"
   ]
  },
  {
   "cell_type": "markdown",
   "id": "b80b7137",
   "metadata": {
    "papermill": {
     "duration": 0.003897,
     "end_time": "2025-10-18T20:17:07.949244",
     "exception": false,
     "start_time": "2025-10-18T20:17:07.945347",
     "status": "completed"
    },
    "tags": []
   },
   "source": [
    "## sell_price file\n"
   ]
  },
  {
   "cell_type": "code",
   "execution_count": 11,
   "id": "8313b374",
   "metadata": {
    "execution": {
     "iopub.execute_input": "2025-10-18T20:17:07.958132Z",
     "iopub.status.busy": "2025-10-18T20:17:07.957974Z",
     "iopub.status.idle": "2025-10-18T20:17:07.961038Z",
     "shell.execute_reply": "2025-10-18T20:17:07.960432Z"
    },
    "papermill": {
     "duration": 0.008283,
     "end_time": "2025-10-18T20:17:07.961629",
     "exception": false,
     "start_time": "2025-10-18T20:17:07.953346",
     "status": "completed"
    },
    "tags": []
   },
   "outputs": [
    {
     "data": {
      "text/plain": [
       "'\\nfinal_data = temp_data.merge(\\n        sell_price,\\n        on=[\"store_id\", \"item_id\", \"wm_yr_wk\"],\\n        how=\"left\",\\n        validate=\"m:1\"  # many sales rows per unique price row is expected\\n    )\\n    '"
      ]
     },
     "execution_count": 11,
     "metadata": {},
     "output_type": "execute_result"
    }
   ],
   "source": [
    "'''\n",
    "final_data = temp_data.merge(\n",
    "        sell_price,\n",
    "        on=[\"store_id\", \"item_id\", \"wm_yr_wk\"],\n",
    "        how=\"left\",\n",
    "        validate=\"m:1\"  # many sales rows per unique price row is expected\n",
    "    )\n",
    "    '''"
   ]
  },
  {
   "cell_type": "code",
   "execution_count": 12,
   "id": "316a4b24",
   "metadata": {
    "execution": {
     "iopub.execute_input": "2025-10-18T20:17:07.970787Z",
     "iopub.status.busy": "2025-10-18T20:17:07.970630Z",
     "iopub.status.idle": "2025-10-18T20:17:07.972985Z",
     "shell.execute_reply": "2025-10-18T20:17:07.972252Z"
    },
    "papermill": {
     "duration": 0.007897,
     "end_time": "2025-10-18T20:17:07.973556",
     "exception": false,
     "start_time": "2025-10-18T20:17:07.965659",
     "status": "completed"
    },
    "tags": []
   },
   "outputs": [],
   "source": [
    "#final_data[\"price_in_dollars\"]=final_data[\"sell_price\"]*final_data[\"sales\"]"
   ]
  },
  {
   "cell_type": "code",
   "execution_count": 13,
   "id": "88acfe1c",
   "metadata": {
    "execution": {
     "iopub.execute_input": "2025-10-18T20:17:07.982821Z",
     "iopub.status.busy": "2025-10-18T20:17:07.982637Z",
     "iopub.status.idle": "2025-10-18T20:17:07.985119Z",
     "shell.execute_reply": "2025-10-18T20:17:07.984367Z"
    },
    "papermill": {
     "duration": 0.007953,
     "end_time": "2025-10-18T20:17:07.985715",
     "exception": false,
     "start_time": "2025-10-18T20:17:07.977762",
     "status": "completed"
    },
    "tags": []
   },
   "outputs": [],
   "source": [
    "#final_data.to_csv(\"/kaggle/working/data.csv\")"
   ]
  },
  {
   "cell_type": "markdown",
   "id": "5afe3dfc",
   "metadata": {
    "papermill": {
     "duration": 0.004153,
     "end_time": "2025-10-18T20:17:07.993995",
     "exception": false,
     "start_time": "2025-10-18T20:17:07.989842",
     "status": "completed"
    },
    "tags": []
   },
   "source": [
    "# EDA"
   ]
  },
  {
   "cell_type": "code",
   "execution_count": 14,
   "id": "49721457",
   "metadata": {
    "execution": {
     "iopub.execute_input": "2025-10-18T20:17:08.003279Z",
     "iopub.status.busy": "2025-10-18T20:17:08.003069Z",
     "iopub.status.idle": "2025-10-18T20:17:20.122455Z",
     "shell.execute_reply": "2025-10-18T20:17:20.121675Z"
    },
    "papermill": {
     "duration": 12.125143,
     "end_time": "2025-10-18T20:17:20.123243",
     "exception": false,
     "start_time": "2025-10-18T20:17:07.998100",
     "status": "completed"
    },
    "tags": []
   },
   "outputs": [
    {
     "data": {
      "text/plain": [
       "Unnamed: 0          0\n",
       "item_id             0\n",
       "store_id            0\n",
       "d                   0\n",
       "sales               0\n",
       "date                0\n",
       "wm_yr_wk            0\n",
       "wday                0\n",
       "event_name_1        0\n",
       "event_type_1        0\n",
       "event_name_2        0\n",
       "event_type_2        0\n",
       "snap                0\n",
       "price_in_dollars    0\n",
       "dtype: int64"
      ]
     },
     "execution_count": 14,
     "metadata": {},
     "output_type": "execute_result"
    }
   ],
   "source": [
    "data.isna().sum()"
   ]
  },
  {
   "cell_type": "code",
   "execution_count": 15,
   "id": "c443359c",
   "metadata": {
    "execution": {
     "iopub.execute_input": "2025-10-18T20:17:20.133251Z",
     "iopub.status.busy": "2025-10-18T20:17:20.133049Z",
     "iopub.status.idle": "2025-10-18T20:17:28.229942Z",
     "shell.execute_reply": "2025-10-18T20:17:28.229109Z"
    },
    "papermill": {
     "duration": 8.102857,
     "end_time": "2025-10-18T20:17:28.230781",
     "exception": false,
     "start_time": "2025-10-18T20:17:20.127924",
     "status": "completed"
    },
    "tags": []
   },
   "outputs": [
    {
     "name": "stdout",
     "output_type": "stream",
     "text": [
      "['No event' \"Mother's day\" 'Halloween' 'VeteransDay' 'Thanksgiving'\n",
      " 'Chanukah End' 'Christmas' 'NewYear' 'OrthodoxChristmas'\n",
      " 'MartinLutherKingDay' 'SuperBowl' 'ValentinesDay' 'PresidentsDay'\n",
      " 'LentStart' 'LentWeek2' 'Purim End' 'StPatricksDay' 'Easter' 'Pesach End'\n",
      " 'Cinco De Mayo' 'MemorialDay' 'NBAFinalsStart' 'NBAFinalsEnd'\n",
      " 'Ramadan starts' 'IndependenceDay' 'Eid al-Fitr' 'LaborDay' 'EidAlAdha'\n",
      " 'ColumbusDay' \"Father's day\" 'OrthodoxEaster']\n"
     ]
    },
    {
     "name": "stdout",
     "output_type": "stream",
     "text": [
      "['No event' 'OrthodoxEaster' \"Father's day\" 'Cinco De Mayo' 'Easter']\n"
     ]
    },
    {
     "name": "stdout",
     "output_type": "stream",
     "text": [
      "['No event' 'Cultural' 'National' 'Religious' 'Sporting']\n"
     ]
    },
    {
     "name": "stdout",
     "output_type": "stream",
     "text": [
      "['No event' 'Religious' 'Cultural']\n"
     ]
    }
   ],
   "source": [
    "print(data[\"event_name_1\"].unique())\n",
    "print(data[\"event_name_2\"].unique())\n",
    "print(data[\"event_type_1\"].unique())\n",
    "print(data[\"event_type_2\"].unique())"
   ]
  },
  {
   "cell_type": "code",
   "execution_count": 16,
   "id": "0d446ded",
   "metadata": {
    "execution": {
     "iopub.execute_input": "2025-10-18T20:17:28.240906Z",
     "iopub.status.busy": "2025-10-18T20:17:28.240724Z",
     "iopub.status.idle": "2025-10-18T20:17:28.260156Z",
     "shell.execute_reply": "2025-10-18T20:17:28.259532Z"
    },
    "papermill": {
     "duration": 0.025191,
     "end_time": "2025-10-18T20:17:28.260820",
     "exception": false,
     "start_time": "2025-10-18T20:17:28.235629",
     "status": "completed"
    },
    "tags": []
   },
   "outputs": [
    {
     "data": {
      "text/html": [
       "<div>\n",
       "<style scoped>\n",
       "    .dataframe tbody tr th:only-of-type {\n",
       "        vertical-align: middle;\n",
       "    }\n",
       "\n",
       "    .dataframe tbody tr th {\n",
       "        vertical-align: top;\n",
       "    }\n",
       "\n",
       "    .dataframe thead th {\n",
       "        text-align: right;\n",
       "    }\n",
       "</style>\n",
       "<table border=\"1\" class=\"dataframe\">\n",
       "  <thead>\n",
       "    <tr style=\"text-align: right;\">\n",
       "      <th></th>\n",
       "      <th>Unnamed: 0</th>\n",
       "      <th>item_id</th>\n",
       "      <th>store_id</th>\n",
       "      <th>d</th>\n",
       "      <th>sales</th>\n",
       "      <th>date</th>\n",
       "      <th>wm_yr_wk</th>\n",
       "      <th>wday</th>\n",
       "      <th>event_name_1</th>\n",
       "      <th>event_type_1</th>\n",
       "      <th>event_name_2</th>\n",
       "      <th>event_type_2</th>\n",
       "      <th>snap</th>\n",
       "      <th>price_in_dollars</th>\n",
       "    </tr>\n",
       "  </thead>\n",
       "  <tbody>\n",
       "    <tr>\n",
       "      <th>0</th>\n",
       "      <td>0</td>\n",
       "      <td>FOODS_1_001</td>\n",
       "      <td>CA_1</td>\n",
       "      <td>d_1</td>\n",
       "      <td>3</td>\n",
       "      <td>2011-01-29</td>\n",
       "      <td>11101</td>\n",
       "      <td>1</td>\n",
       "      <td>No event</td>\n",
       "      <td>No event</td>\n",
       "      <td>No event</td>\n",
       "      <td>No event</td>\n",
       "      <td>0</td>\n",
       "      <td>6.00</td>\n",
       "    </tr>\n",
       "    <tr>\n",
       "      <th>1</th>\n",
       "      <td>1</td>\n",
       "      <td>FOODS_1_001</td>\n",
       "      <td>CA_1</td>\n",
       "      <td>d_10</td>\n",
       "      <td>0</td>\n",
       "      <td>2011-02-07</td>\n",
       "      <td>11102</td>\n",
       "      <td>3</td>\n",
       "      <td>No event</td>\n",
       "      <td>No event</td>\n",
       "      <td>No event</td>\n",
       "      <td>No event</td>\n",
       "      <td>1</td>\n",
       "      <td>0.00</td>\n",
       "    </tr>\n",
       "    <tr>\n",
       "      <th>2</th>\n",
       "      <td>2</td>\n",
       "      <td>FOODS_1_001</td>\n",
       "      <td>CA_1</td>\n",
       "      <td>d_100</td>\n",
       "      <td>0</td>\n",
       "      <td>2011-05-08</td>\n",
       "      <td>11115</td>\n",
       "      <td>2</td>\n",
       "      <td>Mother's day</td>\n",
       "      <td>Cultural</td>\n",
       "      <td>No event</td>\n",
       "      <td>No event</td>\n",
       "      <td>1</td>\n",
       "      <td>0.00</td>\n",
       "    </tr>\n",
       "    <tr>\n",
       "      <th>3</th>\n",
       "      <td>3</td>\n",
       "      <td>FOODS_1_001</td>\n",
       "      <td>CA_1</td>\n",
       "      <td>d_1000</td>\n",
       "      <td>1</td>\n",
       "      <td>2013-10-24</td>\n",
       "      <td>11339</td>\n",
       "      <td>6</td>\n",
       "      <td>No event</td>\n",
       "      <td>No event</td>\n",
       "      <td>No event</td>\n",
       "      <td>No event</td>\n",
       "      <td>0</td>\n",
       "      <td>2.24</td>\n",
       "    </tr>\n",
       "    <tr>\n",
       "      <th>4</th>\n",
       "      <td>4</td>\n",
       "      <td>FOODS_1_001</td>\n",
       "      <td>CA_1</td>\n",
       "      <td>d_1001</td>\n",
       "      <td>0</td>\n",
       "      <td>2013-10-25</td>\n",
       "      <td>11339</td>\n",
       "      <td>7</td>\n",
       "      <td>No event</td>\n",
       "      <td>No event</td>\n",
       "      <td>No event</td>\n",
       "      <td>No event</td>\n",
       "      <td>0</td>\n",
       "      <td>0.00</td>\n",
       "    </tr>\n",
       "    <tr>\n",
       "      <th>5</th>\n",
       "      <td>5</td>\n",
       "      <td>FOODS_1_001</td>\n",
       "      <td>CA_1</td>\n",
       "      <td>d_1002</td>\n",
       "      <td>1</td>\n",
       "      <td>2013-10-26</td>\n",
       "      <td>11340</td>\n",
       "      <td>1</td>\n",
       "      <td>No event</td>\n",
       "      <td>No event</td>\n",
       "      <td>No event</td>\n",
       "      <td>No event</td>\n",
       "      <td>0</td>\n",
       "      <td>2.24</td>\n",
       "    </tr>\n",
       "    <tr>\n",
       "      <th>6</th>\n",
       "      <td>6</td>\n",
       "      <td>FOODS_1_001</td>\n",
       "      <td>CA_1</td>\n",
       "      <td>d_1003</td>\n",
       "      <td>0</td>\n",
       "      <td>2013-10-27</td>\n",
       "      <td>11340</td>\n",
       "      <td>2</td>\n",
       "      <td>No event</td>\n",
       "      <td>No event</td>\n",
       "      <td>No event</td>\n",
       "      <td>No event</td>\n",
       "      <td>0</td>\n",
       "      <td>0.00</td>\n",
       "    </tr>\n",
       "    <tr>\n",
       "      <th>7</th>\n",
       "      <td>7</td>\n",
       "      <td>FOODS_1_001</td>\n",
       "      <td>CA_1</td>\n",
       "      <td>d_1004</td>\n",
       "      <td>0</td>\n",
       "      <td>2013-10-28</td>\n",
       "      <td>11340</td>\n",
       "      <td>3</td>\n",
       "      <td>No event</td>\n",
       "      <td>No event</td>\n",
       "      <td>No event</td>\n",
       "      <td>No event</td>\n",
       "      <td>0</td>\n",
       "      <td>0.00</td>\n",
       "    </tr>\n",
       "    <tr>\n",
       "      <th>8</th>\n",
       "      <td>8</td>\n",
       "      <td>FOODS_1_001</td>\n",
       "      <td>CA_1</td>\n",
       "      <td>d_1005</td>\n",
       "      <td>0</td>\n",
       "      <td>2013-10-29</td>\n",
       "      <td>11340</td>\n",
       "      <td>4</td>\n",
       "      <td>No event</td>\n",
       "      <td>No event</td>\n",
       "      <td>No event</td>\n",
       "      <td>No event</td>\n",
       "      <td>0</td>\n",
       "      <td>0.00</td>\n",
       "    </tr>\n",
       "    <tr>\n",
       "      <th>9</th>\n",
       "      <td>9</td>\n",
       "      <td>FOODS_1_001</td>\n",
       "      <td>CA_1</td>\n",
       "      <td>d_1006</td>\n",
       "      <td>0</td>\n",
       "      <td>2013-10-30</td>\n",
       "      <td>11340</td>\n",
       "      <td>5</td>\n",
       "      <td>No event</td>\n",
       "      <td>No event</td>\n",
       "      <td>No event</td>\n",
       "      <td>No event</td>\n",
       "      <td>0</td>\n",
       "      <td>0.00</td>\n",
       "    </tr>\n",
       "  </tbody>\n",
       "</table>\n",
       "</div>"
      ],
      "text/plain": [
       "   Unnamed: 0      item_id store_id       d  sales        date  wm_yr_wk  \\\n",
       "0           0  FOODS_1_001     CA_1     d_1      3  2011-01-29     11101   \n",
       "1           1  FOODS_1_001     CA_1    d_10      0  2011-02-07     11102   \n",
       "2           2  FOODS_1_001     CA_1   d_100      0  2011-05-08     11115   \n",
       "3           3  FOODS_1_001     CA_1  d_1000      1  2013-10-24     11339   \n",
       "4           4  FOODS_1_001     CA_1  d_1001      0  2013-10-25     11339   \n",
       "5           5  FOODS_1_001     CA_1  d_1002      1  2013-10-26     11340   \n",
       "6           6  FOODS_1_001     CA_1  d_1003      0  2013-10-27     11340   \n",
       "7           7  FOODS_1_001     CA_1  d_1004      0  2013-10-28     11340   \n",
       "8           8  FOODS_1_001     CA_1  d_1005      0  2013-10-29     11340   \n",
       "9           9  FOODS_1_001     CA_1  d_1006      0  2013-10-30     11340   \n",
       "\n",
       "   wday  event_name_1 event_type_1 event_name_2 event_type_2  snap  \\\n",
       "0     1      No event     No event     No event     No event     0   \n",
       "1     3      No event     No event     No event     No event     1   \n",
       "2     2  Mother's day     Cultural     No event     No event     1   \n",
       "3     6      No event     No event     No event     No event     0   \n",
       "4     7      No event     No event     No event     No event     0   \n",
       "5     1      No event     No event     No event     No event     0   \n",
       "6     2      No event     No event     No event     No event     0   \n",
       "7     3      No event     No event     No event     No event     0   \n",
       "8     4      No event     No event     No event     No event     0   \n",
       "9     5      No event     No event     No event     No event     0   \n",
       "\n",
       "   price_in_dollars  \n",
       "0              6.00  \n",
       "1              0.00  \n",
       "2              0.00  \n",
       "3              2.24  \n",
       "4              0.00  \n",
       "5              2.24  \n",
       "6              0.00  \n",
       "7              0.00  \n",
       "8              0.00  \n",
       "9              0.00  "
      ]
     },
     "execution_count": 16,
     "metadata": {},
     "output_type": "execute_result"
    }
   ],
   "source": [
    "data.head(10)"
   ]
  },
  {
   "cell_type": "markdown",
   "id": "77ec2c6d",
   "metadata": {
    "papermill": {
     "duration": 0.004167,
     "end_time": "2025-10-18T20:17:28.269257",
     "exception": false,
     "start_time": "2025-10-18T20:17:28.265090",
     "status": "completed"
    },
    "tags": []
   },
   "source": [
    "# Data-Cleaning"
   ]
  },
  {
   "cell_type": "code",
   "execution_count": 17,
   "id": "6b090e04",
   "metadata": {
    "execution": {
     "iopub.execute_input": "2025-10-18T20:17:28.279154Z",
     "iopub.status.busy": "2025-10-18T20:17:28.278966Z",
     "iopub.status.idle": "2025-10-18T20:17:28.282214Z",
     "shell.execute_reply": "2025-10-18T20:17:28.281611Z"
    },
    "papermill": {
     "duration": 0.008967,
     "end_time": "2025-10-18T20:17:28.282822",
     "exception": false,
     "start_time": "2025-10-18T20:17:28.273855",
     "status": "completed"
    },
    "tags": []
   },
   "outputs": [
    {
     "data": {
      "text/plain": [
       "'\\ndata.drop(columns = \"sell_price\",inplace = True)\\ndata.drop(columns=\"dept_id\",inplace = True)\\ndata.drop(columns = \"cat_id\",inplace = True)\\ndata.drop(columns = \"state_id\",inplace = True)\\ndata.drop(columns=\"month\",inplace = True)\\ndata.drop(columns=\"year\",inplace = True)\\ndata.drop(columns=\"weekday\",inplace=True)\\n'"
      ]
     },
     "execution_count": 17,
     "metadata": {},
     "output_type": "execute_result"
    }
   ],
   "source": [
    "'''\n",
    "data.drop(columns = \"sell_price\",inplace = True)\n",
    "data.drop(columns=\"dept_id\",inplace = True)\n",
    "data.drop(columns = \"cat_id\",inplace = True)\n",
    "data.drop(columns = \"state_id\",inplace = True)\n",
    "data.drop(columns=\"month\",inplace = True)\n",
    "data.drop(columns=\"year\",inplace = True)\n",
    "data.drop(columns=\"weekday\",inplace=True)\n",
    "'''"
   ]
  },
  {
   "cell_type": "code",
   "execution_count": 18,
   "id": "d4281b61",
   "metadata": {
    "execution": {
     "iopub.execute_input": "2025-10-18T20:17:28.292279Z",
     "iopub.status.busy": "2025-10-18T20:17:28.292114Z",
     "iopub.status.idle": "2025-10-18T20:17:32.170803Z",
     "shell.execute_reply": "2025-10-18T20:17:32.169665Z"
    },
    "papermill": {
     "duration": 3.884413,
     "end_time": "2025-10-18T20:17:32.171482",
     "exception": false,
     "start_time": "2025-10-18T20:17:28.287069",
     "status": "completed"
    },
    "tags": []
   },
   "outputs": [],
   "source": [
    "data.drop(columns=\"Unnamed: 0\",inplace = True)"
   ]
  },
  {
   "cell_type": "code",
   "execution_count": 19,
   "id": "b63f5eb1",
   "metadata": {
    "execution": {
     "iopub.execute_input": "2025-10-18T20:17:32.182033Z",
     "iopub.status.busy": "2025-10-18T20:17:32.181809Z",
     "iopub.status.idle": "2025-10-18T20:17:44.061160Z",
     "shell.execute_reply": "2025-10-18T20:17:44.060231Z"
    },
    "papermill": {
     "duration": 11.885347,
     "end_time": "2025-10-18T20:17:44.061871",
     "exception": false,
     "start_time": "2025-10-18T20:17:32.176524",
     "status": "completed"
    },
    "tags": []
   },
   "outputs": [],
   "source": [
    "data.fillna(0,inplace = True)"
   ]
  },
  {
   "cell_type": "code",
   "execution_count": 20,
   "id": "0e194742",
   "metadata": {
    "execution": {
     "iopub.execute_input": "2025-10-18T20:17:44.072817Z",
     "iopub.status.busy": "2025-10-18T20:17:44.072623Z",
     "iopub.status.idle": "2025-10-18T20:17:52.417873Z",
     "shell.execute_reply": "2025-10-18T20:17:52.416845Z"
    },
    "papermill": {
     "duration": 8.351957,
     "end_time": "2025-10-18T20:17:52.418906",
     "exception": false,
     "start_time": "2025-10-18T20:17:44.066949",
     "status": "completed"
    },
    "tags": []
   },
   "outputs": [],
   "source": [
    "data.sort_values(by=[\"store_id\", \"item_id\", \"d\"], inplace=True)\n",
    "data.reset_index(drop=True, inplace=True)"
   ]
  },
  {
   "cell_type": "code",
   "execution_count": 21,
   "id": "f68b93dc",
   "metadata": {
    "execution": {
     "iopub.execute_input": "2025-10-18T20:17:52.429851Z",
     "iopub.status.busy": "2025-10-18T20:17:52.429618Z",
     "iopub.status.idle": "2025-10-18T20:20:50.307733Z",
     "shell.execute_reply": "2025-10-18T20:20:50.306705Z"
    },
    "papermill": {
     "duration": 177.885041,
     "end_time": "2025-10-18T20:20:50.308967",
     "exception": false,
     "start_time": "2025-10-18T20:17:52.423926",
     "status": "completed"
    },
    "tags": []
   },
   "outputs": [],
   "source": [
    "data.to_csv(\"/kaggle/working/data.csv\")"
   ]
  },
  {
   "cell_type": "code",
   "execution_count": null,
   "id": "0a3811f2",
   "metadata": {
    "papermill": {
     "duration": 0.004377,
     "end_time": "2025-10-18T20:20:50.318345",
     "exception": false,
     "start_time": "2025-10-18T20:20:50.313968",
     "status": "completed"
    },
    "tags": []
   },
   "outputs": [],
   "source": []
  }
 ],
 "metadata": {
  "accelerator": "TPU",
  "colab": {
   "gpuType": "V5E1",
   "include_colab_link": true,
   "provenance": []
  },
  "kaggle": {
   "accelerator": "tpuV5e8",
   "dataSources": [
    {
     "databundleVersionId": 1236839,
     "sourceId": 18599,
     "sourceType": "competition"
    },
    {
     "databundleVersionId": 14141306,
     "datasetId": 8485735,
     "sourceId": 13427040,
     "sourceType": "datasetVersion"
    }
   ],
   "dockerImageVersionId": 31153,
   "isGpuEnabled": false,
   "isInternetEnabled": true,
   "language": "python",
   "sourceType": "notebook"
  },
  "kernelspec": {
   "display_name": "Python 3",
   "language": "python",
   "name": "python3"
  },
  "language_info": {
   "codemirror_mode": {
    "name": "ipython",
    "version": 3
   },
   "file_extension": ".py",
   "mimetype": "text/x-python",
   "name": "python",
   "nbconvert_exporter": "python",
   "pygments_lexer": "ipython3",
   "version": "3.12.11"
  },
  "papermill": {
   "default_parameters": {},
   "duration": 319.607004,
   "end_time": "2025-10-18T20:20:51.842622",
   "environment_variables": {},
   "exception": null,
   "input_path": "__notebook__.ipynb",
   "output_path": "__notebook__.ipynb",
   "parameters": {},
   "start_time": "2025-10-18T20:15:32.235618",
   "version": "2.6.0"
  }
 },
 "nbformat": 4,
 "nbformat_minor": 5
}
