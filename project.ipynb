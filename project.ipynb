{
 "cells": [
  {
   "cell_type": "markdown",
   "id": "73b09c72",
   "metadata": {
    "id": "s_FCmSEucMP8",
    "papermill": {
     "duration": 0.003954,
     "end_time": "2025-10-15T21:52:53.057125",
     "exception": false,
     "start_time": "2025-10-15T21:52:53.053171",
     "status": "completed"
    },
    "tags": []
   },
   "source": [
    "# Problem Formulation"
   ]
  },
  {
   "cell_type": "markdown",
   "id": "17ad82de",
   "metadata": {
    "id": "IZ2kz-h7b0lb",
    "papermill": {
     "duration": 0.002741,
     "end_time": "2025-10-15T21:52:53.062791",
     "exception": false,
     "start_time": "2025-10-15T21:52:53.060050",
     "status": "completed"
    },
    "tags": []
   },
   "source": [
    "## Problem Description:\n",
    "This project aims to develop a machine learning model that predicts future sales\n",
    "and demand by utilising historical sales data and external factors, including\n",
    "product details, promotions, seasonality, holidays, and economic indicators. The\n",
    "goal is to analyse historical patterns and generate reliable forecasts that help\n",
    "businesses make data-driven decisions to reduce costs, increase efficiency, and\n",
    "improve customer satisfaction by predicting the daily sales for the next 28 days.\n",
    "\n",
    "## Objectives\n",
    "\n",
    "● Collect and preprocess historical sales and demand data.\n",
    "\n",
    "● Identify key features that influence sales trends.\n",
    "\n",
    "● Build, train, and optimise forecasting models to predict future sales and\n",
    "demand.\n",
    "\n",
    "● Deploy the best-performing model to generate forecasts in real-time or in\n",
    "batches.\n",
    "## Data source:\n",
    "Hierarchical sales data from Walmart, the world’s largest company by revenue in the US.\n",
    "\n"
   ]
  },
  {
   "cell_type": "markdown",
   "id": "15302ad3",
   "metadata": {
    "id": "5lIA_xQc7fqX",
    "papermill": {
     "duration": 0.002757,
     "end_time": "2025-10-15T21:52:53.068413",
     "exception": false,
     "start_time": "2025-10-15T21:52:53.065656",
     "status": "completed"
    },
    "tags": []
   },
   "source": [
    "# Code setup"
   ]
  },
  {
   "cell_type": "markdown",
   "id": "ec8022e6",
   "metadata": {
    "id": "7OMw4fyN5fIK",
    "papermill": {
     "duration": 0.003699,
     "end_time": "2025-10-15T21:52:53.075095",
     "exception": false,
     "start_time": "2025-10-15T21:52:53.071396",
     "status": "completed"
    },
    "tags": []
   },
   "source": [
    "## Important libraries"
   ]
  },
  {
   "cell_type": "code",
   "execution_count": 1,
   "id": "c9fac932",
   "metadata": {
    "execution": {
     "iopub.execute_input": "2025-10-15T21:52:53.082420Z",
     "iopub.status.busy": "2025-10-15T21:52:53.082110Z",
     "iopub.status.idle": "2025-10-15T21:52:55.068949Z",
     "shell.execute_reply": "2025-10-15T21:52:55.068075Z"
    },
    "id": "oDECRqp15tkC",
    "papermill": {
     "duration": 1.99271,
     "end_time": "2025-10-15T21:52:55.070607",
     "exception": false,
     "start_time": "2025-10-15T21:52:53.077897",
     "status": "completed"
    },
    "tags": []
   },
   "outputs": [],
   "source": [
    "import pandas as pd\n",
    "import numpy as np"
   ]
  },
  {
   "cell_type": "markdown",
   "id": "0b8693ea",
   "metadata": {
    "id": "1IFGdC2i7j2Z",
    "papermill": {
     "duration": 0.002739,
     "end_time": "2025-10-15T21:52:55.076730",
     "exception": false,
     "start_time": "2025-10-15T21:52:55.073991",
     "status": "completed"
    },
    "tags": []
   },
   "source": [
    "## data reading"
   ]
  },
  {
   "cell_type": "code",
   "execution_count": 2,
   "id": "73df3d0c",
   "metadata": {
    "execution": {
     "iopub.execute_input": "2025-10-15T21:52:55.084031Z",
     "iopub.status.busy": "2025-10-15T21:52:55.083745Z",
     "iopub.status.idle": "2025-10-15T21:52:58.301672Z",
     "shell.execute_reply": "2025-10-15T21:52:58.300833Z"
    },
    "id": "M0Iw4aOWd-Cu",
    "outputId": "cf9266b6-c55f-44bd-bceb-3af1faf46b39",
    "papermill": {
     "duration": 3.22286,
     "end_time": "2025-10-15T21:52:58.302569",
     "exception": false,
     "start_time": "2025-10-15T21:52:55.079709",
     "status": "completed"
    },
    "tags": []
   },
   "outputs": [
    {
     "data": {
      "text/html": [
       "<div>\n",
       "<style scoped>\n",
       "    .dataframe tbody tr th:only-of-type {\n",
       "        vertical-align: middle;\n",
       "    }\n",
       "\n",
       "    .dataframe tbody tr th {\n",
       "        vertical-align: top;\n",
       "    }\n",
       "\n",
       "    .dataframe thead th {\n",
       "        text-align: right;\n",
       "    }\n",
       "</style>\n",
       "<table border=\"1\" class=\"dataframe\">\n",
       "  <thead>\n",
       "    <tr style=\"text-align: right;\">\n",
       "      <th></th>\n",
       "      <th>id</th>\n",
       "      <th>item_id</th>\n",
       "      <th>dept_id</th>\n",
       "      <th>cat_id</th>\n",
       "      <th>store_id</th>\n",
       "      <th>state_id</th>\n",
       "      <th>d_1</th>\n",
       "      <th>d_2</th>\n",
       "      <th>d_3</th>\n",
       "      <th>d_4</th>\n",
       "      <th>...</th>\n",
       "      <th>d_1904</th>\n",
       "      <th>d_1905</th>\n",
       "      <th>d_1906</th>\n",
       "      <th>d_1907</th>\n",
       "      <th>d_1908</th>\n",
       "      <th>d_1909</th>\n",
       "      <th>d_1910</th>\n",
       "      <th>d_1911</th>\n",
       "      <th>d_1912</th>\n",
       "      <th>d_1913</th>\n",
       "    </tr>\n",
       "  </thead>\n",
       "  <tbody>\n",
       "    <tr>\n",
       "      <th>0</th>\n",
       "      <td>HOBBIES_1_001_CA_1_validation</td>\n",
       "      <td>HOBBIES_1_001</td>\n",
       "      <td>HOBBIES_1</td>\n",
       "      <td>HOBBIES</td>\n",
       "      <td>CA_1</td>\n",
       "      <td>CA</td>\n",
       "      <td>0</td>\n",
       "      <td>0</td>\n",
       "      <td>0</td>\n",
       "      <td>0</td>\n",
       "      <td>...</td>\n",
       "      <td>1</td>\n",
       "      <td>3</td>\n",
       "      <td>0</td>\n",
       "      <td>1</td>\n",
       "      <td>1</td>\n",
       "      <td>1</td>\n",
       "      <td>3</td>\n",
       "      <td>0</td>\n",
       "      <td>1</td>\n",
       "      <td>1</td>\n",
       "    </tr>\n",
       "    <tr>\n",
       "      <th>1</th>\n",
       "      <td>HOBBIES_1_002_CA_1_validation</td>\n",
       "      <td>HOBBIES_1_002</td>\n",
       "      <td>HOBBIES_1</td>\n",
       "      <td>HOBBIES</td>\n",
       "      <td>CA_1</td>\n",
       "      <td>CA</td>\n",
       "      <td>0</td>\n",
       "      <td>0</td>\n",
       "      <td>0</td>\n",
       "      <td>0</td>\n",
       "      <td>...</td>\n",
       "      <td>0</td>\n",
       "      <td>0</td>\n",
       "      <td>0</td>\n",
       "      <td>0</td>\n",
       "      <td>0</td>\n",
       "      <td>1</td>\n",
       "      <td>0</td>\n",
       "      <td>0</td>\n",
       "      <td>0</td>\n",
       "      <td>0</td>\n",
       "    </tr>\n",
       "    <tr>\n",
       "      <th>2</th>\n",
       "      <td>HOBBIES_1_003_CA_1_validation</td>\n",
       "      <td>HOBBIES_1_003</td>\n",
       "      <td>HOBBIES_1</td>\n",
       "      <td>HOBBIES</td>\n",
       "      <td>CA_1</td>\n",
       "      <td>CA</td>\n",
       "      <td>0</td>\n",
       "      <td>0</td>\n",
       "      <td>0</td>\n",
       "      <td>0</td>\n",
       "      <td>...</td>\n",
       "      <td>2</td>\n",
       "      <td>1</td>\n",
       "      <td>2</td>\n",
       "      <td>1</td>\n",
       "      <td>1</td>\n",
       "      <td>1</td>\n",
       "      <td>0</td>\n",
       "      <td>1</td>\n",
       "      <td>1</td>\n",
       "      <td>1</td>\n",
       "    </tr>\n",
       "  </tbody>\n",
       "</table>\n",
       "<p>3 rows × 1919 columns</p>\n",
       "</div>"
      ],
      "text/plain": [
       "                              id        item_id    dept_id   cat_id store_id  \\\n",
       "0  HOBBIES_1_001_CA_1_validation  HOBBIES_1_001  HOBBIES_1  HOBBIES     CA_1   \n",
       "1  HOBBIES_1_002_CA_1_validation  HOBBIES_1_002  HOBBIES_1  HOBBIES     CA_1   \n",
       "2  HOBBIES_1_003_CA_1_validation  HOBBIES_1_003  HOBBIES_1  HOBBIES     CA_1   \n",
       "\n",
       "  state_id  d_1  d_2  d_3  d_4  ...  d_1904  d_1905  d_1906  d_1907  d_1908  \\\n",
       "0       CA    0    0    0    0  ...       1       3       0       1       1   \n",
       "1       CA    0    0    0    0  ...       0       0       0       0       0   \n",
       "2       CA    0    0    0    0  ...       2       1       2       1       1   \n",
       "\n",
       "   d_1909  d_1910  d_1911  d_1912  d_1913  \n",
       "0       1       3       0       1       1  \n",
       "1       1       0       0       0       0  \n",
       "2       1       0       1       1       1  \n",
       "\n",
       "[3 rows x 1919 columns]"
      ]
     },
     "execution_count": 2,
     "metadata": {},
     "output_type": "execute_result"
    }
   ],
   "source": [
    "sales_validation=pd.read_csv('/kaggle/input/m5-forecasting-accuracy/sales_train_validation.csv')\n",
    "sales_validation.head(3)"
   ]
  },
  {
   "cell_type": "code",
   "execution_count": 3,
   "id": "9c2b61f9",
   "metadata": {
    "execution": {
     "iopub.execute_input": "2025-10-15T21:52:58.310401Z",
     "iopub.status.busy": "2025-10-15T21:52:58.310185Z",
     "iopub.status.idle": "2025-10-15T21:52:58.312550Z",
     "shell.execute_reply": "2025-10-15T21:52:58.311850Z"
    },
    "id": "qq-1suzw7t7R",
    "outputId": "50c8774b-42a1-4225-9b04-0bbabde67430",
    "papermill": {
     "duration": 0.007233,
     "end_time": "2025-10-15T21:52:58.313098",
     "exception": false,
     "start_time": "2025-10-15T21:52:58.305865",
     "status": "completed"
    },
    "tags": []
   },
   "outputs": [],
   "source": [
    "#cal=pd.read_csv('/kaggle/input/m5-forecasting-accuracy/calendar.csv')\n",
    "#cal.head(3)"
   ]
  },
  {
   "cell_type": "code",
   "execution_count": 4,
   "id": "8f7037b4",
   "metadata": {
    "execution": {
     "iopub.execute_input": "2025-10-15T21:52:58.320132Z",
     "iopub.status.busy": "2025-10-15T21:52:58.319974Z",
     "iopub.status.idle": "2025-10-15T21:53:01.482465Z",
     "shell.execute_reply": "2025-10-15T21:53:01.481635Z"
    },
    "papermill": {
     "duration": 3.16693,
     "end_time": "2025-10-15T21:53:01.483096",
     "exception": false,
     "start_time": "2025-10-15T21:52:58.316166",
     "status": "completed"
    },
    "tags": []
   },
   "outputs": [
    {
     "data": {
      "text/html": [
       "<div>\n",
       "<style scoped>\n",
       "    .dataframe tbody tr th:only-of-type {\n",
       "        vertical-align: middle;\n",
       "    }\n",
       "\n",
       "    .dataframe tbody tr th {\n",
       "        vertical-align: top;\n",
       "    }\n",
       "\n",
       "    .dataframe thead th {\n",
       "        text-align: right;\n",
       "    }\n",
       "</style>\n",
       "<table border=\"1\" class=\"dataframe\">\n",
       "  <thead>\n",
       "    <tr style=\"text-align: right;\">\n",
       "      <th></th>\n",
       "      <th>store_id</th>\n",
       "      <th>item_id</th>\n",
       "      <th>wm_yr_wk</th>\n",
       "      <th>sell_price</th>\n",
       "    </tr>\n",
       "  </thead>\n",
       "  <tbody>\n",
       "    <tr>\n",
       "      <th>0</th>\n",
       "      <td>CA_1</td>\n",
       "      <td>HOBBIES_1_001</td>\n",
       "      <td>11325</td>\n",
       "      <td>9.58</td>\n",
       "    </tr>\n",
       "    <tr>\n",
       "      <th>1</th>\n",
       "      <td>CA_1</td>\n",
       "      <td>HOBBIES_1_001</td>\n",
       "      <td>11326</td>\n",
       "      <td>9.58</td>\n",
       "    </tr>\n",
       "    <tr>\n",
       "      <th>2</th>\n",
       "      <td>CA_1</td>\n",
       "      <td>HOBBIES_1_001</td>\n",
       "      <td>11327</td>\n",
       "      <td>8.26</td>\n",
       "    </tr>\n",
       "  </tbody>\n",
       "</table>\n",
       "</div>"
      ],
      "text/plain": [
       "  store_id        item_id  wm_yr_wk  sell_price\n",
       "0     CA_1  HOBBIES_1_001     11325        9.58\n",
       "1     CA_1  HOBBIES_1_001     11326        9.58\n",
       "2     CA_1  HOBBIES_1_001     11327        8.26"
      ]
     },
     "execution_count": 4,
     "metadata": {},
     "output_type": "execute_result"
    }
   ],
   "source": [
    "sell_price = pd.read_csv(\"/kaggle/input/m5-forecasting-accuracy/sell_prices.csv\")\n",
    "sell_price.head(3)"
   ]
  },
  {
   "cell_type": "code",
   "execution_count": 5,
   "id": "798b97ab",
   "metadata": {
    "execution": {
     "iopub.execute_input": "2025-10-15T21:53:01.491073Z",
     "iopub.status.busy": "2025-10-15T21:53:01.490871Z",
     "iopub.status.idle": "2025-10-15T21:54:57.018324Z",
     "shell.execute_reply": "2025-10-15T21:54:57.017413Z"
    },
    "papermill": {
     "duration": 115.532437,
     "end_time": "2025-10-15T21:54:57.018940",
     "exception": false,
     "start_time": "2025-10-15T21:53:01.486503",
     "status": "completed"
    },
    "tags": []
   },
   "outputs": [],
   "source": [
    "temp_data = pd.read_csv(\"/kaggle/input/depi-dataset/temp_data.csv\")"
   ]
  },
  {
   "cell_type": "markdown",
   "id": "79f0b0a3",
   "metadata": {
    "id": "uoj5dvrd74PB",
    "papermill": {
     "duration": 0.003084,
     "end_time": "2025-10-15T21:54:57.025490",
     "exception": false,
     "start_time": "2025-10-15T21:54:57.022406",
     "status": "completed"
    },
    "tags": []
   },
   "source": [
    "# EDA"
   ]
  },
  {
   "cell_type": "code",
   "execution_count": 6,
   "id": "5f0d62e6",
   "metadata": {
    "execution": {
     "iopub.execute_input": "2025-10-15T21:54:57.033016Z",
     "iopub.status.busy": "2025-10-15T21:54:57.032795Z",
     "iopub.status.idle": "2025-10-15T21:54:57.035464Z",
     "shell.execute_reply": "2025-10-15T21:54:57.034790Z"
    },
    "id": "ZbXpsceo8QCN",
    "papermill": {
     "duration": 0.007442,
     "end_time": "2025-10-15T21:54:57.036019",
     "exception": false,
     "start_time": "2025-10-15T21:54:57.028577",
     "status": "completed"
    },
    "tags": []
   },
   "outputs": [],
   "source": [
    "#cal.info()"
   ]
  },
  {
   "cell_type": "code",
   "execution_count": 7,
   "id": "a12b3ef6",
   "metadata": {
    "execution": {
     "iopub.execute_input": "2025-10-15T21:54:57.043285Z",
     "iopub.status.busy": "2025-10-15T21:54:57.043092Z",
     "iopub.status.idle": "2025-10-15T21:54:57.052695Z",
     "shell.execute_reply": "2025-10-15T21:54:57.051984Z"
    },
    "papermill": {
     "duration": 0.01409,
     "end_time": "2025-10-15T21:54:57.053266",
     "exception": false,
     "start_time": "2025-10-15T21:54:57.039176",
     "status": "completed"
    },
    "tags": []
   },
   "outputs": [
    {
     "data": {
      "text/html": [
       "<div>\n",
       "<style scoped>\n",
       "    .dataframe tbody tr th:only-of-type {\n",
       "        vertical-align: middle;\n",
       "    }\n",
       "\n",
       "    .dataframe tbody tr th {\n",
       "        vertical-align: top;\n",
       "    }\n",
       "\n",
       "    .dataframe thead th {\n",
       "        text-align: right;\n",
       "    }\n",
       "</style>\n",
       "<table border=\"1\" class=\"dataframe\">\n",
       "  <thead>\n",
       "    <tr style=\"text-align: right;\">\n",
       "      <th></th>\n",
       "      <th>item_id</th>\n",
       "      <th>dept_id</th>\n",
       "      <th>cat_id</th>\n",
       "      <th>store_id</th>\n",
       "      <th>state_id</th>\n",
       "      <th>d</th>\n",
       "      <th>sales</th>\n",
       "      <th>date</th>\n",
       "      <th>wm_yr_wk</th>\n",
       "      <th>weekday</th>\n",
       "      <th>wday</th>\n",
       "      <th>month</th>\n",
       "      <th>year</th>\n",
       "      <th>event_name_1</th>\n",
       "      <th>event_type_1</th>\n",
       "      <th>event_name_2</th>\n",
       "      <th>event_type_2</th>\n",
       "      <th>snap</th>\n",
       "    </tr>\n",
       "  </thead>\n",
       "  <tbody>\n",
       "    <tr>\n",
       "      <th>0</th>\n",
       "      <td>HOBBIES_1_001</td>\n",
       "      <td>HOBBIES_1</td>\n",
       "      <td>HOBBIES</td>\n",
       "      <td>CA_1</td>\n",
       "      <td>CA</td>\n",
       "      <td>d_1</td>\n",
       "      <td>0</td>\n",
       "      <td>2011-01-29</td>\n",
       "      <td>11101</td>\n",
       "      <td>Saturday</td>\n",
       "      <td>1</td>\n",
       "      <td>1</td>\n",
       "      <td>2011</td>\n",
       "      <td>No event</td>\n",
       "      <td>No event</td>\n",
       "      <td>No event</td>\n",
       "      <td>No event</td>\n",
       "      <td>0</td>\n",
       "    </tr>\n",
       "    <tr>\n",
       "      <th>1</th>\n",
       "      <td>HOBBIES_1_002</td>\n",
       "      <td>HOBBIES_1</td>\n",
       "      <td>HOBBIES</td>\n",
       "      <td>CA_1</td>\n",
       "      <td>CA</td>\n",
       "      <td>d_1</td>\n",
       "      <td>0</td>\n",
       "      <td>2011-01-29</td>\n",
       "      <td>11101</td>\n",
       "      <td>Saturday</td>\n",
       "      <td>1</td>\n",
       "      <td>1</td>\n",
       "      <td>2011</td>\n",
       "      <td>No event</td>\n",
       "      <td>No event</td>\n",
       "      <td>No event</td>\n",
       "      <td>No event</td>\n",
       "      <td>0</td>\n",
       "    </tr>\n",
       "    <tr>\n",
       "      <th>2</th>\n",
       "      <td>HOBBIES_1_003</td>\n",
       "      <td>HOBBIES_1</td>\n",
       "      <td>HOBBIES</td>\n",
       "      <td>CA_1</td>\n",
       "      <td>CA</td>\n",
       "      <td>d_1</td>\n",
       "      <td>0</td>\n",
       "      <td>2011-01-29</td>\n",
       "      <td>11101</td>\n",
       "      <td>Saturday</td>\n",
       "      <td>1</td>\n",
       "      <td>1</td>\n",
       "      <td>2011</td>\n",
       "      <td>No event</td>\n",
       "      <td>No event</td>\n",
       "      <td>No event</td>\n",
       "      <td>No event</td>\n",
       "      <td>0</td>\n",
       "    </tr>\n",
       "  </tbody>\n",
       "</table>\n",
       "</div>"
      ],
      "text/plain": [
       "         item_id    dept_id   cat_id store_id state_id    d  sales  \\\n",
       "0  HOBBIES_1_001  HOBBIES_1  HOBBIES     CA_1       CA  d_1      0   \n",
       "1  HOBBIES_1_002  HOBBIES_1  HOBBIES     CA_1       CA  d_1      0   \n",
       "2  HOBBIES_1_003  HOBBIES_1  HOBBIES     CA_1       CA  d_1      0   \n",
       "\n",
       "         date  wm_yr_wk   weekday  wday  month  year event_name_1  \\\n",
       "0  2011-01-29     11101  Saturday     1      1  2011     No event   \n",
       "1  2011-01-29     11101  Saturday     1      1  2011     No event   \n",
       "2  2011-01-29     11101  Saturday     1      1  2011     No event   \n",
       "\n",
       "  event_type_1 event_name_2 event_type_2  snap  \n",
       "0     No event     No event     No event     0  \n",
       "1     No event     No event     No event     0  \n",
       "2     No event     No event     No event     0  "
      ]
     },
     "execution_count": 7,
     "metadata": {},
     "output_type": "execute_result"
    }
   ],
   "source": [
    "temp_data.head(3)"
   ]
  },
  {
   "cell_type": "code",
   "execution_count": 8,
   "id": "5eaa8e26",
   "metadata": {
    "execution": {
     "iopub.execute_input": "2025-10-15T21:54:57.061071Z",
     "iopub.status.busy": "2025-10-15T21:54:57.060913Z",
     "iopub.status.idle": "2025-10-15T21:54:57.063612Z",
     "shell.execute_reply": "2025-10-15T21:54:57.062508Z"
    },
    "papermill": {
     "duration": 0.007569,
     "end_time": "2025-10-15T21:54:57.064198",
     "exception": false,
     "start_time": "2025-10-15T21:54:57.056629",
     "status": "completed"
    },
    "tags": []
   },
   "outputs": [],
   "source": [
    "#final_data.head()"
   ]
  },
  {
   "cell_type": "code",
   "execution_count": 9,
   "id": "d644df71",
   "metadata": {
    "execution": {
     "iopub.execute_input": "2025-10-15T21:54:57.072288Z",
     "iopub.status.busy": "2025-10-15T21:54:57.072120Z",
     "iopub.status.idle": "2025-10-15T21:54:57.074738Z",
     "shell.execute_reply": "2025-10-15T21:54:57.074019Z"
    },
    "id": "BUyzderr8Tw6",
    "papermill": {
     "duration": 0.007489,
     "end_time": "2025-10-15T21:54:57.075324",
     "exception": false,
     "start_time": "2025-10-15T21:54:57.067835",
     "status": "completed"
    },
    "tags": []
   },
   "outputs": [],
   "source": [
    "#cal.head()"
   ]
  },
  {
   "cell_type": "markdown",
   "id": "63bb8d91",
   "metadata": {
    "id": "5ehmk0r76xsq",
    "papermill": {
     "duration": 0.003627,
     "end_time": "2025-10-15T21:54:57.082598",
     "exception": false,
     "start_time": "2025-10-15T21:54:57.078971",
     "status": "completed"
    },
    "tags": []
   },
   "source": [
    "# Schema formating"
   ]
  },
  {
   "cell_type": "markdown",
   "id": "547e2d85",
   "metadata": {
    "id": "VNiw6enB8_sH",
    "papermill": {
     "duration": 0.003581,
     "end_time": "2025-10-15T21:54:57.089773",
     "exception": false,
     "start_time": "2025-10-15T21:54:57.086192",
     "status": "completed"
    },
    "tags": []
   },
   "source": [
    "## sales_validation file"
   ]
  },
  {
   "cell_type": "code",
   "execution_count": 10,
   "id": "d5e36bfd",
   "metadata": {
    "execution": {
     "iopub.execute_input": "2025-10-15T21:54:57.097872Z",
     "iopub.status.busy": "2025-10-15T21:54:57.097683Z",
     "iopub.status.idle": "2025-10-15T21:54:57.101137Z",
     "shell.execute_reply": "2025-10-15T21:54:57.100475Z"
    },
    "id": "mHehOaUY626V",
    "papermill": {
     "duration": 0.008415,
     "end_time": "2025-10-15T21:54:57.101676",
     "exception": false,
     "start_time": "2025-10-15T21:54:57.093261",
     "status": "completed"
    },
    "tags": []
   },
   "outputs": [
    {
     "data": {
      "text/plain": [
       "'\\ndata = sales_validation.melt(\\n    id_vars=[\"id\",\"item_id\", \"dept_id\",\"cat_id\",\"store_id\",\"state_id\"],  # columns to keep\\n    var_name=\"d\",                          # new column name for day labels (d_1, d_2, ...)\\n    value_name=\"sales\"                     # new column name for sales values\\n)\\n'"
      ]
     },
     "execution_count": 10,
     "metadata": {},
     "output_type": "execute_result"
    }
   ],
   "source": [
    "'''\n",
    "data = sales_validation.melt(\n",
    "    id_vars=[\"id\",\"item_id\", \"dept_id\",\"cat_id\",\"store_id\",\"state_id\"],  # columns to keep\n",
    "    var_name=\"d\",                          # new column name for day labels (d_1, d_2, ...)\n",
    "    value_name=\"sales\"                     # new column name for sales values\n",
    ")\n",
    "'''\n"
   ]
  },
  {
   "cell_type": "code",
   "execution_count": 11,
   "id": "586d81df",
   "metadata": {
    "execution": {
     "iopub.execute_input": "2025-10-15T21:54:57.109366Z",
     "iopub.status.busy": "2025-10-15T21:54:57.109213Z",
     "iopub.status.idle": "2025-10-15T21:54:57.111620Z",
     "shell.execute_reply": "2025-10-15T21:54:57.110942Z"
    },
    "id": "OZ2R2hUS_oaz",
    "papermill": {
     "duration": 0.00705,
     "end_time": "2025-10-15T21:54:57.112176",
     "exception": false,
     "start_time": "2025-10-15T21:54:57.105126",
     "status": "completed"
    },
    "tags": []
   },
   "outputs": [],
   "source": [
    "#data.drop(columns=['id'],inplace=True)"
   ]
  },
  {
   "cell_type": "markdown",
   "id": "5ed9f32b",
   "metadata": {
    "id": "lw5a1YKc9Cvf",
    "papermill": {
     "duration": 0.003471,
     "end_time": "2025-10-15T21:54:57.119097",
     "exception": false,
     "start_time": "2025-10-15T21:54:57.115626",
     "status": "completed"
    },
    "tags": []
   },
   "source": [
    "## calendar file"
   ]
  },
  {
   "cell_type": "code",
   "execution_count": 12,
   "id": "f27a6b0d",
   "metadata": {
    "execution": {
     "iopub.execute_input": "2025-10-15T21:54:57.127042Z",
     "iopub.status.busy": "2025-10-15T21:54:57.126858Z",
     "iopub.status.idle": "2025-10-15T21:54:57.129293Z",
     "shell.execute_reply": "2025-10-15T21:54:57.128620Z"
    },
    "id": "keYaAibmsTTg",
    "papermill": {
     "duration": 0.007341,
     "end_time": "2025-10-15T21:54:57.129863",
     "exception": false,
     "start_time": "2025-10-15T21:54:57.122522",
     "status": "completed"
    },
    "tags": []
   },
   "outputs": [],
   "source": [
    "#cal[\"date\"]= pd.to_datetime(cal[\"date\"])"
   ]
  },
  {
   "cell_type": "code",
   "execution_count": 13,
   "id": "44967f5c",
   "metadata": {
    "execution": {
     "iopub.execute_input": "2025-10-15T21:54:57.137745Z",
     "iopub.status.busy": "2025-10-15T21:54:57.137564Z",
     "iopub.status.idle": "2025-10-15T21:54:57.140873Z",
     "shell.execute_reply": "2025-10-15T21:54:57.140234Z"
    },
    "id": "l634T21xs4dw",
    "papermill": {
     "duration": 0.008166,
     "end_time": "2025-10-15T21:54:57.141491",
     "exception": false,
     "start_time": "2025-10-15T21:54:57.133325",
     "status": "completed"
    },
    "tags": []
   },
   "outputs": [
    {
     "data": {
      "text/plain": [
       "'\\ncal[\"event_name_1\"]= cal[\"event_name_1\"].fillna(\"No event\")\\ncal[\"event_type_1\"]= cal[\"event_type_1\"].fillna(\"No event\")\\ncal[\"event_name_2\"]= cal[\"event_name_2\"].fillna(\"No event\")\\ncal[\"event_type_2\"]= cal[\"event_type_2\"].fillna(\"No event\")\\n'"
      ]
     },
     "execution_count": 13,
     "metadata": {},
     "output_type": "execute_result"
    }
   ],
   "source": [
    "'''\n",
    "cal[\"event_name_1\"]= cal[\"event_name_1\"].fillna(\"No event\")\n",
    "cal[\"event_type_1\"]= cal[\"event_type_1\"].fillna(\"No event\")\n",
    "cal[\"event_name_2\"]= cal[\"event_name_2\"].fillna(\"No event\")\n",
    "cal[\"event_type_2\"]= cal[\"event_type_2\"].fillna(\"No event\")\n",
    "'''"
   ]
  },
  {
   "cell_type": "code",
   "execution_count": 14,
   "id": "94fa5f5e",
   "metadata": {
    "execution": {
     "iopub.execute_input": "2025-10-15T21:54:57.149491Z",
     "iopub.status.busy": "2025-10-15T21:54:57.149286Z",
     "iopub.status.idle": "2025-10-15T21:54:57.152619Z",
     "shell.execute_reply": "2025-10-15T21:54:57.151933Z"
    },
    "id": "FhbR_i2dtlCd",
    "papermill": {
     "duration": 0.008174,
     "end_time": "2025-10-15T21:54:57.153201",
     "exception": false,
     "start_time": "2025-10-15T21:54:57.145027",
     "status": "completed"
    },
    "tags": []
   },
   "outputs": [
    {
     "data": {
      "text/plain": [
       "'\\n# Merge data and cal dataframes on the \\'d\\' column\\nmerged_data = pd.merge(data, cal, on=\\'d\\', how=\\'left\\')\\n\\nconditions = [\\n    merged_data[\"state_id\"] == \"CA\",\\n    merged_data[\"state_id\"] == \"TX\",\\n    merged_data[\"state_id\"] == \"WI\"\\n]\\nchoices= [\\n    merged_data[\"snap_CA\"],\\n    merged_data[\"snap_TX\"],\\n    merged_data[\"snap_WI\"]\\n]\\nmerged_data[\"snap\"]= np.select(conditions, choices)\\n\\nmerged_data.drop(columns=[\\'snap_CA\\',\\'snap_TX\\',\\'snap_WI\\'],inplace=True)\\n'"
      ]
     },
     "execution_count": 14,
     "metadata": {},
     "output_type": "execute_result"
    }
   ],
   "source": [
    "'''\n",
    "# Merge data and cal dataframes on the 'd' column\n",
    "merged_data = pd.merge(data, cal, on='d', how='left')\n",
    "\n",
    "conditions = [\n",
    "    merged_data[\"state_id\"] == \"CA\",\n",
    "    merged_data[\"state_id\"] == \"TX\",\n",
    "    merged_data[\"state_id\"] == \"WI\"\n",
    "]\n",
    "choices= [\n",
    "    merged_data[\"snap_CA\"],\n",
    "    merged_data[\"snap_TX\"],\n",
    "    merged_data[\"snap_WI\"]\n",
    "]\n",
    "merged_data[\"snap\"]= np.select(conditions, choices)\n",
    "\n",
    "merged_data.drop(columns=['snap_CA','snap_TX','snap_WI'],inplace=True)\n",
    "'''"
   ]
  },
  {
   "cell_type": "markdown",
   "id": "e312dc27",
   "metadata": {
    "papermill": {
     "duration": 0.003962,
     "end_time": "2025-10-15T21:54:57.161101",
     "exception": false,
     "start_time": "2025-10-15T21:54:57.157139",
     "status": "completed"
    },
    "tags": []
   },
   "source": [
    "## sell_price file\n"
   ]
  },
  {
   "cell_type": "code",
   "execution_count": 15,
   "id": "04621c16",
   "metadata": {
    "execution": {
     "iopub.execute_input": "2025-10-15T21:54:57.169746Z",
     "iopub.status.busy": "2025-10-15T21:54:57.169548Z",
     "iopub.status.idle": "2025-10-15T21:55:19.250195Z",
     "shell.execute_reply": "2025-10-15T21:55:19.249419Z"
    },
    "papermill": {
     "duration": 22.086425,
     "end_time": "2025-10-15T21:55:19.251199",
     "exception": false,
     "start_time": "2025-10-15T21:54:57.164774",
     "status": "completed"
    },
    "tags": []
   },
   "outputs": [],
   "source": [
    "final_data = temp_data.merge(\n",
    "        sell_price,\n",
    "        on=[\"store_id\", \"item_id\", \"wm_yr_wk\"],\n",
    "        how=\"left\",\n",
    "        validate=\"m:1\"  # many sales rows per unique price row is expected\n",
    "    )"
   ]
  },
  {
   "cell_type": "code",
   "execution_count": 16,
   "id": "170e67d6",
   "metadata": {
    "execution": {
     "iopub.execute_input": "2025-10-15T21:55:19.260127Z",
     "iopub.status.busy": "2025-10-15T21:55:19.259901Z",
     "iopub.status.idle": "2025-10-15T21:55:19.390724Z",
     "shell.execute_reply": "2025-10-15T21:55:19.389975Z"
    },
    "papermill": {
     "duration": 0.136581,
     "end_time": "2025-10-15T21:55:19.391844",
     "exception": false,
     "start_time": "2025-10-15T21:55:19.255263",
     "status": "completed"
    },
    "tags": []
   },
   "outputs": [],
   "source": [
    "final_data[\"price_in_dollars\"]=final_data[\"sell_price\"]*final_data[\"sales\"]"
   ]
  },
  {
   "cell_type": "code",
   "execution_count": 17,
   "id": "e348ea42",
   "metadata": {
    "execution": {
     "iopub.execute_input": "2025-10-15T21:55:19.400537Z",
     "iopub.status.busy": "2025-10-15T21:55:19.400336Z",
     "iopub.status.idle": "2025-10-15T21:59:44.112638Z",
     "shell.execute_reply": "2025-10-15T21:59:44.111857Z"
    },
    "papermill": {
     "duration": 264.717984,
     "end_time": "2025-10-15T21:59:44.113816",
     "exception": false,
     "start_time": "2025-10-15T21:55:19.395832",
     "status": "completed"
    },
    "tags": []
   },
   "outputs": [],
   "source": [
    "final_data.to_csv(\"/kaggle/working/data.csv\")"
   ]
  },
  {
   "cell_type": "code",
   "execution_count": null,
   "id": "968dee99",
   "metadata": {
    "papermill": {
     "duration": 0.003646,
     "end_time": "2025-10-15T21:59:44.121423",
     "exception": false,
     "start_time": "2025-10-15T21:59:44.117777",
     "status": "completed"
    },
    "tags": []
   },
   "outputs": [],
   "source": []
  }
 ],
 "metadata": {
  "accelerator": "TPU",
  "colab": {
   "gpuType": "V5E1",
   "include_colab_link": true,
   "provenance": []
  },
  "kaggle": {
   "accelerator": "tpuV5e8",
   "dataSources": [
    {
     "databundleVersionId": 1236839,
     "isSourceIdPinned": false,
     "sourceId": 18599,
     "sourceType": "competition"
    },
    {
     "datasetId": 8485735,
     "sourceId": 13375125,
     "sourceType": "datasetVersion"
    }
   ],
   "dockerImageVersionId": 31153,
   "isGpuEnabled": false,
   "isInternetEnabled": true,
   "language": "python",
   "sourceType": "notebook"
  },
  "kernelspec": {
   "display_name": "Python 3",
   "language": "python",
   "name": "python3"
  },
  "language_info": {
   "codemirror_mode": {
    "name": "ipython",
    "version": 3
   },
   "file_extension": ".py",
   "mimetype": "text/x-python",
   "name": "python",
   "nbconvert_exporter": "python",
   "pygments_lexer": "ipython3",
   "version": "3.12.11"
  },
  "papermill": {
   "default_parameters": {},
   "duration": 415.611869,
   "end_time": "2025-10-15T21:59:45.543732",
   "environment_variables": {},
   "exception": null,
   "input_path": "__notebook__.ipynb",
   "output_path": "__notebook__.ipynb",
   "parameters": {},
   "start_time": "2025-10-15T21:52:49.931863",
   "version": "2.6.0"
  }
 },
 "nbformat": 4,
 "nbformat_minor": 5
}
