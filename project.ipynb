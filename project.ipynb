{
 "cells": [
  {
   "cell_type": "markdown",
   "id": "e1e302e3",
   "metadata": {
    "id": "s_FCmSEucMP8",
    "papermill": {
     "duration": 0.00495,
     "end_time": "2025-10-18T19:19:37.435074",
     "exception": false,
     "start_time": "2025-10-18T19:19:37.430124",
     "status": "completed"
    },
    "tags": []
   },
   "source": [
    "# Problem Formulation"
   ]
  },
  {
   "cell_type": "markdown",
   "id": "5619634c",
   "metadata": {
    "id": "IZ2kz-h7b0lb",
    "papermill": {
     "duration": 0.004301,
     "end_time": "2025-10-18T19:19:37.443808",
     "exception": false,
     "start_time": "2025-10-18T19:19:37.439507",
     "status": "completed"
    },
    "tags": []
   },
   "source": [
    "## Problem Description:\n",
    "This project aims to develop a machine learning model that predicts future sales\n",
    "and demand by utilising historical sales data and external factors, including\n",
    "product details, promotions, seasonality, holidays, and economic indicators. The\n",
    "goal is to analyse historical patterns and generate reliable forecasts that help\n",
    "businesses make data-driven decisions to reduce costs, increase efficiency, and\n",
    "improve customer satisfaction by predicting the daily sales for the next 28 days.\n",
    "\n",
    "## Objectives\n",
    "\n",
    "● Collect and preprocess historical sales and demand data.\n",
    "\n",
    "● Identify key features that influence sales trends.\n",
    "\n",
    "● Build, train, and optimise forecasting models to predict future sales and\n",
    "demand.\n",
    "\n",
    "● Deploy the best-performing model to generate forecasts in real-time or in\n",
    "batches.\n",
    "## Data source:\n",
    "Hierarchical sales data from Walmart, the world’s largest company by revenue in the US.\n",
    "\n"
   ]
  },
  {
   "cell_type": "markdown",
   "id": "9fbf71d8",
   "metadata": {
    "id": "5lIA_xQc7fqX",
    "papermill": {
     "duration": 0.004088,
     "end_time": "2025-10-18T19:19:37.452340",
     "exception": false,
     "start_time": "2025-10-18T19:19:37.448252",
     "status": "completed"
    },
    "tags": []
   },
   "source": [
    "# Code setup"
   ]
  },
  {
   "cell_type": "markdown",
   "id": "0967ad93",
   "metadata": {
    "id": "7OMw4fyN5fIK",
    "papermill": {
     "duration": 0.004125,
     "end_time": "2025-10-18T19:19:37.460531",
     "exception": false,
     "start_time": "2025-10-18T19:19:37.456406",
     "status": "completed"
    },
    "tags": []
   },
   "source": [
    "## Important libraries"
   ]
  },
  {
   "cell_type": "code",
   "execution_count": 1,
   "id": "76187452",
   "metadata": {
    "execution": {
     "iopub.execute_input": "2025-10-18T19:19:37.470846Z",
     "iopub.status.busy": "2025-10-18T19:19:37.470498Z",
     "iopub.status.idle": "2025-10-18T19:19:39.451437Z",
     "shell.execute_reply": "2025-10-18T19:19:39.450382Z"
    },
    "id": "oDECRqp15tkC",
    "papermill": {
     "duration": 1.987967,
     "end_time": "2025-10-18T19:19:39.452576",
     "exception": false,
     "start_time": "2025-10-18T19:19:37.464609",
     "status": "completed"
    },
    "tags": []
   },
   "outputs": [],
   "source": [
    "import pandas as pd\n",
    "import numpy as np"
   ]
  },
  {
   "cell_type": "markdown",
   "id": "f66e20d5",
   "metadata": {
    "id": "1IFGdC2i7j2Z",
    "papermill": {
     "duration": 0.00418,
     "end_time": "2025-10-18T19:19:39.461121",
     "exception": false,
     "start_time": "2025-10-18T19:19:39.456941",
     "status": "completed"
    },
    "tags": []
   },
   "source": [
    "## data reading"
   ]
  },
  {
   "cell_type": "code",
   "execution_count": 2,
   "id": "871e2a3b",
   "metadata": {
    "execution": {
     "iopub.execute_input": "2025-10-18T19:19:39.470974Z",
     "iopub.status.busy": "2025-10-18T19:19:39.470729Z",
     "iopub.status.idle": "2025-10-18T19:19:39.473486Z",
     "shell.execute_reply": "2025-10-18T19:19:39.472619Z"
    },
    "id": "M0Iw4aOWd-Cu",
    "outputId": "cf9266b6-c55f-44bd-bceb-3af1faf46b39",
    "papermill": {
     "duration": 0.008859,
     "end_time": "2025-10-18T19:19:39.474103",
     "exception": false,
     "start_time": "2025-10-18T19:19:39.465244",
     "status": "completed"
    },
    "tags": []
   },
   "outputs": [],
   "source": [
    "#sales_validation=pd.read_csv('/kaggle/input/m5-forecasting-accuracy/sales_train_validation.csv')\n",
    "#sales_validation.head(3)"
   ]
  },
  {
   "cell_type": "code",
   "execution_count": 3,
   "id": "8dee1c7e",
   "metadata": {
    "execution": {
     "iopub.execute_input": "2025-10-18T19:19:39.483557Z",
     "iopub.status.busy": "2025-10-18T19:19:39.483401Z",
     "iopub.status.idle": "2025-10-18T19:19:39.485699Z",
     "shell.execute_reply": "2025-10-18T19:19:39.485051Z"
    },
    "id": "qq-1suzw7t7R",
    "outputId": "50c8774b-42a1-4225-9b04-0bbabde67430",
    "papermill": {
     "duration": 0.007974,
     "end_time": "2025-10-18T19:19:39.486467",
     "exception": false,
     "start_time": "2025-10-18T19:19:39.478493",
     "status": "completed"
    },
    "tags": []
   },
   "outputs": [],
   "source": [
    "#cal=pd.read_csv('/kaggle/input/m5-forecasting-accuracy/calendar.csv')\n",
    "#cal.head(3)"
   ]
  },
  {
   "cell_type": "code",
   "execution_count": 4,
   "id": "de0f80e3",
   "metadata": {
    "execution": {
     "iopub.execute_input": "2025-10-18T19:19:39.496064Z",
     "iopub.status.busy": "2025-10-18T19:19:39.495907Z",
     "iopub.status.idle": "2025-10-18T19:19:39.498732Z",
     "shell.execute_reply": "2025-10-18T19:19:39.497742Z"
    },
    "papermill": {
     "duration": 0.008604,
     "end_time": "2025-10-18T19:19:39.499414",
     "exception": false,
     "start_time": "2025-10-18T19:19:39.490810",
     "status": "completed"
    },
    "tags": []
   },
   "outputs": [],
   "source": [
    "#sell_price = pd.read_csv(\"/kaggle/input/m5-forecasting-accuracy/sell_prices.csv\")\n",
    "#sell_price.head(3)"
   ]
  },
  {
   "cell_type": "code",
   "execution_count": 5,
   "id": "54b69f80",
   "metadata": {
    "execution": {
     "iopub.execute_input": "2025-10-18T19:19:39.509403Z",
     "iopub.status.busy": "2025-10-18T19:19:39.509208Z",
     "iopub.status.idle": "2025-10-18T19:21:51.977891Z",
     "shell.execute_reply": "2025-10-18T19:21:51.976598Z"
    },
    "papermill": {
     "duration": 132.475199,
     "end_time": "2025-10-18T19:21:51.979041",
     "exception": false,
     "start_time": "2025-10-18T19:19:39.503842",
     "status": "completed"
    },
    "tags": []
   },
   "outputs": [],
   "source": [
    "data = pd.read_csv(\"/kaggle/input/depi-dataset/data.csv\")"
   ]
  },
  {
   "cell_type": "markdown",
   "id": "6e5d2bd5",
   "metadata": {
    "id": "5ehmk0r76xsq",
    "papermill": {
     "duration": 0.004102,
     "end_time": "2025-10-18T19:21:51.987513",
     "exception": false,
     "start_time": "2025-10-18T19:21:51.983411",
     "status": "completed"
    },
    "tags": []
   },
   "source": [
    "# Schema formating"
   ]
  },
  {
   "cell_type": "markdown",
   "id": "3aa43371",
   "metadata": {
    "id": "VNiw6enB8_sH",
    "papermill": {
     "duration": 0.004077,
     "end_time": "2025-10-18T19:21:51.995879",
     "exception": false,
     "start_time": "2025-10-18T19:21:51.991802",
     "status": "completed"
    },
    "tags": []
   },
   "source": [
    "## sales_validation file"
   ]
  },
  {
   "cell_type": "code",
   "execution_count": 6,
   "id": "c86a80b8",
   "metadata": {
    "execution": {
     "iopub.execute_input": "2025-10-18T19:21:52.005866Z",
     "iopub.status.busy": "2025-10-18T19:21:52.005641Z",
     "iopub.status.idle": "2025-10-18T19:21:52.011277Z",
     "shell.execute_reply": "2025-10-18T19:21:52.010518Z"
    },
    "id": "mHehOaUY626V",
    "papermill": {
     "duration": 0.011869,
     "end_time": "2025-10-18T19:21:52.011903",
     "exception": false,
     "start_time": "2025-10-18T19:21:52.000034",
     "status": "completed"
    },
    "tags": []
   },
   "outputs": [
    {
     "data": {
      "text/plain": [
       "'\\ndata = sales_validation.melt(\\n    id_vars=[\"id\",\"item_id\", \"dept_id\",\"cat_id\",\"store_id\",\"state_id\"],  # columns to keep\\n    var_name=\"d\",                          # new column name for day labels (d_1, d_2, ...)\\n    value_name=\"sales\"                     # new column name for sales values\\n)\\n'"
      ]
     },
     "execution_count": 6,
     "metadata": {},
     "output_type": "execute_result"
    }
   ],
   "source": [
    "'''\n",
    "data = sales_validation.melt(\n",
    "    id_vars=[\"id\",\"item_id\", \"dept_id\",\"cat_id\",\"store_id\",\"state_id\"],  # columns to keep\n",
    "    var_name=\"d\",                          # new column name for day labels (d_1, d_2, ...)\n",
    "    value_name=\"sales\"                     # new column name for sales values\n",
    ")\n",
    "'''\n"
   ]
  },
  {
   "cell_type": "code",
   "execution_count": 7,
   "id": "f8ef1d82",
   "metadata": {
    "execution": {
     "iopub.execute_input": "2025-10-18T19:21:52.021755Z",
     "iopub.status.busy": "2025-10-18T19:21:52.021501Z",
     "iopub.status.idle": "2025-10-18T19:21:52.024172Z",
     "shell.execute_reply": "2025-10-18T19:21:52.023474Z"
    },
    "id": "OZ2R2hUS_oaz",
    "papermill": {
     "duration": 0.008792,
     "end_time": "2025-10-18T19:21:52.025062",
     "exception": false,
     "start_time": "2025-10-18T19:21:52.016270",
     "status": "completed"
    },
    "tags": []
   },
   "outputs": [],
   "source": [
    "#data.drop(columns=['id'],inplace=True)"
   ]
  },
  {
   "cell_type": "markdown",
   "id": "9e5ed662",
   "metadata": {
    "id": "lw5a1YKc9Cvf",
    "papermill": {
     "duration": 0.004211,
     "end_time": "2025-10-18T19:21:52.033746",
     "exception": false,
     "start_time": "2025-10-18T19:21:52.029535",
     "status": "completed"
    },
    "tags": []
   },
   "source": [
    "## calendar file"
   ]
  },
  {
   "cell_type": "code",
   "execution_count": 8,
   "id": "8dfed868",
   "metadata": {
    "execution": {
     "iopub.execute_input": "2025-10-18T19:21:52.043469Z",
     "iopub.status.busy": "2025-10-18T19:21:52.043287Z",
     "iopub.status.idle": "2025-10-18T19:21:52.045857Z",
     "shell.execute_reply": "2025-10-18T19:21:52.045168Z"
    },
    "id": "keYaAibmsTTg",
    "papermill": {
     "duration": 0.008442,
     "end_time": "2025-10-18T19:21:52.046466",
     "exception": false,
     "start_time": "2025-10-18T19:21:52.038024",
     "status": "completed"
    },
    "tags": []
   },
   "outputs": [],
   "source": [
    "#cal[\"date\"]= pd.to_datetime(cal[\"date\"])"
   ]
  },
  {
   "cell_type": "code",
   "execution_count": 9,
   "id": "8cf04f7c",
   "metadata": {
    "execution": {
     "iopub.execute_input": "2025-10-18T19:21:52.056187Z",
     "iopub.status.busy": "2025-10-18T19:21:52.055962Z",
     "iopub.status.idle": "2025-10-18T19:21:52.059534Z",
     "shell.execute_reply": "2025-10-18T19:21:52.058738Z"
    },
    "id": "l634T21xs4dw",
    "papermill": {
     "duration": 0.00941,
     "end_time": "2025-10-18T19:21:52.060182",
     "exception": false,
     "start_time": "2025-10-18T19:21:52.050772",
     "status": "completed"
    },
    "tags": []
   },
   "outputs": [
    {
     "data": {
      "text/plain": [
       "'\\ncal[\"event_name_1\"]= cal[\"event_name_1\"].fillna(\"No event\")\\ncal[\"event_type_1\"]= cal[\"event_type_1\"].fillna(\"No event\")\\ncal[\"event_name_2\"]= cal[\"event_name_2\"].fillna(\"No event\")\\ncal[\"event_type_2\"]= cal[\"event_type_2\"].fillna(\"No event\")\\n'"
      ]
     },
     "execution_count": 9,
     "metadata": {},
     "output_type": "execute_result"
    }
   ],
   "source": [
    "'''\n",
    "cal[\"event_name_1\"]= cal[\"event_name_1\"].fillna(\"No event\")\n",
    "cal[\"event_type_1\"]= cal[\"event_type_1\"].fillna(\"No event\")\n",
    "cal[\"event_name_2\"]= cal[\"event_name_2\"].fillna(\"No event\")\n",
    "cal[\"event_type_2\"]= cal[\"event_type_2\"].fillna(\"No event\")\n",
    "'''"
   ]
  },
  {
   "cell_type": "code",
   "execution_count": 10,
   "id": "485662f8",
   "metadata": {
    "execution": {
     "iopub.execute_input": "2025-10-18T19:21:52.070424Z",
     "iopub.status.busy": "2025-10-18T19:21:52.070201Z",
     "iopub.status.idle": "2025-10-18T19:21:52.073687Z",
     "shell.execute_reply": "2025-10-18T19:21:52.072968Z"
    },
    "id": "FhbR_i2dtlCd",
    "papermill": {
     "duration": 0.00956,
     "end_time": "2025-10-18T19:21:52.074309",
     "exception": false,
     "start_time": "2025-10-18T19:21:52.064749",
     "status": "completed"
    },
    "tags": []
   },
   "outputs": [
    {
     "data": {
      "text/plain": [
       "'\\n# Merge data and cal dataframes on the \\'d\\' column\\nmerged_data = pd.merge(data, cal, on=\\'d\\', how=\\'left\\')\\n\\nconditions = [\\n    merged_data[\"state_id\"] == \"CA\",\\n    merged_data[\"state_id\"] == \"TX\",\\n    merged_data[\"state_id\"] == \"WI\"\\n]\\nchoices= [\\n    merged_data[\"snap_CA\"],\\n    merged_data[\"snap_TX\"],\\n    merged_data[\"snap_WI\"]\\n]\\nmerged_data[\"snap\"]= np.select(conditions, choices)\\n\\nmerged_data.drop(columns=[\\'snap_CA\\',\\'snap_TX\\',\\'snap_WI\\'],inplace=True)\\n'"
      ]
     },
     "execution_count": 10,
     "metadata": {},
     "output_type": "execute_result"
    }
   ],
   "source": [
    "'''\n",
    "# Merge data and cal dataframes on the 'd' column\n",
    "merged_data = pd.merge(data, cal, on='d', how='left')\n",
    "\n",
    "conditions = [\n",
    "    merged_data[\"state_id\"] == \"CA\",\n",
    "    merged_data[\"state_id\"] == \"TX\",\n",
    "    merged_data[\"state_id\"] == \"WI\"\n",
    "]\n",
    "choices= [\n",
    "    merged_data[\"snap_CA\"],\n",
    "    merged_data[\"snap_TX\"],\n",
    "    merged_data[\"snap_WI\"]\n",
    "]\n",
    "merged_data[\"snap\"]= np.select(conditions, choices)\n",
    "\n",
    "merged_data.drop(columns=['snap_CA','snap_TX','snap_WI'],inplace=True)\n",
    "'''"
   ]
  },
  {
   "cell_type": "markdown",
   "id": "e649f6c5",
   "metadata": {
    "papermill": {
     "duration": 0.004406,
     "end_time": "2025-10-18T19:21:52.083224",
     "exception": false,
     "start_time": "2025-10-18T19:21:52.078818",
     "status": "completed"
    },
    "tags": []
   },
   "source": [
    "## sell_price file\n"
   ]
  },
  {
   "cell_type": "code",
   "execution_count": 11,
   "id": "5e5f6f0a",
   "metadata": {
    "execution": {
     "iopub.execute_input": "2025-10-18T19:21:52.093274Z",
     "iopub.status.busy": "2025-10-18T19:21:52.093088Z",
     "iopub.status.idle": "2025-10-18T19:21:52.096559Z",
     "shell.execute_reply": "2025-10-18T19:21:52.095739Z"
    },
    "papermill": {
     "duration": 0.009429,
     "end_time": "2025-10-18T19:21:52.097203",
     "exception": false,
     "start_time": "2025-10-18T19:21:52.087774",
     "status": "completed"
    },
    "tags": []
   },
   "outputs": [
    {
     "data": {
      "text/plain": [
       "'\\nfinal_data = temp_data.merge(\\n        sell_price,\\n        on=[\"store_id\", \"item_id\", \"wm_yr_wk\"],\\n        how=\"left\",\\n        validate=\"m:1\"  # many sales rows per unique price row is expected\\n    )\\n    '"
      ]
     },
     "execution_count": 11,
     "metadata": {},
     "output_type": "execute_result"
    }
   ],
   "source": [
    "'''\n",
    "final_data = temp_data.merge(\n",
    "        sell_price,\n",
    "        on=[\"store_id\", \"item_id\", \"wm_yr_wk\"],\n",
    "        how=\"left\",\n",
    "        validate=\"m:1\"  # many sales rows per unique price row is expected\n",
    "    )\n",
    "    '''"
   ]
  },
  {
   "cell_type": "code",
   "execution_count": 12,
   "id": "ac349132",
   "metadata": {
    "execution": {
     "iopub.execute_input": "2025-10-18T19:21:52.107456Z",
     "iopub.status.busy": "2025-10-18T19:21:52.107303Z",
     "iopub.status.idle": "2025-10-18T19:21:52.109872Z",
     "shell.execute_reply": "2025-10-18T19:21:52.109158Z"
    },
    "papermill": {
     "duration": 0.008567,
     "end_time": "2025-10-18T19:21:52.110483",
     "exception": false,
     "start_time": "2025-10-18T19:21:52.101916",
     "status": "completed"
    },
    "tags": []
   },
   "outputs": [],
   "source": [
    "#final_data[\"price_in_dollars\"]=final_data[\"sell_price\"]*final_data[\"sales\"]"
   ]
  },
  {
   "cell_type": "code",
   "execution_count": 13,
   "id": "48c5c075",
   "metadata": {
    "execution": {
     "iopub.execute_input": "2025-10-18T19:21:52.121106Z",
     "iopub.status.busy": "2025-10-18T19:21:52.120887Z",
     "iopub.status.idle": "2025-10-18T19:21:52.123549Z",
     "shell.execute_reply": "2025-10-18T19:21:52.122833Z"
    },
    "papermill": {
     "duration": 0.008972,
     "end_time": "2025-10-18T19:21:52.124157",
     "exception": false,
     "start_time": "2025-10-18T19:21:52.115185",
     "status": "completed"
    },
    "tags": []
   },
   "outputs": [],
   "source": [
    "#final_data.to_csv(\"/kaggle/working/data.csv\")"
   ]
  },
  {
   "cell_type": "markdown",
   "id": "3aba66d6",
   "metadata": {
    "papermill": {
     "duration": 0.004452,
     "end_time": "2025-10-18T19:21:52.133228",
     "exception": false,
     "start_time": "2025-10-18T19:21:52.128776",
     "status": "completed"
    },
    "tags": []
   },
   "source": [
    "# EDA"
   ]
  },
  {
   "cell_type": "code",
   "execution_count": 14,
   "id": "5fbe4261",
   "metadata": {
    "execution": {
     "iopub.execute_input": "2025-10-18T19:21:52.143650Z",
     "iopub.status.busy": "2025-10-18T19:21:52.143438Z",
     "iopub.status.idle": "2025-10-18T19:21:52.285362Z",
     "shell.execute_reply": "2025-10-18T19:21:52.284423Z"
    },
    "papermill": {
     "duration": 0.148418,
     "end_time": "2025-10-18T19:21:52.286215",
     "exception": false,
     "start_time": "2025-10-18T19:21:52.137797",
     "status": "completed"
    },
    "tags": []
   },
   "outputs": [
    {
     "data": {
      "text/plain": [
       "sales\n",
       "0    12299413\n",
       "Name: count, dtype: int64"
      ]
     },
     "execution_count": 14,
     "metadata": {},
     "output_type": "execute_result"
    }
   ],
   "source": [
    "data.loc[data[\"sell_price\"].isna(), \"sales\"].value_counts()"
   ]
  },
  {
   "cell_type": "code",
   "execution_count": 15,
   "id": "dc4201ec",
   "metadata": {
    "execution": {
     "iopub.execute_input": "2025-10-18T19:21:52.297287Z",
     "iopub.status.busy": "2025-10-18T19:21:52.297041Z",
     "iopub.status.idle": "2025-10-18T19:22:10.498428Z",
     "shell.execute_reply": "2025-10-18T19:22:10.497507Z"
    },
    "papermill": {
     "duration": 18.208274,
     "end_time": "2025-10-18T19:22:10.499213",
     "exception": false,
     "start_time": "2025-10-18T19:21:52.290939",
     "status": "completed"
    },
    "tags": []
   },
   "outputs": [
    {
     "data": {
      "text/plain": [
       "Unnamed: 0                 0\n",
       "item_id                    0\n",
       "dept_id                    0\n",
       "cat_id                     0\n",
       "store_id                   0\n",
       "state_id                   0\n",
       "d                          0\n",
       "sales                      0\n",
       "date                       0\n",
       "wm_yr_wk                   0\n",
       "weekday                    0\n",
       "wday                       0\n",
       "month                      0\n",
       "year                       0\n",
       "event_name_1               0\n",
       "event_type_1               0\n",
       "event_name_2               0\n",
       "event_type_2               0\n",
       "snap                       0\n",
       "sell_price          12299413\n",
       "price_in_dollars    12299413\n",
       "dtype: int64"
      ]
     },
     "execution_count": 15,
     "metadata": {},
     "output_type": "execute_result"
    }
   ],
   "source": [
    "data.isna().sum()"
   ]
  },
  {
   "cell_type": "code",
   "execution_count": 16,
   "id": "6110ff30",
   "metadata": {
    "execution": {
     "iopub.execute_input": "2025-10-18T19:22:10.510213Z",
     "iopub.status.busy": "2025-10-18T19:22:10.510004Z",
     "iopub.status.idle": "2025-10-18T19:22:13.723999Z",
     "shell.execute_reply": "2025-10-18T19:22:13.722927Z"
    },
    "papermill": {
     "duration": 3.220503,
     "end_time": "2025-10-18T19:22:13.724669",
     "exception": false,
     "start_time": "2025-10-18T19:22:10.504166",
     "status": "completed"
    },
    "tags": []
   },
   "outputs": [
    {
     "name": "stdout",
     "output_type": "stream",
     "text": [
      "🔍 Outlier Summary:\n"
     ]
    },
    {
     "data": {
      "text/html": [
       "<div>\n",
       "<style scoped>\n",
       "    .dataframe tbody tr th:only-of-type {\n",
       "        vertical-align: middle;\n",
       "    }\n",
       "\n",
       "    .dataframe tbody tr th {\n",
       "        vertical-align: top;\n",
       "    }\n",
       "\n",
       "    .dataframe thead th {\n",
       "        text-align: right;\n",
       "    }\n",
       "</style>\n",
       "<table border=\"1\" class=\"dataframe\">\n",
       "  <thead>\n",
       "    <tr style=\"text-align: right;\">\n",
       "      <th></th>\n",
       "      <th>Q1</th>\n",
       "      <th>Q3</th>\n",
       "      <th>Lower Bound</th>\n",
       "      <th>Upper Bound</th>\n",
       "      <th>Outlier Count</th>\n",
       "      <th>Outlier %</th>\n",
       "    </tr>\n",
       "  </thead>\n",
       "  <tbody>\n",
       "    <tr>\n",
       "      <th>sales</th>\n",
       "      <td>0.00</td>\n",
       "      <td>1.00</td>\n",
       "      <td>-1.50</td>\n",
       "      <td>2.50</td>\n",
       "      <td>6902589.0</td>\n",
       "      <td>11.834</td>\n",
       "    </tr>\n",
       "    <tr>\n",
       "      <th>sell_price</th>\n",
       "      <td>2.18</td>\n",
       "      <td>5.84</td>\n",
       "      <td>-3.31</td>\n",
       "      <td>11.33</td>\n",
       "      <td>2035260.0</td>\n",
       "      <td>3.489</td>\n",
       "    </tr>\n",
       "    <tr>\n",
       "      <th>price_in_dollars</th>\n",
       "      <td>0.00</td>\n",
       "      <td>4.78</td>\n",
       "      <td>-7.17</td>\n",
       "      <td>11.95</td>\n",
       "      <td>4249172.0</td>\n",
       "      <td>7.285</td>\n",
       "    </tr>\n",
       "  </tbody>\n",
       "</table>\n",
       "</div>"
      ],
      "text/plain": [
       "                    Q1    Q3  Lower Bound  Upper Bound  Outlier Count  \\\n",
       "sales             0.00  1.00        -1.50         2.50      6902589.0   \n",
       "sell_price        2.18  5.84        -3.31        11.33      2035260.0   \n",
       "price_in_dollars  0.00  4.78        -7.17        11.95      4249172.0   \n",
       "\n",
       "                  Outlier %  \n",
       "sales                11.834  \n",
       "sell_price            3.489  \n",
       "price_in_dollars      7.285  "
      ]
     },
     "metadata": {},
     "output_type": "display_data"
    }
   ],
   "source": [
    "# Choose numeric columns to check\n",
    "numeric_cols = [\"sales\", \"sell_price\", \"price_in_dollars\"]\n",
    "\n",
    "# Create a dictionary to store results\n",
    "outlier_summary = {}\n",
    "\n",
    "for col in numeric_cols:\n",
    "    Q1 = data[col].quantile(0.25)\n",
    "    Q3 = data[col].quantile(0.75)\n",
    "    IQR = Q3 - Q1\n",
    "\n",
    "    # Define outlier thresholds\n",
    "    lower = Q1 - 1.5 * IQR\n",
    "    upper = Q3 + 1.5 * IQR\n",
    "\n",
    "    # Boolean mask for outliers\n",
    "    mask = (data[col] < lower) | (data[col] > upper)\n",
    "\n",
    "    # Store summary\n",
    "    outlier_summary[col] = {\n",
    "        \"Q1\": Q1,\n",
    "        \"Q3\": Q3,\n",
    "        \"Lower Bound\": lower,\n",
    "        \"Upper Bound\": upper,\n",
    "        \"Outlier Count\": mask.sum(),\n",
    "        \"Outlier %\": round(mask.mean() * 100, 3)\n",
    "    }\n",
    "\n",
    "# Convert to DataFrame for readability\n",
    "outlier_df = pd.DataFrame(outlier_summary).T\n",
    "print(\"🔍 Outlier Summary:\")\n",
    "display(outlier_df)\n"
   ]
  },
  {
   "cell_type": "code",
   "execution_count": 17,
   "id": "433ce799",
   "metadata": {
    "execution": {
     "iopub.execute_input": "2025-10-18T19:22:13.735941Z",
     "iopub.status.busy": "2025-10-18T19:22:13.735754Z",
     "iopub.status.idle": "2025-10-18T19:22:17.379897Z",
     "shell.execute_reply": "2025-10-18T19:22:17.378928Z"
    },
    "papermill": {
     "duration": 3.650799,
     "end_time": "2025-10-18T19:22:17.380570",
     "exception": false,
     "start_time": "2025-10-18T19:22:13.729771",
     "status": "completed"
    },
    "tags": []
   },
   "outputs": [
    {
     "data": {
      "text/html": [
       "<div>\n",
       "<style scoped>\n",
       "    .dataframe tbody tr th:only-of-type {\n",
       "        vertical-align: middle;\n",
       "    }\n",
       "\n",
       "    .dataframe tbody tr th {\n",
       "        vertical-align: top;\n",
       "    }\n",
       "\n",
       "    .dataframe thead th {\n",
       "        text-align: right;\n",
       "    }\n",
       "</style>\n",
       "<table border=\"1\" class=\"dataframe\">\n",
       "  <thead>\n",
       "    <tr style=\"text-align: right;\">\n",
       "      <th></th>\n",
       "      <th>Unnamed: 0</th>\n",
       "      <th>item_id</th>\n",
       "      <th>dept_id</th>\n",
       "      <th>cat_id</th>\n",
       "      <th>store_id</th>\n",
       "      <th>state_id</th>\n",
       "      <th>d</th>\n",
       "      <th>sales</th>\n",
       "      <th>date</th>\n",
       "      <th>wm_yr_wk</th>\n",
       "      <th>...</th>\n",
       "      <th>wday</th>\n",
       "      <th>month</th>\n",
       "      <th>year</th>\n",
       "      <th>event_name_1</th>\n",
       "      <th>event_type_1</th>\n",
       "      <th>event_name_2</th>\n",
       "      <th>event_type_2</th>\n",
       "      <th>snap</th>\n",
       "      <th>sell_price</th>\n",
       "      <th>price_in_dollars</th>\n",
       "    </tr>\n",
       "  </thead>\n",
       "  <tbody>\n",
       "    <tr>\n",
       "      <th>15552906</th>\n",
       "      <td>15552906</td>\n",
       "      <td>FOODS_3_785</td>\n",
       "      <td>FOODS_3</td>\n",
       "      <td>FOODS</td>\n",
       "      <td>CA_1</td>\n",
       "      <td>CA</td>\n",
       "      <td>d_511</td>\n",
       "      <td>648</td>\n",
       "      <td>2012-06-22</td>\n",
       "      <td>11221</td>\n",
       "      <td>...</td>\n",
       "      <td>7</td>\n",
       "      <td>6</td>\n",
       "      <td>2012</td>\n",
       "      <td>No event</td>\n",
       "      <td>No event</td>\n",
       "      <td>No event</td>\n",
       "      <td>No event</td>\n",
       "      <td>0</td>\n",
       "      <td>3.34</td>\n",
       "      <td>2164.32</td>\n",
       "    </tr>\n",
       "    <tr>\n",
       "      <th>26173774</th>\n",
       "      <td>26173774</td>\n",
       "      <td>HOUSEHOLD_2_062</td>\n",
       "      <td>HOUSEHOLD_2</td>\n",
       "      <td>HOUSEHOLD</td>\n",
       "      <td>TX_1</td>\n",
       "      <td>TX</td>\n",
       "      <td>d_859</td>\n",
       "      <td>601</td>\n",
       "      <td>2013-06-05</td>\n",
       "      <td>11319</td>\n",
       "      <td>...</td>\n",
       "      <td>5</td>\n",
       "      <td>6</td>\n",
       "      <td>2013</td>\n",
       "      <td>No event</td>\n",
       "      <td>No event</td>\n",
       "      <td>No event</td>\n",
       "      <td>No event</td>\n",
       "      <td>1</td>\n",
       "      <td>2.94</td>\n",
       "      <td>1766.94</td>\n",
       "    </tr>\n",
       "    <tr>\n",
       "      <th>44229139</th>\n",
       "      <td>44229139</td>\n",
       "      <td>HOBBIES_1_354</td>\n",
       "      <td>HOBBIES_1</td>\n",
       "      <td>HOBBIES</td>\n",
       "      <td>TX_3</td>\n",
       "      <td>TX</td>\n",
       "      <td>d_1451</td>\n",
       "      <td>81</td>\n",
       "      <td>2015-01-18</td>\n",
       "      <td>11451</td>\n",
       "      <td>...</td>\n",
       "      <td>2</td>\n",
       "      <td>1</td>\n",
       "      <td>2015</td>\n",
       "      <td>No event</td>\n",
       "      <td>No event</td>\n",
       "      <td>No event</td>\n",
       "      <td>No event</td>\n",
       "      <td>0</td>\n",
       "      <td>19.98</td>\n",
       "      <td>1618.38</td>\n",
       "    </tr>\n",
       "    <tr>\n",
       "      <th>48040389</th>\n",
       "      <td>48040389</td>\n",
       "      <td>HOBBIES_1_354</td>\n",
       "      <td>HOBBIES_1</td>\n",
       "      <td>HOBBIES</td>\n",
       "      <td>TX_3</td>\n",
       "      <td>TX</td>\n",
       "      <td>d_1576</td>\n",
       "      <td>69</td>\n",
       "      <td>2015-05-23</td>\n",
       "      <td>11517</td>\n",
       "      <td>...</td>\n",
       "      <td>1</td>\n",
       "      <td>5</td>\n",
       "      <td>2015</td>\n",
       "      <td>No event</td>\n",
       "      <td>No event</td>\n",
       "      <td>No event</td>\n",
       "      <td>No event</td>\n",
       "      <td>0</td>\n",
       "      <td>22.98</td>\n",
       "      <td>1585.62</td>\n",
       "    </tr>\n",
       "    <tr>\n",
       "      <th>2971837</th>\n",
       "      <td>2971837</td>\n",
       "      <td>FOODS_2_285</td>\n",
       "      <td>FOODS_2</td>\n",
       "      <td>FOODS</td>\n",
       "      <td>TX_1</td>\n",
       "      <td>TX</td>\n",
       "      <td>d_98</td>\n",
       "      <td>634</td>\n",
       "      <td>2011-05-06</td>\n",
       "      <td>11114</td>\n",
       "      <td>...</td>\n",
       "      <td>7</td>\n",
       "      <td>5</td>\n",
       "      <td>2011</td>\n",
       "      <td>No event</td>\n",
       "      <td>No event</td>\n",
       "      <td>No event</td>\n",
       "      <td>No event</td>\n",
       "      <td>1</td>\n",
       "      <td>2.36</td>\n",
       "      <td>1496.24</td>\n",
       "    </tr>\n",
       "    <tr>\n",
       "      <th>17717696</th>\n",
       "      <td>17717696</td>\n",
       "      <td>FOODS_3_785</td>\n",
       "      <td>FOODS_3</td>\n",
       "      <td>FOODS</td>\n",
       "      <td>CA_1</td>\n",
       "      <td>CA</td>\n",
       "      <td>d_582</td>\n",
       "      <td>427</td>\n",
       "      <td>2012-09-01</td>\n",
       "      <td>11232</td>\n",
       "      <td>...</td>\n",
       "      <td>1</td>\n",
       "      <td>9</td>\n",
       "      <td>2012</td>\n",
       "      <td>No event</td>\n",
       "      <td>No event</td>\n",
       "      <td>No event</td>\n",
       "      <td>No event</td>\n",
       "      <td>1</td>\n",
       "      <td>3.34</td>\n",
       "      <td>1426.18</td>\n",
       "    </tr>\n",
       "    <tr>\n",
       "      <th>18668322</th>\n",
       "      <td>18668322</td>\n",
       "      <td>FOODS_3_120</td>\n",
       "      <td>FOODS_3</td>\n",
       "      <td>FOODS</td>\n",
       "      <td>CA_3</td>\n",
       "      <td>CA</td>\n",
       "      <td>d_613</td>\n",
       "      <td>276</td>\n",
       "      <td>2012-10-02</td>\n",
       "      <td>11236</td>\n",
       "      <td>...</td>\n",
       "      <td>4</td>\n",
       "      <td>10</td>\n",
       "      <td>2012</td>\n",
       "      <td>No event</td>\n",
       "      <td>No event</td>\n",
       "      <td>No event</td>\n",
       "      <td>No event</td>\n",
       "      <td>1</td>\n",
       "      <td>4.98</td>\n",
       "      <td>1374.48</td>\n",
       "    </tr>\n",
       "    <tr>\n",
       "      <th>45296097</th>\n",
       "      <td>45296097</td>\n",
       "      <td>HOBBIES_1_158</td>\n",
       "      <td>HOBBIES_1</td>\n",
       "      <td>HOBBIES</td>\n",
       "      <td>TX_3</td>\n",
       "      <td>TX</td>\n",
       "      <td>d_1486</td>\n",
       "      <td>56</td>\n",
       "      <td>2015-02-22</td>\n",
       "      <td>11504</td>\n",
       "      <td>...</td>\n",
       "      <td>2</td>\n",
       "      <td>2</td>\n",
       "      <td>2015</td>\n",
       "      <td>No event</td>\n",
       "      <td>No event</td>\n",
       "      <td>No event</td>\n",
       "      <td>No event</td>\n",
       "      <td>0</td>\n",
       "      <td>22.98</td>\n",
       "      <td>1286.88</td>\n",
       "    </tr>\n",
       "    <tr>\n",
       "      <th>18698812</th>\n",
       "      <td>18698812</td>\n",
       "      <td>FOODS_3_120</td>\n",
       "      <td>FOODS_3</td>\n",
       "      <td>FOODS</td>\n",
       "      <td>CA_3</td>\n",
       "      <td>CA</td>\n",
       "      <td>d_614</td>\n",
       "      <td>256</td>\n",
       "      <td>2012-10-03</td>\n",
       "      <td>11236</td>\n",
       "      <td>...</td>\n",
       "      <td>5</td>\n",
       "      <td>10</td>\n",
       "      <td>2012</td>\n",
       "      <td>No event</td>\n",
       "      <td>No event</td>\n",
       "      <td>No event</td>\n",
       "      <td>No event</td>\n",
       "      <td>1</td>\n",
       "      <td>4.98</td>\n",
       "      <td>1274.88</td>\n",
       "    </tr>\n",
       "    <tr>\n",
       "      <th>45041616</th>\n",
       "      <td>45041616</td>\n",
       "      <td>FOODS_1_180</td>\n",
       "      <td>FOODS_1</td>\n",
       "      <td>FOODS</td>\n",
       "      <td>CA_3</td>\n",
       "      <td>CA</td>\n",
       "      <td>d_1478</td>\n",
       "      <td>130</td>\n",
       "      <td>2015-02-14</td>\n",
       "      <td>11503</td>\n",
       "      <td>...</td>\n",
       "      <td>1</td>\n",
       "      <td>2</td>\n",
       "      <td>2015</td>\n",
       "      <td>ValentinesDay</td>\n",
       "      <td>Cultural</td>\n",
       "      <td>No event</td>\n",
       "      <td>No event</td>\n",
       "      <td>0</td>\n",
       "      <td>9.67</td>\n",
       "      <td>1257.10</td>\n",
       "    </tr>\n",
       "  </tbody>\n",
       "</table>\n",
       "<p>10 rows × 21 columns</p>\n",
       "</div>"
      ],
      "text/plain": [
       "          Unnamed: 0          item_id      dept_id     cat_id store_id  \\\n",
       "15552906    15552906      FOODS_3_785      FOODS_3      FOODS     CA_1   \n",
       "26173774    26173774  HOUSEHOLD_2_062  HOUSEHOLD_2  HOUSEHOLD     TX_1   \n",
       "44229139    44229139    HOBBIES_1_354    HOBBIES_1    HOBBIES     TX_3   \n",
       "48040389    48040389    HOBBIES_1_354    HOBBIES_1    HOBBIES     TX_3   \n",
       "2971837      2971837      FOODS_2_285      FOODS_2      FOODS     TX_1   \n",
       "17717696    17717696      FOODS_3_785      FOODS_3      FOODS     CA_1   \n",
       "18668322    18668322      FOODS_3_120      FOODS_3      FOODS     CA_3   \n",
       "45296097    45296097    HOBBIES_1_158    HOBBIES_1    HOBBIES     TX_3   \n",
       "18698812    18698812      FOODS_3_120      FOODS_3      FOODS     CA_3   \n",
       "45041616    45041616      FOODS_1_180      FOODS_1      FOODS     CA_3   \n",
       "\n",
       "         state_id       d  sales        date  wm_yr_wk  ... wday  month  year  \\\n",
       "15552906       CA   d_511    648  2012-06-22     11221  ...    7      6  2012   \n",
       "26173774       TX   d_859    601  2013-06-05     11319  ...    5      6  2013   \n",
       "44229139       TX  d_1451     81  2015-01-18     11451  ...    2      1  2015   \n",
       "48040389       TX  d_1576     69  2015-05-23     11517  ...    1      5  2015   \n",
       "2971837        TX    d_98    634  2011-05-06     11114  ...    7      5  2011   \n",
       "17717696       CA   d_582    427  2012-09-01     11232  ...    1      9  2012   \n",
       "18668322       CA   d_613    276  2012-10-02     11236  ...    4     10  2012   \n",
       "45296097       TX  d_1486     56  2015-02-22     11504  ...    2      2  2015   \n",
       "18698812       CA   d_614    256  2012-10-03     11236  ...    5     10  2012   \n",
       "45041616       CA  d_1478    130  2015-02-14     11503  ...    1      2  2015   \n",
       "\n",
       "           event_name_1 event_type_1 event_name_2 event_type_2 snap  \\\n",
       "15552906       No event     No event     No event     No event    0   \n",
       "26173774       No event     No event     No event     No event    1   \n",
       "44229139       No event     No event     No event     No event    0   \n",
       "48040389       No event     No event     No event     No event    0   \n",
       "2971837        No event     No event     No event     No event    1   \n",
       "17717696       No event     No event     No event     No event    1   \n",
       "18668322       No event     No event     No event     No event    1   \n",
       "45296097       No event     No event     No event     No event    0   \n",
       "18698812       No event     No event     No event     No event    1   \n",
       "45041616  ValentinesDay     Cultural     No event     No event    0   \n",
       "\n",
       "          sell_price  price_in_dollars  \n",
       "15552906        3.34           2164.32  \n",
       "26173774        2.94           1766.94  \n",
       "44229139       19.98           1618.38  \n",
       "48040389       22.98           1585.62  \n",
       "2971837         2.36           1496.24  \n",
       "17717696        3.34           1426.18  \n",
       "18668322        4.98           1374.48  \n",
       "45296097       22.98           1286.88  \n",
       "18698812        4.98           1274.88  \n",
       "45041616        9.67           1257.10  \n",
       "\n",
       "[10 rows x 21 columns]"
      ]
     },
     "execution_count": 17,
     "metadata": {},
     "output_type": "execute_result"
    }
   ],
   "source": [
    "Q1 = data[\"price_in_dollars\"].quantile(0.25)\n",
    "Q3 = data[\"price_in_dollars\"].quantile(0.75)\n",
    "IQR = Q3 - Q1\n",
    "upper = Q3 + 1.5 * IQR\n",
    "\n",
    "data[data[\"price_in_dollars\"] > upper].sort_values(\"price_in_dollars\", ascending=False).head(10)\n"
   ]
  },
  {
   "cell_type": "code",
   "execution_count": 18,
   "id": "dcec0ffa",
   "metadata": {
    "execution": {
     "iopub.execute_input": "2025-10-18T19:22:17.393322Z",
     "iopub.status.busy": "2025-10-18T19:22:17.393097Z",
     "iopub.status.idle": "2025-10-18T19:22:19.364178Z",
     "shell.execute_reply": "2025-10-18T19:22:19.363177Z"
    },
    "papermill": {
     "duration": 1.978609,
     "end_time": "2025-10-18T19:22:19.364989",
     "exception": false,
     "start_time": "2025-10-18T19:22:17.386380",
     "status": "completed"
    },
    "tags": []
   },
   "outputs": [
    {
     "data": {
      "text/html": [
       "<div>\n",
       "<style scoped>\n",
       "    .dataframe tbody tr th:only-of-type {\n",
       "        vertical-align: middle;\n",
       "    }\n",
       "\n",
       "    .dataframe tbody tr th {\n",
       "        vertical-align: top;\n",
       "    }\n",
       "\n",
       "    .dataframe thead th {\n",
       "        text-align: right;\n",
       "    }\n",
       "</style>\n",
       "<table border=\"1\" class=\"dataframe\">\n",
       "  <thead>\n",
       "    <tr style=\"text-align: right;\">\n",
       "      <th></th>\n",
       "      <th>Unnamed: 0</th>\n",
       "      <th>item_id</th>\n",
       "      <th>dept_id</th>\n",
       "      <th>cat_id</th>\n",
       "      <th>store_id</th>\n",
       "      <th>state_id</th>\n",
       "      <th>d</th>\n",
       "      <th>sales</th>\n",
       "      <th>date</th>\n",
       "      <th>wm_yr_wk</th>\n",
       "      <th>...</th>\n",
       "      <th>wday</th>\n",
       "      <th>month</th>\n",
       "      <th>year</th>\n",
       "      <th>event_name_1</th>\n",
       "      <th>event_type_1</th>\n",
       "      <th>event_name_2</th>\n",
       "      <th>event_type_2</th>\n",
       "      <th>snap</th>\n",
       "      <th>sell_price</th>\n",
       "      <th>price_in_dollars</th>\n",
       "    </tr>\n",
       "  </thead>\n",
       "  <tbody>\n",
       "    <tr>\n",
       "      <th>21960941</th>\n",
       "      <td>21960941</td>\n",
       "      <td>FOODS_2_217</td>\n",
       "      <td>FOODS_2</td>\n",
       "      <td>FOODS</td>\n",
       "      <td>CA_3</td>\n",
       "      <td>CA</td>\n",
       "      <td>d_721</td>\n",
       "      <td>4</td>\n",
       "      <td>2013-01-18</td>\n",
       "      <td>11251</td>\n",
       "      <td>...</td>\n",
       "      <td>7</td>\n",
       "      <td>1</td>\n",
       "      <td>2013</td>\n",
       "      <td>No event</td>\n",
       "      <td>No event</td>\n",
       "      <td>No event</td>\n",
       "      <td>No event</td>\n",
       "      <td>0</td>\n",
       "      <td>3.98</td>\n",
       "      <td>15.92</td>\n",
       "    </tr>\n",
       "    <tr>\n",
       "      <th>16658687</th>\n",
       "      <td>16658687</td>\n",
       "      <td>FOODS_2_174</td>\n",
       "      <td>FOODS_2</td>\n",
       "      <td>FOODS</td>\n",
       "      <td>CA_4</td>\n",
       "      <td>CA</td>\n",
       "      <td>d_547</td>\n",
       "      <td>6</td>\n",
       "      <td>2012-07-28</td>\n",
       "      <td>11227</td>\n",
       "      <td>...</td>\n",
       "      <td>1</td>\n",
       "      <td>7</td>\n",
       "      <td>2012</td>\n",
       "      <td>No event</td>\n",
       "      <td>No event</td>\n",
       "      <td>No event</td>\n",
       "      <td>No event</td>\n",
       "      <td>0</td>\n",
       "      <td>2.82</td>\n",
       "      <td>16.92</td>\n",
       "    </tr>\n",
       "    <tr>\n",
       "      <th>21811614</th>\n",
       "      <td>21811614</td>\n",
       "      <td>FOODS_2_291</td>\n",
       "      <td>FOODS_2</td>\n",
       "      <td>FOODS</td>\n",
       "      <td>CA_4</td>\n",
       "      <td>CA</td>\n",
       "      <td>d_716</td>\n",
       "      <td>2</td>\n",
       "      <td>2013-01-13</td>\n",
       "      <td>11251</td>\n",
       "      <td>...</td>\n",
       "      <td>2</td>\n",
       "      <td>1</td>\n",
       "      <td>2013</td>\n",
       "      <td>No event</td>\n",
       "      <td>No event</td>\n",
       "      <td>No event</td>\n",
       "      <td>No event</td>\n",
       "      <td>0</td>\n",
       "      <td>6.98</td>\n",
       "      <td>13.96</td>\n",
       "    </tr>\n",
       "    <tr>\n",
       "      <th>6851124</th>\n",
       "      <td>6851124</td>\n",
       "      <td>HOBBIES_1_022</td>\n",
       "      <td>HOBBIES_1</td>\n",
       "      <td>HOBBIES</td>\n",
       "      <td>WI_1</td>\n",
       "      <td>WI</td>\n",
       "      <td>d_225</td>\n",
       "      <td>2</td>\n",
       "      <td>2011-09-10</td>\n",
       "      <td>11133</td>\n",
       "      <td>...</td>\n",
       "      <td>1</td>\n",
       "      <td>9</td>\n",
       "      <td>2011</td>\n",
       "      <td>No event</td>\n",
       "      <td>No event</td>\n",
       "      <td>No event</td>\n",
       "      <td>No event</td>\n",
       "      <td>0</td>\n",
       "      <td>6.98</td>\n",
       "      <td>13.96</td>\n",
       "    </tr>\n",
       "    <tr>\n",
       "      <th>15584350</th>\n",
       "      <td>15584350</td>\n",
       "      <td>HOUSEHOLD_1_354</td>\n",
       "      <td>HOUSEHOLD_1</td>\n",
       "      <td>HOUSEHOLD</td>\n",
       "      <td>CA_2</td>\n",
       "      <td>CA</td>\n",
       "      <td>d_512</td>\n",
       "      <td>7</td>\n",
       "      <td>2012-06-23</td>\n",
       "      <td>11222</td>\n",
       "      <td>...</td>\n",
       "      <td>1</td>\n",
       "      <td>6</td>\n",
       "      <td>2012</td>\n",
       "      <td>No event</td>\n",
       "      <td>No event</td>\n",
       "      <td>No event</td>\n",
       "      <td>No event</td>\n",
       "      <td>0</td>\n",
       "      <td>1.93</td>\n",
       "      <td>13.51</td>\n",
       "    </tr>\n",
       "    <tr>\n",
       "      <th>28340023</th>\n",
       "      <td>28340023</td>\n",
       "      <td>FOODS_3_393</td>\n",
       "      <td>FOODS_3</td>\n",
       "      <td>FOODS</td>\n",
       "      <td>TX_1</td>\n",
       "      <td>TX</td>\n",
       "      <td>d_930</td>\n",
       "      <td>4</td>\n",
       "      <td>2013-08-15</td>\n",
       "      <td>11329</td>\n",
       "      <td>...</td>\n",
       "      <td>6</td>\n",
       "      <td>8</td>\n",
       "      <td>2013</td>\n",
       "      <td>No event</td>\n",
       "      <td>No event</td>\n",
       "      <td>No event</td>\n",
       "      <td>No event</td>\n",
       "      <td>1</td>\n",
       "      <td>3.50</td>\n",
       "      <td>14.00</td>\n",
       "    </tr>\n",
       "    <tr>\n",
       "      <th>47713437</th>\n",
       "      <td>47713437</td>\n",
       "      <td>FOODS_3_461</td>\n",
       "      <td>FOODS_3</td>\n",
       "      <td>FOODS</td>\n",
       "      <td>WI_2</td>\n",
       "      <td>WI</td>\n",
       "      <td>d_1565</td>\n",
       "      <td>11</td>\n",
       "      <td>2015-05-12</td>\n",
       "      <td>11515</td>\n",
       "      <td>...</td>\n",
       "      <td>4</td>\n",
       "      <td>5</td>\n",
       "      <td>2015</td>\n",
       "      <td>No event</td>\n",
       "      <td>No event</td>\n",
       "      <td>No event</td>\n",
       "      <td>No event</td>\n",
       "      <td>1</td>\n",
       "      <td>1.48</td>\n",
       "      <td>16.28</td>\n",
       "    </tr>\n",
       "    <tr>\n",
       "      <th>54567205</th>\n",
       "      <td>54567205</td>\n",
       "      <td>FOODS_3_077</td>\n",
       "      <td>FOODS_3</td>\n",
       "      <td>FOODS</td>\n",
       "      <td>TX_3</td>\n",
       "      <td>TX</td>\n",
       "      <td>d_1790</td>\n",
       "      <td>11</td>\n",
       "      <td>2015-12-23</td>\n",
       "      <td>11547</td>\n",
       "      <td>...</td>\n",
       "      <td>5</td>\n",
       "      <td>12</td>\n",
       "      <td>2015</td>\n",
       "      <td>No event</td>\n",
       "      <td>No event</td>\n",
       "      <td>No event</td>\n",
       "      <td>No event</td>\n",
       "      <td>0</td>\n",
       "      <td>2.50</td>\n",
       "      <td>27.50</td>\n",
       "    </tr>\n",
       "    <tr>\n",
       "      <th>8841867</th>\n",
       "      <td>8841867</td>\n",
       "      <td>FOODS_3_592</td>\n",
       "      <td>FOODS_3</td>\n",
       "      <td>FOODS</td>\n",
       "      <td>WI_3</td>\n",
       "      <td>WI</td>\n",
       "      <td>d_290</td>\n",
       "      <td>2</td>\n",
       "      <td>2011-11-14</td>\n",
       "      <td>11142</td>\n",
       "      <td>...</td>\n",
       "      <td>3</td>\n",
       "      <td>11</td>\n",
       "      <td>2011</td>\n",
       "      <td>No event</td>\n",
       "      <td>No event</td>\n",
       "      <td>No event</td>\n",
       "      <td>No event</td>\n",
       "      <td>1</td>\n",
       "      <td>6.98</td>\n",
       "      <td>13.96</td>\n",
       "    </tr>\n",
       "    <tr>\n",
       "      <th>26798334</th>\n",
       "      <td>26798334</td>\n",
       "      <td>HOUSEHOLD_1_113</td>\n",
       "      <td>HOUSEHOLD_1</td>\n",
       "      <td>HOUSEHOLD</td>\n",
       "      <td>WI_3</td>\n",
       "      <td>WI</td>\n",
       "      <td>d_879</td>\n",
       "      <td>5</td>\n",
       "      <td>2013-06-25</td>\n",
       "      <td>11322</td>\n",
       "      <td>...</td>\n",
       "      <td>4</td>\n",
       "      <td>6</td>\n",
       "      <td>2013</td>\n",
       "      <td>No event</td>\n",
       "      <td>No event</td>\n",
       "      <td>No event</td>\n",
       "      <td>No event</td>\n",
       "      <td>0</td>\n",
       "      <td>6.47</td>\n",
       "      <td>32.35</td>\n",
       "    </tr>\n",
       "  </tbody>\n",
       "</table>\n",
       "<p>10 rows × 21 columns</p>\n",
       "</div>"
      ],
      "text/plain": [
       "          Unnamed: 0          item_id      dept_id     cat_id store_id  \\\n",
       "21960941    21960941      FOODS_2_217      FOODS_2      FOODS     CA_3   \n",
       "16658687    16658687      FOODS_2_174      FOODS_2      FOODS     CA_4   \n",
       "21811614    21811614      FOODS_2_291      FOODS_2      FOODS     CA_4   \n",
       "6851124      6851124    HOBBIES_1_022    HOBBIES_1    HOBBIES     WI_1   \n",
       "15584350    15584350  HOUSEHOLD_1_354  HOUSEHOLD_1  HOUSEHOLD     CA_2   \n",
       "28340023    28340023      FOODS_3_393      FOODS_3      FOODS     TX_1   \n",
       "47713437    47713437      FOODS_3_461      FOODS_3      FOODS     WI_2   \n",
       "54567205    54567205      FOODS_3_077      FOODS_3      FOODS     TX_3   \n",
       "8841867      8841867      FOODS_3_592      FOODS_3      FOODS     WI_3   \n",
       "26798334    26798334  HOUSEHOLD_1_113  HOUSEHOLD_1  HOUSEHOLD     WI_3   \n",
       "\n",
       "         state_id       d  sales        date  wm_yr_wk  ... wday  month  year  \\\n",
       "21960941       CA   d_721      4  2013-01-18     11251  ...    7      1  2013   \n",
       "16658687       CA   d_547      6  2012-07-28     11227  ...    1      7  2012   \n",
       "21811614       CA   d_716      2  2013-01-13     11251  ...    2      1  2013   \n",
       "6851124        WI   d_225      2  2011-09-10     11133  ...    1      9  2011   \n",
       "15584350       CA   d_512      7  2012-06-23     11222  ...    1      6  2012   \n",
       "28340023       TX   d_930      4  2013-08-15     11329  ...    6      8  2013   \n",
       "47713437       WI  d_1565     11  2015-05-12     11515  ...    4      5  2015   \n",
       "54567205       TX  d_1790     11  2015-12-23     11547  ...    5     12  2015   \n",
       "8841867        WI   d_290      2  2011-11-14     11142  ...    3     11  2011   \n",
       "26798334       WI   d_879      5  2013-06-25     11322  ...    4      6  2013   \n",
       "\n",
       "          event_name_1 event_type_1 event_name_2 event_type_2 snap  \\\n",
       "21960941      No event     No event     No event     No event    0   \n",
       "16658687      No event     No event     No event     No event    0   \n",
       "21811614      No event     No event     No event     No event    0   \n",
       "6851124       No event     No event     No event     No event    0   \n",
       "15584350      No event     No event     No event     No event    0   \n",
       "28340023      No event     No event     No event     No event    1   \n",
       "47713437      No event     No event     No event     No event    1   \n",
       "54567205      No event     No event     No event     No event    0   \n",
       "8841867       No event     No event     No event     No event    1   \n",
       "26798334      No event     No event     No event     No event    0   \n",
       "\n",
       "          sell_price  price_in_dollars  \n",
       "21960941        3.98             15.92  \n",
       "16658687        2.82             16.92  \n",
       "21811614        6.98             13.96  \n",
       "6851124         6.98             13.96  \n",
       "15584350        1.93             13.51  \n",
       "28340023        3.50             14.00  \n",
       "47713437        1.48             16.28  \n",
       "54567205        2.50             27.50  \n",
       "8841867         6.98             13.96  \n",
       "26798334        6.47             32.35  \n",
       "\n",
       "[10 rows x 21 columns]"
      ]
     },
     "execution_count": 18,
     "metadata": {},
     "output_type": "execute_result"
    }
   ],
   "source": [
    "# Calculate IQR-based upper threshold\n",
    "Q1 = data[\"price_in_dollars\"].quantile(0.25)\n",
    "Q3 = data[\"price_in_dollars\"].quantile(0.75)\n",
    "IQR = Q3 - Q1\n",
    "upper = Q3 + 1.5 * IQR\n",
    "\n",
    "# Extract outliers (above upper bound)\n",
    "outliers = data[data[\"price_in_dollars\"] > upper]\n",
    "\n",
    "# Show a random sample of 10 outlier rows\n",
    "outliers.sample(10, random_state=42)\n"
   ]
  },
  {
   "cell_type": "code",
   "execution_count": 19,
   "id": "8fd0bee8",
   "metadata": {
    "execution": {
     "iopub.execute_input": "2025-10-18T19:22:19.377725Z",
     "iopub.status.busy": "2025-10-18T19:22:19.377502Z",
     "iopub.status.idle": "2025-10-18T19:22:26.932367Z",
     "shell.execute_reply": "2025-10-18T19:22:26.931276Z"
    },
    "papermill": {
     "duration": 7.562062,
     "end_time": "2025-10-18T19:22:26.933048",
     "exception": false,
     "start_time": "2025-10-18T19:22:19.370986",
     "status": "completed"
    },
    "tags": []
   },
   "outputs": [
    {
     "name": "stdout",
     "output_type": "stream",
     "text": [
      "['No event' 'SuperBowl' 'ValentinesDay' 'PresidentsDay' 'LentStart'\n",
      " 'LentWeek2' 'StPatricksDay' 'Purim End' 'OrthodoxEaster' 'Pesach End'\n",
      " 'Cinco De Mayo' \"Mother's day\" 'MemorialDay' 'NBAFinalsStart'\n",
      " 'NBAFinalsEnd' \"Father's day\" 'IndependenceDay' 'Ramadan starts'\n",
      " 'Eid al-Fitr' 'LaborDay' 'ColumbusDay' 'Halloween' 'EidAlAdha'\n",
      " 'VeteransDay' 'Thanksgiving' 'Christmas' 'Chanukah End' 'NewYear'\n",
      " 'OrthodoxChristmas' 'MartinLutherKingDay' 'Easter']\n"
     ]
    },
    {
     "name": "stdout",
     "output_type": "stream",
     "text": [
      "['No event' 'Easter' 'Cinco De Mayo' 'OrthodoxEaster' \"Father's day\"]\n"
     ]
    },
    {
     "name": "stdout",
     "output_type": "stream",
     "text": [
      "['No event' 'Sporting' 'Cultural' 'National' 'Religious']\n"
     ]
    },
    {
     "name": "stdout",
     "output_type": "stream",
     "text": [
      "['No event' 'Cultural' 'Religious']\n"
     ]
    }
   ],
   "source": [
    "print(data[\"event_name_1\"].unique())\n",
    "print(data[\"event_name_2\"].unique())\n",
    "print(data[\"event_type_1\"].unique())\n",
    "print(data[\"event_type_2\"].unique())"
   ]
  },
  {
   "cell_type": "code",
   "execution_count": 20,
   "id": "b8dad092",
   "metadata": {
    "execution": {
     "iopub.execute_input": "2025-10-18T19:22:26.946208Z",
     "iopub.status.busy": "2025-10-18T19:22:26.946000Z",
     "iopub.status.idle": "2025-10-18T19:22:26.960352Z",
     "shell.execute_reply": "2025-10-18T19:22:26.959616Z"
    },
    "papermill": {
     "duration": 0.022025,
     "end_time": "2025-10-18T19:22:26.960962",
     "exception": false,
     "start_time": "2025-10-18T19:22:26.938937",
     "status": "completed"
    },
    "tags": []
   },
   "outputs": [
    {
     "data": {
      "text/html": [
       "<div>\n",
       "<style scoped>\n",
       "    .dataframe tbody tr th:only-of-type {\n",
       "        vertical-align: middle;\n",
       "    }\n",
       "\n",
       "    .dataframe tbody tr th {\n",
       "        vertical-align: top;\n",
       "    }\n",
       "\n",
       "    .dataframe thead th {\n",
       "        text-align: right;\n",
       "    }\n",
       "</style>\n",
       "<table border=\"1\" class=\"dataframe\">\n",
       "  <thead>\n",
       "    <tr style=\"text-align: right;\">\n",
       "      <th></th>\n",
       "      <th>Unnamed: 0</th>\n",
       "      <th>item_id</th>\n",
       "      <th>dept_id</th>\n",
       "      <th>cat_id</th>\n",
       "      <th>store_id</th>\n",
       "      <th>state_id</th>\n",
       "      <th>d</th>\n",
       "      <th>sales</th>\n",
       "      <th>date</th>\n",
       "      <th>wm_yr_wk</th>\n",
       "      <th>...</th>\n",
       "      <th>wday</th>\n",
       "      <th>month</th>\n",
       "      <th>year</th>\n",
       "      <th>event_name_1</th>\n",
       "      <th>event_type_1</th>\n",
       "      <th>event_name_2</th>\n",
       "      <th>event_type_2</th>\n",
       "      <th>snap</th>\n",
       "      <th>sell_price</th>\n",
       "      <th>price_in_dollars</th>\n",
       "    </tr>\n",
       "  </thead>\n",
       "  <tbody>\n",
       "    <tr>\n",
       "      <th>0</th>\n",
       "      <td>0</td>\n",
       "      <td>HOBBIES_1_001</td>\n",
       "      <td>HOBBIES_1</td>\n",
       "      <td>HOBBIES</td>\n",
       "      <td>CA_1</td>\n",
       "      <td>CA</td>\n",
       "      <td>d_1</td>\n",
       "      <td>0</td>\n",
       "      <td>2011-01-29</td>\n",
       "      <td>11101</td>\n",
       "      <td>...</td>\n",
       "      <td>1</td>\n",
       "      <td>1</td>\n",
       "      <td>2011</td>\n",
       "      <td>No event</td>\n",
       "      <td>No event</td>\n",
       "      <td>No event</td>\n",
       "      <td>No event</td>\n",
       "      <td>0</td>\n",
       "      <td>NaN</td>\n",
       "      <td>NaN</td>\n",
       "    </tr>\n",
       "    <tr>\n",
       "      <th>1</th>\n",
       "      <td>1</td>\n",
       "      <td>HOBBIES_1_002</td>\n",
       "      <td>HOBBIES_1</td>\n",
       "      <td>HOBBIES</td>\n",
       "      <td>CA_1</td>\n",
       "      <td>CA</td>\n",
       "      <td>d_1</td>\n",
       "      <td>0</td>\n",
       "      <td>2011-01-29</td>\n",
       "      <td>11101</td>\n",
       "      <td>...</td>\n",
       "      <td>1</td>\n",
       "      <td>1</td>\n",
       "      <td>2011</td>\n",
       "      <td>No event</td>\n",
       "      <td>No event</td>\n",
       "      <td>No event</td>\n",
       "      <td>No event</td>\n",
       "      <td>0</td>\n",
       "      <td>NaN</td>\n",
       "      <td>NaN</td>\n",
       "    </tr>\n",
       "    <tr>\n",
       "      <th>2</th>\n",
       "      <td>2</td>\n",
       "      <td>HOBBIES_1_003</td>\n",
       "      <td>HOBBIES_1</td>\n",
       "      <td>HOBBIES</td>\n",
       "      <td>CA_1</td>\n",
       "      <td>CA</td>\n",
       "      <td>d_1</td>\n",
       "      <td>0</td>\n",
       "      <td>2011-01-29</td>\n",
       "      <td>11101</td>\n",
       "      <td>...</td>\n",
       "      <td>1</td>\n",
       "      <td>1</td>\n",
       "      <td>2011</td>\n",
       "      <td>No event</td>\n",
       "      <td>No event</td>\n",
       "      <td>No event</td>\n",
       "      <td>No event</td>\n",
       "      <td>0</td>\n",
       "      <td>NaN</td>\n",
       "      <td>NaN</td>\n",
       "    </tr>\n",
       "    <tr>\n",
       "      <th>3</th>\n",
       "      <td>3</td>\n",
       "      <td>HOBBIES_1_004</td>\n",
       "      <td>HOBBIES_1</td>\n",
       "      <td>HOBBIES</td>\n",
       "      <td>CA_1</td>\n",
       "      <td>CA</td>\n",
       "      <td>d_1</td>\n",
       "      <td>0</td>\n",
       "      <td>2011-01-29</td>\n",
       "      <td>11101</td>\n",
       "      <td>...</td>\n",
       "      <td>1</td>\n",
       "      <td>1</td>\n",
       "      <td>2011</td>\n",
       "      <td>No event</td>\n",
       "      <td>No event</td>\n",
       "      <td>No event</td>\n",
       "      <td>No event</td>\n",
       "      <td>0</td>\n",
       "      <td>NaN</td>\n",
       "      <td>NaN</td>\n",
       "    </tr>\n",
       "    <tr>\n",
       "      <th>4</th>\n",
       "      <td>4</td>\n",
       "      <td>HOBBIES_1_005</td>\n",
       "      <td>HOBBIES_1</td>\n",
       "      <td>HOBBIES</td>\n",
       "      <td>CA_1</td>\n",
       "      <td>CA</td>\n",
       "      <td>d_1</td>\n",
       "      <td>0</td>\n",
       "      <td>2011-01-29</td>\n",
       "      <td>11101</td>\n",
       "      <td>...</td>\n",
       "      <td>1</td>\n",
       "      <td>1</td>\n",
       "      <td>2011</td>\n",
       "      <td>No event</td>\n",
       "      <td>No event</td>\n",
       "      <td>No event</td>\n",
       "      <td>No event</td>\n",
       "      <td>0</td>\n",
       "      <td>NaN</td>\n",
       "      <td>NaN</td>\n",
       "    </tr>\n",
       "    <tr>\n",
       "      <th>...</th>\n",
       "      <td>...</td>\n",
       "      <td>...</td>\n",
       "      <td>...</td>\n",
       "      <td>...</td>\n",
       "      <td>...</td>\n",
       "      <td>...</td>\n",
       "      <td>...</td>\n",
       "      <td>...</td>\n",
       "      <td>...</td>\n",
       "      <td>...</td>\n",
       "      <td>...</td>\n",
       "      <td>...</td>\n",
       "      <td>...</td>\n",
       "      <td>...</td>\n",
       "      <td>...</td>\n",
       "      <td>...</td>\n",
       "      <td>...</td>\n",
       "      <td>...</td>\n",
       "      <td>...</td>\n",
       "      <td>...</td>\n",
       "      <td>...</td>\n",
       "    </tr>\n",
       "    <tr>\n",
       "      <th>1995</th>\n",
       "      <td>1995</td>\n",
       "      <td>FOODS_2_169</td>\n",
       "      <td>FOODS_2</td>\n",
       "      <td>FOODS</td>\n",
       "      <td>CA_1</td>\n",
       "      <td>CA</td>\n",
       "      <td>d_1</td>\n",
       "      <td>0</td>\n",
       "      <td>2011-01-29</td>\n",
       "      <td>11101</td>\n",
       "      <td>...</td>\n",
       "      <td>1</td>\n",
       "      <td>1</td>\n",
       "      <td>2011</td>\n",
       "      <td>No event</td>\n",
       "      <td>No event</td>\n",
       "      <td>No event</td>\n",
       "      <td>No event</td>\n",
       "      <td>0</td>\n",
       "      <td>NaN</td>\n",
       "      <td>NaN</td>\n",
       "    </tr>\n",
       "    <tr>\n",
       "      <th>1996</th>\n",
       "      <td>1996</td>\n",
       "      <td>FOODS_2_170</td>\n",
       "      <td>FOODS_2</td>\n",
       "      <td>FOODS</td>\n",
       "      <td>CA_1</td>\n",
       "      <td>CA</td>\n",
       "      <td>d_1</td>\n",
       "      <td>0</td>\n",
       "      <td>2011-01-29</td>\n",
       "      <td>11101</td>\n",
       "      <td>...</td>\n",
       "      <td>1</td>\n",
       "      <td>1</td>\n",
       "      <td>2011</td>\n",
       "      <td>No event</td>\n",
       "      <td>No event</td>\n",
       "      <td>No event</td>\n",
       "      <td>No event</td>\n",
       "      <td>0</td>\n",
       "      <td>NaN</td>\n",
       "      <td>NaN</td>\n",
       "    </tr>\n",
       "    <tr>\n",
       "      <th>1997</th>\n",
       "      <td>1997</td>\n",
       "      <td>FOODS_2_171</td>\n",
       "      <td>FOODS_2</td>\n",
       "      <td>FOODS</td>\n",
       "      <td>CA_1</td>\n",
       "      <td>CA</td>\n",
       "      <td>d_1</td>\n",
       "      <td>4</td>\n",
       "      <td>2011-01-29</td>\n",
       "      <td>11101</td>\n",
       "      <td>...</td>\n",
       "      <td>1</td>\n",
       "      <td>1</td>\n",
       "      <td>2011</td>\n",
       "      <td>No event</td>\n",
       "      <td>No event</td>\n",
       "      <td>No event</td>\n",
       "      <td>No event</td>\n",
       "      <td>0</td>\n",
       "      <td>2.98</td>\n",
       "      <td>11.92</td>\n",
       "    </tr>\n",
       "    <tr>\n",
       "      <th>1998</th>\n",
       "      <td>1998</td>\n",
       "      <td>FOODS_2_172</td>\n",
       "      <td>FOODS_2</td>\n",
       "      <td>FOODS</td>\n",
       "      <td>CA_1</td>\n",
       "      <td>CA</td>\n",
       "      <td>d_1</td>\n",
       "      <td>0</td>\n",
       "      <td>2011-01-29</td>\n",
       "      <td>11101</td>\n",
       "      <td>...</td>\n",
       "      <td>1</td>\n",
       "      <td>1</td>\n",
       "      <td>2011</td>\n",
       "      <td>No event</td>\n",
       "      <td>No event</td>\n",
       "      <td>No event</td>\n",
       "      <td>No event</td>\n",
       "      <td>0</td>\n",
       "      <td>NaN</td>\n",
       "      <td>NaN</td>\n",
       "    </tr>\n",
       "    <tr>\n",
       "      <th>1999</th>\n",
       "      <td>1999</td>\n",
       "      <td>FOODS_2_173</td>\n",
       "      <td>FOODS_2</td>\n",
       "      <td>FOODS</td>\n",
       "      <td>CA_1</td>\n",
       "      <td>CA</td>\n",
       "      <td>d_1</td>\n",
       "      <td>1</td>\n",
       "      <td>2011-01-29</td>\n",
       "      <td>11101</td>\n",
       "      <td>...</td>\n",
       "      <td>1</td>\n",
       "      <td>1</td>\n",
       "      <td>2011</td>\n",
       "      <td>No event</td>\n",
       "      <td>No event</td>\n",
       "      <td>No event</td>\n",
       "      <td>No event</td>\n",
       "      <td>0</td>\n",
       "      <td>8.24</td>\n",
       "      <td>8.24</td>\n",
       "    </tr>\n",
       "  </tbody>\n",
       "</table>\n",
       "<p>2000 rows × 21 columns</p>\n",
       "</div>"
      ],
      "text/plain": [
       "      Unnamed: 0        item_id    dept_id   cat_id store_id state_id    d  \\\n",
       "0              0  HOBBIES_1_001  HOBBIES_1  HOBBIES     CA_1       CA  d_1   \n",
       "1              1  HOBBIES_1_002  HOBBIES_1  HOBBIES     CA_1       CA  d_1   \n",
       "2              2  HOBBIES_1_003  HOBBIES_1  HOBBIES     CA_1       CA  d_1   \n",
       "3              3  HOBBIES_1_004  HOBBIES_1  HOBBIES     CA_1       CA  d_1   \n",
       "4              4  HOBBIES_1_005  HOBBIES_1  HOBBIES     CA_1       CA  d_1   \n",
       "...          ...            ...        ...      ...      ...      ...  ...   \n",
       "1995        1995    FOODS_2_169    FOODS_2    FOODS     CA_1       CA  d_1   \n",
       "1996        1996    FOODS_2_170    FOODS_2    FOODS     CA_1       CA  d_1   \n",
       "1997        1997    FOODS_2_171    FOODS_2    FOODS     CA_1       CA  d_1   \n",
       "1998        1998    FOODS_2_172    FOODS_2    FOODS     CA_1       CA  d_1   \n",
       "1999        1999    FOODS_2_173    FOODS_2    FOODS     CA_1       CA  d_1   \n",
       "\n",
       "      sales        date  wm_yr_wk  ... wday  month  year  event_name_1  \\\n",
       "0         0  2011-01-29     11101  ...    1      1  2011      No event   \n",
       "1         0  2011-01-29     11101  ...    1      1  2011      No event   \n",
       "2         0  2011-01-29     11101  ...    1      1  2011      No event   \n",
       "3         0  2011-01-29     11101  ...    1      1  2011      No event   \n",
       "4         0  2011-01-29     11101  ...    1      1  2011      No event   \n",
       "...     ...         ...       ...  ...  ...    ...   ...           ...   \n",
       "1995      0  2011-01-29     11101  ...    1      1  2011      No event   \n",
       "1996      0  2011-01-29     11101  ...    1      1  2011      No event   \n",
       "1997      4  2011-01-29     11101  ...    1      1  2011      No event   \n",
       "1998      0  2011-01-29     11101  ...    1      1  2011      No event   \n",
       "1999      1  2011-01-29     11101  ...    1      1  2011      No event   \n",
       "\n",
       "     event_type_1 event_name_2 event_type_2 snap  sell_price  price_in_dollars  \n",
       "0        No event     No event     No event    0         NaN               NaN  \n",
       "1        No event     No event     No event    0         NaN               NaN  \n",
       "2        No event     No event     No event    0         NaN               NaN  \n",
       "3        No event     No event     No event    0         NaN               NaN  \n",
       "4        No event     No event     No event    0         NaN               NaN  \n",
       "...           ...          ...          ...  ...         ...               ...  \n",
       "1995     No event     No event     No event    0         NaN               NaN  \n",
       "1996     No event     No event     No event    0         NaN               NaN  \n",
       "1997     No event     No event     No event    0        2.98             11.92  \n",
       "1998     No event     No event     No event    0         NaN               NaN  \n",
       "1999     No event     No event     No event    0        8.24              8.24  \n",
       "\n",
       "[2000 rows x 21 columns]"
      ]
     },
     "execution_count": 20,
     "metadata": {},
     "output_type": "execute_result"
    }
   ],
   "source": [
    "data.head(2000)"
   ]
  },
  {
   "cell_type": "markdown",
   "id": "381035cc",
   "metadata": {
    "papermill": {
     "duration": 0.005725,
     "end_time": "2025-10-18T19:22:26.972552",
     "exception": false,
     "start_time": "2025-10-18T19:22:26.966827",
     "status": "completed"
    },
    "tags": []
   },
   "source": [
    "# Data-Cleaning"
   ]
  },
  {
   "cell_type": "code",
   "execution_count": 21,
   "id": "cc068602",
   "metadata": {
    "execution": {
     "iopub.execute_input": "2025-10-18T19:22:26.985400Z",
     "iopub.status.busy": "2025-10-18T19:22:26.985176Z",
     "iopub.status.idle": "2025-10-18T19:23:07.955569Z",
     "shell.execute_reply": "2025-10-18T19:23:07.954285Z"
    },
    "papermill": {
     "duration": 40.978223,
     "end_time": "2025-10-18T19:23:07.956558",
     "exception": false,
     "start_time": "2025-10-18T19:22:26.978335",
     "status": "completed"
    },
    "tags": []
   },
   "outputs": [],
   "source": [
    "data.drop(columns = \"sell_price\",inplace = True)\n",
    "data.drop(columns=\"Unnamed: 0\",inplace = True)\n",
    "data.drop(columns=\"dept_id\",inplace = True)\n",
    "data.drop(columns = \"cat_id\",inplace = True)\n",
    "data.drop(columns = \"state_id\",inplace = True)\n",
    "data.drop(columns=\"month\",inplace = True)\n",
    "data.drop(columns=\"year\",inplace = True)\n",
    "data.drop(columns=\"weekday\",inplace=True)"
   ]
  },
  {
   "cell_type": "code",
   "execution_count": 22,
   "id": "8ebaee65",
   "metadata": {
    "execution": {
     "iopub.execute_input": "2025-10-18T19:23:07.969824Z",
     "iopub.status.busy": "2025-10-18T19:23:07.969584Z",
     "iopub.status.idle": "2025-10-18T19:23:19.881045Z",
     "shell.execute_reply": "2025-10-18T19:23:19.879918Z"
    },
    "papermill": {
     "duration": 11.91938,
     "end_time": "2025-10-18T19:23:19.882105",
     "exception": false,
     "start_time": "2025-10-18T19:23:07.962725",
     "status": "completed"
    },
    "tags": []
   },
   "outputs": [],
   "source": [
    "data.fillna(0,inplace = True)"
   ]
  },
  {
   "cell_type": "code",
   "execution_count": 23,
   "id": "cf8d046f",
   "metadata": {
    "execution": {
     "iopub.execute_input": "2025-10-18T19:23:19.895800Z",
     "iopub.status.busy": "2025-10-18T19:23:19.895575Z",
     "iopub.status.idle": "2025-10-18T19:23:37.082373Z",
     "shell.execute_reply": "2025-10-18T19:23:37.081114Z"
    },
    "papermill": {
     "duration": 17.195035,
     "end_time": "2025-10-18T19:23:37.083295",
     "exception": false,
     "start_time": "2025-10-18T19:23:19.888260",
     "status": "completed"
    },
    "tags": []
   },
   "outputs": [],
   "source": [
    "data.sort_values(by=[\"store_id\", \"item_id\", \"d\"], inplace=True)\n",
    "data.reset_index(drop=True, inplace=True)"
   ]
  },
  {
   "cell_type": "code",
   "execution_count": 24,
   "id": "8a2f7dbb",
   "metadata": {
    "execution": {
     "iopub.execute_input": "2025-10-18T19:23:37.097348Z",
     "iopub.status.busy": "2025-10-18T19:23:37.097142Z",
     "iopub.status.idle": "2025-10-18T19:26:47.640128Z",
     "shell.execute_reply": "2025-10-18T19:26:47.639013Z"
    },
    "papermill": {
     "duration": 190.551937,
     "end_time": "2025-10-18T19:26:47.641437",
     "exception": false,
     "start_time": "2025-10-18T19:23:37.089500",
     "status": "completed"
    },
    "tags": []
   },
   "outputs": [],
   "source": [
    "data.to_csv(\"/kaggle/working/data.csv\")"
   ]
  },
  {
   "cell_type": "code",
   "execution_count": null,
   "id": "9521aac7",
   "metadata": {
    "papermill": {
     "duration": 0.005968,
     "end_time": "2025-10-18T19:26:47.653894",
     "exception": false,
     "start_time": "2025-10-18T19:26:47.647926",
     "status": "completed"
    },
    "tags": []
   },
   "outputs": [],
   "source": []
  }
 ],
 "metadata": {
  "accelerator": "TPU",
  "colab": {
   "gpuType": "V5E1",
   "include_colab_link": true,
   "provenance": []
  },
  "kaggle": {
   "accelerator": "tpuV5e8",
   "dataSources": [
    {
     "databundleVersionId": 1236839,
     "sourceId": 18599,
     "sourceType": "competition"
    },
    {
     "datasetId": 8485735,
     "sourceId": 13411978,
     "sourceType": "datasetVersion"
    }
   ],
   "dockerImageVersionId": 31153,
   "isGpuEnabled": false,
   "isInternetEnabled": true,
   "language": "python",
   "sourceType": "notebook"
  },
  "kernelspec": {
   "display_name": "Python 3",
   "language": "python",
   "name": "python3"
  },
  "language_info": {
   "codemirror_mode": {
    "name": "ipython",
    "version": 3
   },
   "file_extension": ".py",
   "mimetype": "text/x-python",
   "name": "python",
   "nbconvert_exporter": "python",
   "pygments_lexer": "ipython3",
   "version": "3.12.11"
  },
  "papermill": {
   "default_parameters": {},
   "duration": 436.277127,
   "end_time": "2025-10-18T19:26:50.578757",
   "environment_variables": {},
   "exception": null,
   "input_path": "__notebook__.ipynb",
   "output_path": "__notebook__.ipynb",
   "parameters": {},
   "start_time": "2025-10-18T19:19:34.301630",
   "version": "2.6.0"
  }
 },
 "nbformat": 4,
 "nbformat_minor": 5
}
