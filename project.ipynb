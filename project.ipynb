{
  "nbformat": 4,
  "nbformat_minor": 0,
  "metadata": {
    "colab": {
      "provenance": [],
      "include_colab_link": true
    },
    "kernelspec": {
      "name": "python3",
      "display_name": "Python 3"
    },
    "language_info": {
      "name": "python"
    }
  },
  "cells": [
    {
      "cell_type": "markdown",
      "metadata": {
        "id": "view-in-github",
        "colab_type": "text"
      },
      "source": [
        "<a href=\"https://colab.research.google.com/github/davidrimon2004/DEPI_project/blob/main/project.ipynb\" target=\"_parent\"><img src=\"https://colab.research.google.com/assets/colab-badge.svg\" alt=\"Open In Colab\"/></a>"
      ]
    },
    {
      "cell_type": "markdown",
      "source": [
        "#Problem Formulation"
      ],
      "metadata": {
        "id": "s_FCmSEucMP8"
      }
    },
    {
      "cell_type": "markdown",
      "source": [
        "##Problem Description:\n",
        "This project aims to develop a machine learning model that predicts future sales\n",
        "and demand by utilising historical sales data and external factors, including\n",
        "product details, promotions, seasonality, holidays, and economic indicators. The\n",
        "goal is to analyse historical patterns and generate reliable forecasts that help\n",
        "businesses make data-driven decisions to reduce costs, increase efficiency, and\n",
        "improve customer satisfaction by predicting the daily sales for the next 28 days.\n",
        "\n",
        "##Objectives\n",
        "\n",
        "● Collect and preprocess historical sales and demand data.\n",
        "\n",
        "● Identify key features that influence sales trends.\n",
        "\n",
        "● Build, train, and optimise forecasting models to predict future sales and\n",
        "demand.\n",
        "\n",
        "● Deploy the best-performing model to generate forecasts in real-time or in\n",
        "batches.\n",
        "##Data source:\n",
        "Hierarchical sales data from Walmart, the world’s largest company by revenue in the US.\n",
        "\n"
      ],
      "metadata": {
        "id": "IZ2kz-h7b0lb"
      }
    },
    {
      "cell_type": "markdown",
      "source": [
        "# **Setup for google drive**"
      ],
      "metadata": {
        "id": "mtUYRu2w5F-a"
      }
    },
    {
      "cell_type": "code",
      "source": [
        "from google.colab import drive\n",
        "drive.mount('/content/drive')"
      ],
      "metadata": {
        "id": "CDnDK5km5XW6",
        "outputId": "119e2981-45cf-46b8-c1cf-1e3b65761e36",
        "colab": {
          "base_uri": "https://localhost:8080/"
        }
      },
      "execution_count": 2,
      "outputs": [
        {
          "output_type": "stream",
          "name": "stdout",
          "text": [
            "Mounted at /content/drive\n"
          ]
        }
      ]
    },
    {
      "cell_type": "markdown",
      "source": [
        "# **Important libraries**"
      ],
      "metadata": {
        "id": "7OMw4fyN5fIK"
      }
    },
    {
      "cell_type": "code",
      "source": [
        "import pandas as pd"
      ],
      "metadata": {
        "id": "oDECRqp15tkC"
      },
      "execution_count": 3,
      "outputs": []
    },
    {
      "cell_type": "code",
      "source": [
        "sales_validation=pd.read_csv('/content/drive/MyDrive/DEPI_project/data/sales_train_validation.csv')"
      ],
      "metadata": {
        "id": "M0Iw4aOWd-Cu"
      },
      "execution_count": 7,
      "outputs": []
    },
    {
      "cell_type": "code",
      "source": [],
      "metadata": {
        "id": "YWBOoRbneOig"
      },
      "execution_count": null,
      "outputs": []
    }
  ]
}