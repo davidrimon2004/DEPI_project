{
 "cells": [
  {
   "cell_type": "markdown",
   "id": "60c446f7",
   "metadata": {
    "id": "s_FCmSEucMP8",
    "papermill": {
     "duration": 0.0052,
     "end_time": "2025-10-18T20:33:09.792853",
     "exception": false,
     "start_time": "2025-10-18T20:33:09.787653",
     "status": "completed"
    },
    "tags": []
   },
   "source": [
    "# Problem Formulation"
   ]
  },
  {
   "cell_type": "markdown",
   "id": "48a8322e",
   "metadata": {
    "id": "IZ2kz-h7b0lb",
    "papermill": {
     "duration": 0.003786,
     "end_time": "2025-10-18T20:33:09.800532",
     "exception": false,
     "start_time": "2025-10-18T20:33:09.796746",
     "status": "completed"
    },
    "tags": []
   },
   "source": [
    "## Problem Description:\n",
    "This project aims to develop a machine learning model that predicts future sales\n",
    "and demand by utilising historical sales data and external factors, including\n",
    "product details, promotions, seasonality, holidays, and economic indicators. The\n",
    "goal is to analyse historical patterns and generate reliable forecasts that help\n",
    "businesses make data-driven decisions to reduce costs, increase efficiency, and\n",
    "improve customer satisfaction by predicting the daily sales for the next 28 days.\n",
    "\n",
    "## Objectives\n",
    "\n",
    "● Collect and preprocess historical sales and demand data.\n",
    "\n",
    "● Identify key features that influence sales trends.\n",
    "\n",
    "● Build, train, and optimise forecasting models to predict future sales and\n",
    "demand.\n",
    "\n",
    "● Deploy the best-performing model to generate forecasts in real-time or in\n",
    "batches.\n",
    "## Data source:\n",
    "Hierarchical sales data from Walmart, the world’s largest company by revenue in the US.\n",
    "\n"
   ]
  },
  {
   "cell_type": "markdown",
   "id": "9be9631d",
   "metadata": {
    "id": "5lIA_xQc7fqX",
    "papermill": {
     "duration": 0.004882,
     "end_time": "2025-10-18T20:33:09.809153",
     "exception": false,
     "start_time": "2025-10-18T20:33:09.804271",
     "status": "completed"
    },
    "tags": []
   },
   "source": [
    "# Code setup"
   ]
  },
  {
   "cell_type": "markdown",
   "id": "5f50eac8",
   "metadata": {
    "id": "7OMw4fyN5fIK",
    "papermill": {
     "duration": 0.003459,
     "end_time": "2025-10-18T20:33:09.816083",
     "exception": false,
     "start_time": "2025-10-18T20:33:09.812624",
     "status": "completed"
    },
    "tags": []
   },
   "source": [
    "## Important libraries"
   ]
  },
  {
   "cell_type": "code",
   "execution_count": 1,
   "id": "e34fdc46",
   "metadata": {
    "execution": {
     "iopub.execute_input": "2025-10-18T20:33:09.824457Z",
     "iopub.status.busy": "2025-10-18T20:33:09.824252Z",
     "iopub.status.idle": "2025-10-18T20:33:11.622010Z",
     "shell.execute_reply": "2025-10-18T20:33:11.621028Z"
    },
    "id": "oDECRqp15tkC",
    "papermill": {
     "duration": 1.804048,
     "end_time": "2025-10-18T20:33:11.623696",
     "exception": false,
     "start_time": "2025-10-18T20:33:09.819648",
     "status": "completed"
    },
    "tags": []
   },
   "outputs": [],
   "source": [
    "import pandas as pd\n",
    "import numpy as np"
   ]
  },
  {
   "cell_type": "markdown",
   "id": "92d34667",
   "metadata": {
    "id": "1IFGdC2i7j2Z",
    "papermill": {
     "duration": 0.003513,
     "end_time": "2025-10-18T20:33:11.631255",
     "exception": false,
     "start_time": "2025-10-18T20:33:11.627742",
     "status": "completed"
    },
    "tags": []
   },
   "source": [
    "## data reading"
   ]
  },
  {
   "cell_type": "code",
   "execution_count": 2,
   "id": "ac335865",
   "metadata": {
    "execution": {
     "iopub.execute_input": "2025-10-18T20:33:11.639433Z",
     "iopub.status.busy": "2025-10-18T20:33:11.639133Z",
     "iopub.status.idle": "2025-10-18T20:33:11.641902Z",
     "shell.execute_reply": "2025-10-18T20:33:11.641097Z"
    },
    "id": "M0Iw4aOWd-Cu",
    "outputId": "cf9266b6-c55f-44bd-bceb-3af1faf46b39",
    "papermill": {
     "duration": 0.0078,
     "end_time": "2025-10-18T20:33:11.642469",
     "exception": false,
     "start_time": "2025-10-18T20:33:11.634669",
     "status": "completed"
    },
    "tags": []
   },
   "outputs": [],
   "source": [
    "#sales_validation=pd.read_csv('/kaggle/input/m5-forecasting-accuracy/sales_train_validation.csv')\n",
    "#sales_validation.head(3)"
   ]
  },
  {
   "cell_type": "code",
   "execution_count": 3,
   "id": "fb3eb803",
   "metadata": {
    "execution": {
     "iopub.execute_input": "2025-10-18T20:33:11.650580Z",
     "iopub.status.busy": "2025-10-18T20:33:11.650392Z",
     "iopub.status.idle": "2025-10-18T20:33:11.652994Z",
     "shell.execute_reply": "2025-10-18T20:33:11.652231Z"
    },
    "id": "qq-1suzw7t7R",
    "outputId": "50c8774b-42a1-4225-9b04-0bbabde67430",
    "papermill": {
     "duration": 0.00761,
     "end_time": "2025-10-18T20:33:11.653573",
     "exception": false,
     "start_time": "2025-10-18T20:33:11.645963",
     "status": "completed"
    },
    "tags": []
   },
   "outputs": [],
   "source": [
    "#cal=pd.read_csv('/kaggle/input/m5-forecasting-accuracy/calendar.csv')\n",
    "#cal.head(3)"
   ]
  },
  {
   "cell_type": "code",
   "execution_count": 4,
   "id": "81a16428",
   "metadata": {
    "execution": {
     "iopub.execute_input": "2025-10-18T20:33:11.661514Z",
     "iopub.status.busy": "2025-10-18T20:33:11.661350Z",
     "iopub.status.idle": "2025-10-18T20:33:11.663956Z",
     "shell.execute_reply": "2025-10-18T20:33:11.663120Z"
    },
    "papermill": {
     "duration": 0.007466,
     "end_time": "2025-10-18T20:33:11.664528",
     "exception": false,
     "start_time": "2025-10-18T20:33:11.657062",
     "status": "completed"
    },
    "tags": []
   },
   "outputs": [],
   "source": [
    "#sell_price = pd.read_csv(\"/kaggle/input/m5-forecasting-accuracy/sell_prices.csv\")\n",
    "#sell_price.head(3)"
   ]
  },
  {
   "cell_type": "code",
   "execution_count": 5,
   "id": "07e6ed5f",
   "metadata": {
    "execution": {
     "iopub.execute_input": "2025-10-18T20:33:11.673000Z",
     "iopub.status.busy": "2025-10-18T20:33:11.672837Z",
     "iopub.status.idle": "2025-10-18T20:34:46.099570Z",
     "shell.execute_reply": "2025-10-18T20:34:46.098606Z"
    },
    "papermill": {
     "duration": 94.43308,
     "end_time": "2025-10-18T20:34:46.101514",
     "exception": false,
     "start_time": "2025-10-18T20:33:11.668434",
     "status": "completed"
    },
    "tags": []
   },
   "outputs": [],
   "source": [
    "data = pd.read_csv(\"/kaggle/input/depi-dataset/data.csv\")"
   ]
  },
  {
   "cell_type": "markdown",
   "id": "b1864a89",
   "metadata": {
    "id": "5ehmk0r76xsq",
    "papermill": {
     "duration": 0.003555,
     "end_time": "2025-10-18T20:34:46.109245",
     "exception": false,
     "start_time": "2025-10-18T20:34:46.105690",
     "status": "completed"
    },
    "tags": []
   },
   "source": [
    "# Schema formating"
   ]
  },
  {
   "cell_type": "markdown",
   "id": "92758b54",
   "metadata": {
    "id": "VNiw6enB8_sH",
    "papermill": {
     "duration": 0.003424,
     "end_time": "2025-10-18T20:34:46.116161",
     "exception": false,
     "start_time": "2025-10-18T20:34:46.112737",
     "status": "completed"
    },
    "tags": []
   },
   "source": [
    "## sales_validation file"
   ]
  },
  {
   "cell_type": "code",
   "execution_count": 6,
   "id": "33a1865d",
   "metadata": {
    "execution": {
     "iopub.execute_input": "2025-10-18T20:34:46.124940Z",
     "iopub.status.busy": "2025-10-18T20:34:46.124722Z",
     "iopub.status.idle": "2025-10-18T20:34:46.130525Z",
     "shell.execute_reply": "2025-10-18T20:34:46.129727Z"
    },
    "id": "mHehOaUY626V",
    "papermill": {
     "duration": 0.012059,
     "end_time": "2025-10-18T20:34:46.131858",
     "exception": false,
     "start_time": "2025-10-18T20:34:46.119799",
     "status": "completed"
    },
    "tags": []
   },
   "outputs": [
    {
     "data": {
      "text/plain": [
       "'\\ndata = sales_validation.melt(\\n    id_vars=[\"id\",\"item_id\", \"dept_id\",\"cat_id\",\"store_id\",\"state_id\"],  # columns to keep\\n    var_name=\"d\",                          # new column name for day labels (d_1, d_2, ...)\\n    value_name=\"sales\"                     # new column name for sales values\\n)\\n'"
      ]
     },
     "execution_count": 6,
     "metadata": {},
     "output_type": "execute_result"
    }
   ],
   "source": [
    "'''\n",
    "data = sales_validation.melt(\n",
    "    id_vars=[\"id\",\"item_id\", \"dept_id\",\"cat_id\",\"store_id\",\"state_id\"],  # columns to keep\n",
    "    var_name=\"d\",                          # new column name for day labels (d_1, d_2, ...)\n",
    "    value_name=\"sales\"                     # new column name for sales values\n",
    ")\n",
    "'''\n"
   ]
  },
  {
   "cell_type": "code",
   "execution_count": 7,
   "id": "cc84672f",
   "metadata": {
    "execution": {
     "iopub.execute_input": "2025-10-18T20:34:46.140322Z",
     "iopub.status.busy": "2025-10-18T20:34:46.140111Z",
     "iopub.status.idle": "2025-10-18T20:34:46.142942Z",
     "shell.execute_reply": "2025-10-18T20:34:46.142242Z"
    },
    "id": "OZ2R2hUS_oaz",
    "papermill": {
     "duration": 0.007956,
     "end_time": "2025-10-18T20:34:46.143524",
     "exception": false,
     "start_time": "2025-10-18T20:34:46.135568",
     "status": "completed"
    },
    "tags": []
   },
   "outputs": [],
   "source": [
    "#data.drop(columns=['id'],inplace=True)"
   ]
  },
  {
   "cell_type": "markdown",
   "id": "2458a89b",
   "metadata": {
    "id": "lw5a1YKc9Cvf",
    "papermill": {
     "duration": 0.003552,
     "end_time": "2025-10-18T20:34:46.150653",
     "exception": false,
     "start_time": "2025-10-18T20:34:46.147101",
     "status": "completed"
    },
    "tags": []
   },
   "source": [
    "## calendar file"
   ]
  },
  {
   "cell_type": "code",
   "execution_count": 8,
   "id": "4708f556",
   "metadata": {
    "execution": {
     "iopub.execute_input": "2025-10-18T20:34:46.158813Z",
     "iopub.status.busy": "2025-10-18T20:34:46.158630Z",
     "iopub.status.idle": "2025-10-18T20:34:46.161080Z",
     "shell.execute_reply": "2025-10-18T20:34:46.160449Z"
    },
    "id": "keYaAibmsTTg",
    "papermill": {
     "duration": 0.007359,
     "end_time": "2025-10-18T20:34:46.161646",
     "exception": false,
     "start_time": "2025-10-18T20:34:46.154287",
     "status": "completed"
    },
    "tags": []
   },
   "outputs": [],
   "source": [
    "#cal[\"date\"]= pd.to_datetime(cal[\"date\"])"
   ]
  },
  {
   "cell_type": "code",
   "execution_count": 9,
   "id": "ca9ad8e8",
   "metadata": {
    "execution": {
     "iopub.execute_input": "2025-10-18T20:34:46.169735Z",
     "iopub.status.busy": "2025-10-18T20:34:46.169587Z",
     "iopub.status.idle": "2025-10-18T20:34:46.172909Z",
     "shell.execute_reply": "2025-10-18T20:34:46.172069Z"
    },
    "id": "l634T21xs4dw",
    "papermill": {
     "duration": 0.008234,
     "end_time": "2025-10-18T20:34:46.173502",
     "exception": false,
     "start_time": "2025-10-18T20:34:46.165268",
     "status": "completed"
    },
    "tags": []
   },
   "outputs": [
    {
     "data": {
      "text/plain": [
       "'\\ncal[\"event_name_1\"]= cal[\"event_name_1\"].fillna(\"No event\")\\ncal[\"event_type_1\"]= cal[\"event_type_1\"].fillna(\"No event\")\\ncal[\"event_name_2\"]= cal[\"event_name_2\"].fillna(\"No event\")\\ncal[\"event_type_2\"]= cal[\"event_type_2\"].fillna(\"No event\")\\n'"
      ]
     },
     "execution_count": 9,
     "metadata": {},
     "output_type": "execute_result"
    }
   ],
   "source": [
    "'''\n",
    "cal[\"event_name_1\"]= cal[\"event_name_1\"].fillna(\"No event\")\n",
    "cal[\"event_type_1\"]= cal[\"event_type_1\"].fillna(\"No event\")\n",
    "cal[\"event_name_2\"]= cal[\"event_name_2\"].fillna(\"No event\")\n",
    "cal[\"event_type_2\"]= cal[\"event_type_2\"].fillna(\"No event\")\n",
    "'''"
   ]
  },
  {
   "cell_type": "code",
   "execution_count": 10,
   "id": "0d2d8fd1",
   "metadata": {
    "execution": {
     "iopub.execute_input": "2025-10-18T20:34:46.181827Z",
     "iopub.status.busy": "2025-10-18T20:34:46.181672Z",
     "iopub.status.idle": "2025-10-18T20:34:46.184888Z",
     "shell.execute_reply": "2025-10-18T20:34:46.184235Z"
    },
    "id": "FhbR_i2dtlCd",
    "papermill": {
     "duration": 0.008267,
     "end_time": "2025-10-18T20:34:46.185435",
     "exception": false,
     "start_time": "2025-10-18T20:34:46.177168",
     "status": "completed"
    },
    "tags": []
   },
   "outputs": [
    {
     "data": {
      "text/plain": [
       "'\\n# Merge data and cal dataframes on the \\'d\\' column\\nmerged_data = pd.merge(data, cal, on=\\'d\\', how=\\'left\\')\\n\\nconditions = [\\n    merged_data[\"state_id\"] == \"CA\",\\n    merged_data[\"state_id\"] == \"TX\",\\n    merged_data[\"state_id\"] == \"WI\"\\n]\\nchoices= [\\n    merged_data[\"snap_CA\"],\\n    merged_data[\"snap_TX\"],\\n    merged_data[\"snap_WI\"]\\n]\\nmerged_data[\"snap\"]= np.select(conditions, choices)\\n\\nmerged_data.drop(columns=[\\'snap_CA\\',\\'snap_TX\\',\\'snap_WI\\'],inplace=True)\\n'"
      ]
     },
     "execution_count": 10,
     "metadata": {},
     "output_type": "execute_result"
    }
   ],
   "source": [
    "'''\n",
    "# Merge data and cal dataframes on the 'd' column\n",
    "merged_data = pd.merge(data, cal, on='d', how='left')\n",
    "\n",
    "conditions = [\n",
    "    merged_data[\"state_id\"] == \"CA\",\n",
    "    merged_data[\"state_id\"] == \"TX\",\n",
    "    merged_data[\"state_id\"] == \"WI\"\n",
    "]\n",
    "choices= [\n",
    "    merged_data[\"snap_CA\"],\n",
    "    merged_data[\"snap_TX\"],\n",
    "    merged_data[\"snap_WI\"]\n",
    "]\n",
    "merged_data[\"snap\"]= np.select(conditions, choices)\n",
    "\n",
    "merged_data.drop(columns=['snap_CA','snap_TX','snap_WI'],inplace=True)\n",
    "'''"
   ]
  },
  {
   "cell_type": "markdown",
   "id": "7297dc16",
   "metadata": {
    "papermill": {
     "duration": 0.003723,
     "end_time": "2025-10-18T20:34:46.193025",
     "exception": false,
     "start_time": "2025-10-18T20:34:46.189302",
     "status": "completed"
    },
    "tags": []
   },
   "source": [
    "## sell_price file\n"
   ]
  },
  {
   "cell_type": "code",
   "execution_count": 11,
   "id": "393f7ace",
   "metadata": {
    "execution": {
     "iopub.execute_input": "2025-10-18T20:34:46.201629Z",
     "iopub.status.busy": "2025-10-18T20:34:46.201443Z",
     "iopub.status.idle": "2025-10-18T20:34:46.204770Z",
     "shell.execute_reply": "2025-10-18T20:34:46.204069Z"
    },
    "papermill": {
     "duration": 0.008836,
     "end_time": "2025-10-18T20:34:46.205607",
     "exception": false,
     "start_time": "2025-10-18T20:34:46.196771",
     "status": "completed"
    },
    "tags": []
   },
   "outputs": [
    {
     "data": {
      "text/plain": [
       "'\\nfinal_data = temp_data.merge(\\n        sell_price,\\n        on=[\"store_id\", \"item_id\", \"wm_yr_wk\"],\\n        how=\"left\",\\n        validate=\"m:1\"  # many sales rows per unique price row is expected\\n    )\\n    '"
      ]
     },
     "execution_count": 11,
     "metadata": {},
     "output_type": "execute_result"
    }
   ],
   "source": [
    "'''\n",
    "final_data = temp_data.merge(\n",
    "        sell_price,\n",
    "        on=[\"store_id\", \"item_id\", \"wm_yr_wk\"],\n",
    "        how=\"left\",\n",
    "        validate=\"m:1\"  # many sales rows per unique price row is expected\n",
    "    )\n",
    "    '''"
   ]
  },
  {
   "cell_type": "code",
   "execution_count": 12,
   "id": "c577ef52",
   "metadata": {
    "execution": {
     "iopub.execute_input": "2025-10-18T20:34:46.214197Z",
     "iopub.status.busy": "2025-10-18T20:34:46.214014Z",
     "iopub.status.idle": "2025-10-18T20:34:46.216507Z",
     "shell.execute_reply": "2025-10-18T20:34:46.215764Z"
    },
    "papermill": {
     "duration": 0.007665,
     "end_time": "2025-10-18T20:34:46.217098",
     "exception": false,
     "start_time": "2025-10-18T20:34:46.209433",
     "status": "completed"
    },
    "tags": []
   },
   "outputs": [],
   "source": [
    "#final_data[\"price_in_dollars\"]=final_data[\"sell_price\"]*final_data[\"sales\"]"
   ]
  },
  {
   "cell_type": "code",
   "execution_count": 13,
   "id": "75dc3cfe",
   "metadata": {
    "execution": {
     "iopub.execute_input": "2025-10-18T20:34:46.225648Z",
     "iopub.status.busy": "2025-10-18T20:34:46.225498Z",
     "iopub.status.idle": "2025-10-18T20:34:46.228022Z",
     "shell.execute_reply": "2025-10-18T20:34:46.227359Z"
    },
    "papermill": {
     "duration": 0.007583,
     "end_time": "2025-10-18T20:34:46.228581",
     "exception": false,
     "start_time": "2025-10-18T20:34:46.220998",
     "status": "completed"
    },
    "tags": []
   },
   "outputs": [],
   "source": [
    "#final_data.to_csv(\"/kaggle/working/data.csv\")"
   ]
  },
  {
   "cell_type": "markdown",
   "id": "b6701e0f",
   "metadata": {
    "papermill": {
     "duration": 0.003789,
     "end_time": "2025-10-18T20:34:46.236197",
     "exception": false,
     "start_time": "2025-10-18T20:34:46.232408",
     "status": "completed"
    },
    "tags": []
   },
   "source": [
    "# EDA"
   ]
  },
  {
   "cell_type": "code",
   "execution_count": 14,
   "id": "1841a7ae",
   "metadata": {
    "execution": {
     "iopub.execute_input": "2025-10-18T20:34:46.244814Z",
     "iopub.status.busy": "2025-10-18T20:34:46.244627Z",
     "iopub.status.idle": "2025-10-18T20:34:58.347763Z",
     "shell.execute_reply": "2025-10-18T20:34:58.346741Z"
    },
    "papermill": {
     "duration": 12.108457,
     "end_time": "2025-10-18T20:34:58.348459",
     "exception": false,
     "start_time": "2025-10-18T20:34:46.240002",
     "status": "completed"
    },
    "tags": []
   },
   "outputs": [
    {
     "data": {
      "text/plain": [
       "Unnamed: 0          0\n",
       "item_id             0\n",
       "store_id            0\n",
       "d                   0\n",
       "sales               0\n",
       "date                0\n",
       "wm_yr_wk            0\n",
       "wday                0\n",
       "event_name_1        0\n",
       "event_type_1        0\n",
       "event_name_2        0\n",
       "event_type_2        0\n",
       "snap                0\n",
       "price_in_dollars    0\n",
       "dtype: int64"
      ]
     },
     "execution_count": 14,
     "metadata": {},
     "output_type": "execute_result"
    }
   ],
   "source": [
    "data.isna().sum()"
   ]
  },
  {
   "cell_type": "code",
   "execution_count": 15,
   "id": "3299ecd6",
   "metadata": {
    "execution": {
     "iopub.execute_input": "2025-10-18T20:34:58.358377Z",
     "iopub.status.busy": "2025-10-18T20:34:58.358164Z",
     "iopub.status.idle": "2025-10-18T20:35:06.417433Z",
     "shell.execute_reply": "2025-10-18T20:35:06.416283Z"
    },
    "papermill": {
     "duration": 8.065156,
     "end_time": "2025-10-18T20:35:06.418261",
     "exception": false,
     "start_time": "2025-10-18T20:34:58.353105",
     "status": "completed"
    },
    "tags": []
   },
   "outputs": [
    {
     "name": "stdout",
     "output_type": "stream",
     "text": [
      "['No event' \"Mother's day\" 'Halloween' 'VeteransDay' 'Thanksgiving'\n",
      " 'Chanukah End' 'Christmas' 'NewYear' 'OrthodoxChristmas'\n",
      " 'MartinLutherKingDay' 'SuperBowl' 'ValentinesDay' 'PresidentsDay'\n",
      " 'LentStart' 'LentWeek2' 'Purim End' 'StPatricksDay' 'Easter' 'Pesach End'\n",
      " 'Cinco De Mayo' 'MemorialDay' 'NBAFinalsStart' 'NBAFinalsEnd'\n",
      " 'Ramadan starts' 'IndependenceDay' 'Eid al-Fitr' 'LaborDay' 'EidAlAdha'\n",
      " 'ColumbusDay' \"Father's day\" 'OrthodoxEaster']\n"
     ]
    },
    {
     "name": "stdout",
     "output_type": "stream",
     "text": [
      "['No event' 'OrthodoxEaster' \"Father's day\" 'Cinco De Mayo' 'Easter']\n"
     ]
    },
    {
     "name": "stdout",
     "output_type": "stream",
     "text": [
      "['No event' 'Cultural' 'National' 'Religious' 'Sporting']\n"
     ]
    },
    {
     "name": "stdout",
     "output_type": "stream",
     "text": [
      "['No event' 'Religious' 'Cultural']\n"
     ]
    }
   ],
   "source": [
    "print(data[\"event_name_1\"].unique())\n",
    "print(data[\"event_name_2\"].unique())\n",
    "print(data[\"event_type_1\"].unique())\n",
    "print(data[\"event_type_2\"].unique())"
   ]
  },
  {
   "cell_type": "code",
   "execution_count": 16,
   "id": "5c832e07",
   "metadata": {
    "execution": {
     "iopub.execute_input": "2025-10-18T20:35:06.429256Z",
     "iopub.status.busy": "2025-10-18T20:35:06.429048Z",
     "iopub.status.idle": "2025-10-18T20:35:06.449782Z",
     "shell.execute_reply": "2025-10-18T20:35:06.448924Z"
    },
    "papermill": {
     "duration": 0.027331,
     "end_time": "2025-10-18T20:35:06.450526",
     "exception": false,
     "start_time": "2025-10-18T20:35:06.423195",
     "status": "completed"
    },
    "tags": []
   },
   "outputs": [
    {
     "data": {
      "text/html": [
       "<div>\n",
       "<style scoped>\n",
       "    .dataframe tbody tr th:only-of-type {\n",
       "        vertical-align: middle;\n",
       "    }\n",
       "\n",
       "    .dataframe tbody tr th {\n",
       "        vertical-align: top;\n",
       "    }\n",
       "\n",
       "    .dataframe thead th {\n",
       "        text-align: right;\n",
       "    }\n",
       "</style>\n",
       "<table border=\"1\" class=\"dataframe\">\n",
       "  <thead>\n",
       "    <tr style=\"text-align: right;\">\n",
       "      <th></th>\n",
       "      <th>Unnamed: 0</th>\n",
       "      <th>item_id</th>\n",
       "      <th>store_id</th>\n",
       "      <th>d</th>\n",
       "      <th>sales</th>\n",
       "      <th>date</th>\n",
       "      <th>wm_yr_wk</th>\n",
       "      <th>wday</th>\n",
       "      <th>event_name_1</th>\n",
       "      <th>event_type_1</th>\n",
       "      <th>event_name_2</th>\n",
       "      <th>event_type_2</th>\n",
       "      <th>snap</th>\n",
       "      <th>price_in_dollars</th>\n",
       "    </tr>\n",
       "  </thead>\n",
       "  <tbody>\n",
       "    <tr>\n",
       "      <th>0</th>\n",
       "      <td>0</td>\n",
       "      <td>FOODS_1_001</td>\n",
       "      <td>CA_1</td>\n",
       "      <td>d_1</td>\n",
       "      <td>3</td>\n",
       "      <td>2011-01-29</td>\n",
       "      <td>11101</td>\n",
       "      <td>1</td>\n",
       "      <td>No event</td>\n",
       "      <td>No event</td>\n",
       "      <td>No event</td>\n",
       "      <td>No event</td>\n",
       "      <td>0</td>\n",
       "      <td>6.00</td>\n",
       "    </tr>\n",
       "    <tr>\n",
       "      <th>1</th>\n",
       "      <td>1</td>\n",
       "      <td>FOODS_1_001</td>\n",
       "      <td>CA_1</td>\n",
       "      <td>d_10</td>\n",
       "      <td>0</td>\n",
       "      <td>2011-02-07</td>\n",
       "      <td>11102</td>\n",
       "      <td>3</td>\n",
       "      <td>No event</td>\n",
       "      <td>No event</td>\n",
       "      <td>No event</td>\n",
       "      <td>No event</td>\n",
       "      <td>1</td>\n",
       "      <td>0.00</td>\n",
       "    </tr>\n",
       "    <tr>\n",
       "      <th>2</th>\n",
       "      <td>2</td>\n",
       "      <td>FOODS_1_001</td>\n",
       "      <td>CA_1</td>\n",
       "      <td>d_100</td>\n",
       "      <td>0</td>\n",
       "      <td>2011-05-08</td>\n",
       "      <td>11115</td>\n",
       "      <td>2</td>\n",
       "      <td>Mother's day</td>\n",
       "      <td>Cultural</td>\n",
       "      <td>No event</td>\n",
       "      <td>No event</td>\n",
       "      <td>1</td>\n",
       "      <td>0.00</td>\n",
       "    </tr>\n",
       "    <tr>\n",
       "      <th>3</th>\n",
       "      <td>3</td>\n",
       "      <td>FOODS_1_001</td>\n",
       "      <td>CA_1</td>\n",
       "      <td>d_1000</td>\n",
       "      <td>1</td>\n",
       "      <td>2013-10-24</td>\n",
       "      <td>11339</td>\n",
       "      <td>6</td>\n",
       "      <td>No event</td>\n",
       "      <td>No event</td>\n",
       "      <td>No event</td>\n",
       "      <td>No event</td>\n",
       "      <td>0</td>\n",
       "      <td>2.24</td>\n",
       "    </tr>\n",
       "    <tr>\n",
       "      <th>4</th>\n",
       "      <td>4</td>\n",
       "      <td>FOODS_1_001</td>\n",
       "      <td>CA_1</td>\n",
       "      <td>d_1001</td>\n",
       "      <td>0</td>\n",
       "      <td>2013-10-25</td>\n",
       "      <td>11339</td>\n",
       "      <td>7</td>\n",
       "      <td>No event</td>\n",
       "      <td>No event</td>\n",
       "      <td>No event</td>\n",
       "      <td>No event</td>\n",
       "      <td>0</td>\n",
       "      <td>0.00</td>\n",
       "    </tr>\n",
       "    <tr>\n",
       "      <th>5</th>\n",
       "      <td>5</td>\n",
       "      <td>FOODS_1_001</td>\n",
       "      <td>CA_1</td>\n",
       "      <td>d_1002</td>\n",
       "      <td>1</td>\n",
       "      <td>2013-10-26</td>\n",
       "      <td>11340</td>\n",
       "      <td>1</td>\n",
       "      <td>No event</td>\n",
       "      <td>No event</td>\n",
       "      <td>No event</td>\n",
       "      <td>No event</td>\n",
       "      <td>0</td>\n",
       "      <td>2.24</td>\n",
       "    </tr>\n",
       "    <tr>\n",
       "      <th>6</th>\n",
       "      <td>6</td>\n",
       "      <td>FOODS_1_001</td>\n",
       "      <td>CA_1</td>\n",
       "      <td>d_1003</td>\n",
       "      <td>0</td>\n",
       "      <td>2013-10-27</td>\n",
       "      <td>11340</td>\n",
       "      <td>2</td>\n",
       "      <td>No event</td>\n",
       "      <td>No event</td>\n",
       "      <td>No event</td>\n",
       "      <td>No event</td>\n",
       "      <td>0</td>\n",
       "      <td>0.00</td>\n",
       "    </tr>\n",
       "    <tr>\n",
       "      <th>7</th>\n",
       "      <td>7</td>\n",
       "      <td>FOODS_1_001</td>\n",
       "      <td>CA_1</td>\n",
       "      <td>d_1004</td>\n",
       "      <td>0</td>\n",
       "      <td>2013-10-28</td>\n",
       "      <td>11340</td>\n",
       "      <td>3</td>\n",
       "      <td>No event</td>\n",
       "      <td>No event</td>\n",
       "      <td>No event</td>\n",
       "      <td>No event</td>\n",
       "      <td>0</td>\n",
       "      <td>0.00</td>\n",
       "    </tr>\n",
       "    <tr>\n",
       "      <th>8</th>\n",
       "      <td>8</td>\n",
       "      <td>FOODS_1_001</td>\n",
       "      <td>CA_1</td>\n",
       "      <td>d_1005</td>\n",
       "      <td>0</td>\n",
       "      <td>2013-10-29</td>\n",
       "      <td>11340</td>\n",
       "      <td>4</td>\n",
       "      <td>No event</td>\n",
       "      <td>No event</td>\n",
       "      <td>No event</td>\n",
       "      <td>No event</td>\n",
       "      <td>0</td>\n",
       "      <td>0.00</td>\n",
       "    </tr>\n",
       "    <tr>\n",
       "      <th>9</th>\n",
       "      <td>9</td>\n",
       "      <td>FOODS_1_001</td>\n",
       "      <td>CA_1</td>\n",
       "      <td>d_1006</td>\n",
       "      <td>0</td>\n",
       "      <td>2013-10-30</td>\n",
       "      <td>11340</td>\n",
       "      <td>5</td>\n",
       "      <td>No event</td>\n",
       "      <td>No event</td>\n",
       "      <td>No event</td>\n",
       "      <td>No event</td>\n",
       "      <td>0</td>\n",
       "      <td>0.00</td>\n",
       "    </tr>\n",
       "  </tbody>\n",
       "</table>\n",
       "</div>"
      ],
      "text/plain": [
       "   Unnamed: 0      item_id store_id       d  sales        date  wm_yr_wk  \\\n",
       "0           0  FOODS_1_001     CA_1     d_1      3  2011-01-29     11101   \n",
       "1           1  FOODS_1_001     CA_1    d_10      0  2011-02-07     11102   \n",
       "2           2  FOODS_1_001     CA_1   d_100      0  2011-05-08     11115   \n",
       "3           3  FOODS_1_001     CA_1  d_1000      1  2013-10-24     11339   \n",
       "4           4  FOODS_1_001     CA_1  d_1001      0  2013-10-25     11339   \n",
       "5           5  FOODS_1_001     CA_1  d_1002      1  2013-10-26     11340   \n",
       "6           6  FOODS_1_001     CA_1  d_1003      0  2013-10-27     11340   \n",
       "7           7  FOODS_1_001     CA_1  d_1004      0  2013-10-28     11340   \n",
       "8           8  FOODS_1_001     CA_1  d_1005      0  2013-10-29     11340   \n",
       "9           9  FOODS_1_001     CA_1  d_1006      0  2013-10-30     11340   \n",
       "\n",
       "   wday  event_name_1 event_type_1 event_name_2 event_type_2  snap  \\\n",
       "0     1      No event     No event     No event     No event     0   \n",
       "1     3      No event     No event     No event     No event     1   \n",
       "2     2  Mother's day     Cultural     No event     No event     1   \n",
       "3     6      No event     No event     No event     No event     0   \n",
       "4     7      No event     No event     No event     No event     0   \n",
       "5     1      No event     No event     No event     No event     0   \n",
       "6     2      No event     No event     No event     No event     0   \n",
       "7     3      No event     No event     No event     No event     0   \n",
       "8     4      No event     No event     No event     No event     0   \n",
       "9     5      No event     No event     No event     No event     0   \n",
       "\n",
       "   price_in_dollars  \n",
       "0              6.00  \n",
       "1              0.00  \n",
       "2              0.00  \n",
       "3              2.24  \n",
       "4              0.00  \n",
       "5              2.24  \n",
       "6              0.00  \n",
       "7              0.00  \n",
       "8              0.00  \n",
       "9              0.00  "
      ]
     },
     "execution_count": 16,
     "metadata": {},
     "output_type": "execute_result"
    }
   ],
   "source": [
    "data.head(10)"
   ]
  },
  {
   "cell_type": "markdown",
   "id": "39e70503",
   "metadata": {
    "papermill": {
     "duration": 0.00417,
     "end_time": "2025-10-18T20:35:06.458938",
     "exception": false,
     "start_time": "2025-10-18T20:35:06.454768",
     "status": "completed"
    },
    "tags": []
   },
   "source": [
    "# Data-Cleaning"
   ]
  },
  {
   "cell_type": "code",
   "execution_count": 17,
   "id": "a0e122e0",
   "metadata": {
    "execution": {
     "iopub.execute_input": "2025-10-18T20:35:06.468667Z",
     "iopub.status.busy": "2025-10-18T20:35:06.468452Z",
     "iopub.status.idle": "2025-10-18T20:35:06.471991Z",
     "shell.execute_reply": "2025-10-18T20:35:06.471254Z"
    },
    "papermill": {
     "duration": 0.009427,
     "end_time": "2025-10-18T20:35:06.472613",
     "exception": false,
     "start_time": "2025-10-18T20:35:06.463186",
     "status": "completed"
    },
    "tags": []
   },
   "outputs": [
    {
     "data": {
      "text/plain": [
       "'\\ndata.drop(columns = \"sell_price\",inplace = True)\\ndata.drop(columns=\"dept_id\",inplace = True)\\ndata.drop(columns = \"cat_id\",inplace = True)\\ndata.drop(columns = \"state_id\",inplace = True)\\ndata.drop(columns=\"month\",inplace = True)\\ndata.drop(columns=\"year\",inplace = True)\\ndata.drop(columns=\"weekday\",inplace=True)\\n'"
      ]
     },
     "execution_count": 17,
     "metadata": {},
     "output_type": "execute_result"
    }
   ],
   "source": [
    "'''\n",
    "data.drop(columns = \"sell_price\",inplace = True)\n",
    "data.drop(columns=\"dept_id\",inplace = True)\n",
    "data.drop(columns = \"cat_id\",inplace = True)\n",
    "data.drop(columns = \"state_id\",inplace = True)\n",
    "data.drop(columns=\"month\",inplace = True)\n",
    "data.drop(columns=\"year\",inplace = True)\n",
    "data.drop(columns=\"weekday\",inplace=True)\n",
    "'''"
   ]
  },
  {
   "cell_type": "code",
   "execution_count": 18,
   "id": "55065dd1",
   "metadata": {
    "execution": {
     "iopub.execute_input": "2025-10-18T20:35:06.482284Z",
     "iopub.status.busy": "2025-10-18T20:35:06.482083Z",
     "iopub.status.idle": "2025-10-18T20:35:10.376064Z",
     "shell.execute_reply": "2025-10-18T20:35:10.374896Z"
    },
    "papermill": {
     "duration": 3.900718,
     "end_time": "2025-10-18T20:35:10.377627",
     "exception": false,
     "start_time": "2025-10-18T20:35:06.476909",
     "status": "completed"
    },
    "tags": []
   },
   "outputs": [],
   "source": [
    "data.drop(columns=\"Unnamed: 0\",inplace = True)"
   ]
  },
  {
   "cell_type": "code",
   "execution_count": 19,
   "id": "8664056c",
   "metadata": {
    "execution": {
     "iopub.execute_input": "2025-10-18T20:35:10.388303Z",
     "iopub.status.busy": "2025-10-18T20:35:10.388067Z",
     "iopub.status.idle": "2025-10-18T20:35:22.166145Z",
     "shell.execute_reply": "2025-10-18T20:35:22.165256Z"
    },
    "papermill": {
     "duration": 11.784733,
     "end_time": "2025-10-18T20:35:22.167368",
     "exception": false,
     "start_time": "2025-10-18T20:35:10.382635",
     "status": "completed"
    },
    "tags": []
   },
   "outputs": [],
   "source": [
    "data.fillna(0,inplace = True)"
   ]
  },
  {
   "cell_type": "code",
   "execution_count": 20,
   "id": "34a97da8",
   "metadata": {
    "execution": {
     "iopub.execute_input": "2025-10-18T20:35:22.178396Z",
     "iopub.status.busy": "2025-10-18T20:35:22.178162Z",
     "iopub.status.idle": "2025-10-18T20:35:30.674338Z",
     "shell.execute_reply": "2025-10-18T20:35:30.673240Z"
    },
    "papermill": {
     "duration": 8.50326,
     "end_time": "2025-10-18T20:35:30.675862",
     "exception": false,
     "start_time": "2025-10-18T20:35:22.172602",
     "status": "completed"
    },
    "tags": []
   },
   "outputs": [],
   "source": [
    "data.sort_values(by=[\"store_id\", \"item_id\", \"d\"], inplace=True)\n",
    "data.reset_index(drop=True, inplace=True)"
   ]
  },
  {
   "cell_type": "code",
   "execution_count": 21,
   "id": "3ccd36a5",
   "metadata": {
    "execution": {
     "iopub.execute_input": "2025-10-18T20:35:30.686504Z",
     "iopub.status.busy": "2025-10-18T20:35:30.686288Z",
     "iopub.status.idle": "2025-10-18T20:38:12.873669Z",
     "shell.execute_reply": "2025-10-18T20:38:12.872749Z"
    },
    "papermill": {
     "duration": 162.194051,
     "end_time": "2025-10-18T20:38:12.874873",
     "exception": false,
     "start_time": "2025-10-18T20:35:30.680822",
     "status": "completed"
    },
    "tags": []
   },
   "outputs": [],
   "source": [
    "data.to_csv(\"/kaggle/working/data.csv\",index= False)"
   ]
  },
  {
   "cell_type": "code",
   "execution_count": null,
   "id": "0809dcfc",
   "metadata": {
    "papermill": {
     "duration": 0.004196,
     "end_time": "2025-10-18T20:38:12.884019",
     "exception": false,
     "start_time": "2025-10-18T20:38:12.879823",
     "status": "completed"
    },
    "tags": []
   },
   "outputs": [],
   "source": []
  }
 ],
 "metadata": {
  "accelerator": "TPU",
  "colab": {
   "gpuType": "V5E1",
   "include_colab_link": true,
   "provenance": []
  },
  "kaggle": {
   "accelerator": "tpuV5e8",
   "dataSources": [
    {
     "databundleVersionId": 1236839,
     "sourceId": 18599,
     "sourceType": "competition"
    },
    {
     "databundleVersionId": 14141306,
     "datasetId": 8485735,
     "sourceId": 13427040,
     "sourceType": "datasetVersion"
    }
   ],
   "dockerImageVersionId": 31153,
   "isGpuEnabled": false,
   "isInternetEnabled": true,
   "language": "python",
   "sourceType": "notebook"
  },
  "kernelspec": {
   "display_name": "Python 3",
   "language": "python",
   "name": "python3"
  },
  "language_info": {
   "codemirror_mode": {
    "name": "ipython",
    "version": 3
   },
   "file_extension": ".py",
   "mimetype": "text/x-python",
   "name": "python",
   "nbconvert_exporter": "python",
   "pygments_lexer": "ipython3",
   "version": "3.12.11"
  },
  "papermill": {
   "default_parameters": {},
   "duration": 307.360996,
   "end_time": "2025-10-18T20:38:14.307155",
   "environment_variables": {},
   "exception": null,
   "input_path": "__notebook__.ipynb",
   "output_path": "__notebook__.ipynb",
   "parameters": {},
   "start_time": "2025-10-18T20:33:06.946159",
   "version": "2.6.0"
  }
 },
 "nbformat": 4,
 "nbformat_minor": 5
}
